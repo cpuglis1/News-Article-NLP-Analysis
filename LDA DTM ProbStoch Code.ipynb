{
 "cells": [
  {
   "cell_type": "code",
   "execution_count": 170,
   "id": "298eb42c",
   "metadata": {},
   "outputs": [
    {
     "name": "stderr",
     "output_type": "stream",
     "text": [
      "[nltk_data] Downloading package averaged_perceptron_tagger to\n",
      "[nltk_data]     /Users/cep4u/nltk_data...\n",
      "[nltk_data]   Package averaged_perceptron_tagger is already up-to-\n",
      "[nltk_data]       date!\n"
     ]
    }
   ],
   "source": [
    "import pandas as pd\n",
    "import numpy as np\n",
    "import contractions\n",
    "import string\n",
    "import nltk\n",
    "from nltk.tokenize import word_tokenize\n",
    "from nltk.corpus import stopwords, wordnet\n",
    "from nltk.stem import WordNetLemmatizer\n",
    "nltk.download('averaged_perceptron_tagger')\n",
    "from collections import Counter\n",
    "from nltk.tokenize import word_tokenize\n",
    "from nltk.probability import FreqDist\n",
    "from sklearn.feature_extraction.text import CountVectorizer\n",
    "from sklearn.feature_extraction.text import TfidfVectorizer\n",
    "from sklearn.decomposition import LatentDirichletAllocation, NMF\n",
    "import matplotlib.pyplot as plt\n",
    "import seaborn as sns\n",
    "import gensim\n",
    "from gensim import corpora\n",
    "from gensim.models.coherencemodel import CoherenceModel\n",
    "import pyLDAvis\n",
    "import pyLDAvis.gensim \n",
    "from gensim.models import LdaSeqModel\n",
    "from gensim.corpora import Dictionary\n",
    "from gensim import corpora, models\n",
    "import numpy as np\n",
    "from scipy.special import psi, polygamma"
   ]
  },
  {
   "cell_type": "markdown",
   "id": "774b8ef9",
   "metadata": {},
   "source": [
    "## Dataset Import. Adding Time Slices"
   ]
  },
  {
   "cell_type": "code",
   "execution_count": 213,
   "id": "600ce979",
   "metadata": {
    "scrolled": true
   },
   "outputs": [],
   "source": [
    "df = pd.read_json('News_Category_Dataset_v3.json', lines=True)"
   ]
  },
  {
   "cell_type": "code",
   "execution_count": 214,
   "id": "cd76a063",
   "metadata": {},
   "outputs": [],
   "source": [
    "df['date'] = pd.to_datetime(df['date'])"
   ]
  },
  {
   "cell_type": "code",
   "execution_count": 215,
   "id": "0ac78f45",
   "metadata": {},
   "outputs": [],
   "source": [
    "df['quarter'] = df['date'].dt.to_period(\"Q\")"
   ]
  },
  {
   "cell_type": "code",
   "execution_count": 216,
   "id": "3d600097",
   "metadata": {},
   "outputs": [],
   "source": [
    "time_slices = df['quarter'].value_counts().sort_index().tolist()"
   ]
  },
  {
   "cell_type": "markdown",
   "id": "c6c3a307",
   "metadata": {},
   "source": [
    "## DataCleaner"
   ]
  },
  {
   "cell_type": "code",
   "execution_count": 175,
   "id": "824c7ed7",
   "metadata": {},
   "outputs": [],
   "source": [
    "class DataCleaner:\n",
    "    def __init__(self, df, column_name, stop_words, wnl ):\n",
    "        self.df = df\n",
    "        self.column_name = column_name\n",
    "        self.stop_words = stop_words\n",
    "        self.wnl = wnl\n",
    "    \n",
    "    def remove_null(self, df, column_name):\n",
    "        df = df[df[column_name].notnull()]\n",
    "        return df\n",
    "\n",
    "    def remove_contractions(self, df, column_name):\n",
    "        df[f'RemoveContractions_{column_name}'] = df[column_name].apply(lambda x: [contractions.fix(word) for word in x.split()])\n",
    "        return df\n",
    "\n",
    "    def rebuild_string(self, df, column_name):\n",
    "        df[f'{column_name}_string_nocont'] = [' '.join(map(str, l)) for l in df[f'RemoveContractions_{column_name}']]\n",
    "        return df\n",
    "\n",
    "    def tokenize(self, df, column_name):\n",
    "        df[f'tokenized_{column_name}'] = df[f'{column_name}_string_nocont'].apply(word_tokenize)\n",
    "        return df\n",
    "    \n",
    "    def token_cleanup(self, df, column_name):\n",
    "        edge_cases = [\"``\", \"’\", \"''\", \"image\", \"title\", \"alt\", \"src\", \"width\", \"img\", \"http\", \"cbc\", \"jpg\", \"16x9_460\", \"buzzfeed\", \"com\", \"h1\", \"href\", \"href=\", 'p', '/p', '/a' \"rel\", \"www\", \"reuters\", \"timesofindia\", \"indiatimes\", \"margin\", \"nofollow\", '8217', '8230']\n",
    "        df[f'tokenized_{column_name}'] = df[f'tokenized_{column_name}'].apply(lambda x: [word.lower() for word in x])\n",
    "        df[f'tokenized_{column_name}'] = df[f'tokenized_{column_name}'].apply(lambda x: [word for word in x if word not in string.punctuation])\n",
    "        df[f'tokenized_{column_name}'] = df[f'tokenized_{column_name}'].apply(lambda x: [word for word in x if word not in self.stop_words])\n",
    "        df[f'tokenized_{column_name}'] = df[f'tokenized_{column_name}'].apply(lambda x: [word for word in x if '/' not in word])\n",
    "        df[f'tokenized_{column_name}'] = df[f'tokenized_{column_name}'].apply(lambda x: [word for word in x if word not in edge_cases])\n",
    "        return df\n",
    "\n",
    "    def make_bigrams(self, df, column_name):\n",
    "        bigram = gensim.models.Phrases(df[f'tokenized_{column_name}'], min_count=5, threshold=100)\n",
    "        bigram_mod = gensim.models.phrases.Phraser(bigram)\n",
    "\n",
    "        def get_bigrams(tokens_list):\n",
    "            return bigram_mod[tokens_list]\n",
    "\n",
    "        df[f'bigrams_{column_name}'] = df[f'tokenized_{column_name}'].apply(get_bigrams)\n",
    "        \n",
    "        return df\n",
    "        \n",
    "    def lemmatize_tokens(self, df, column_name):\n",
    "        clean_up = [\"'s\", \"--\", \"—\",\"“\",\"”\"]\n",
    "        df[f'lemmatized_{column_name}'] = df[f'bigrams_{column_name}'].apply(lambda x: [self.wnl.lemmatize(word) for word in x])\n",
    "        df[f'lemmatized_{column_name}'] = df[f'lemmatized_{column_name}'].apply(lambda x: [word for word in x if word not in clean_up])\n",
    "        return df\n",
    "\n",
    "    def clean(self):\n",
    "        df = self.remove_null(self.df, self.column_name)\n",
    "        df = self.remove_contractions(df, self.column_name)\n",
    "        df = self.rebuild_string(df, self.column_name)\n",
    "        df = self.tokenize(df, self.column_name)\n",
    "        df = self.token_cleanup(df, self.column_name)\n",
    "        df = self.make_bigrams(df, self.column_name)\n",
    "        df = self.lemmatize_tokens(df, self.column_name)\n",
    "        return df"
   ]
  },
  {
   "cell_type": "markdown",
   "id": "245435af",
   "metadata": {},
   "source": [
    "## WordNetLemmatizer"
   ]
  },
  {
   "cell_type": "code",
   "execution_count": 217,
   "id": "b8d2dd22",
   "metadata": {},
   "outputs": [],
   "source": [
    "wnl = WordNetLemmatizer()\n",
    "stop_words = set(stopwords.words('english'))\n",
    "\n",
    "desc_cleaner_news = DataCleaner(df, 'short_description', stop_words, wnl)\n",
    "cleaned_df_desc = desc_cleaner_news.clean()"
   ]
  },
  {
   "cell_type": "code",
   "execution_count": 218,
   "id": "468bbad2",
   "metadata": {},
   "outputs": [
    {
     "data": {
      "text/plain": [
       "0         [health, expert, said, early, predict, whether...\n",
       "1         [subdued, passenger, crew, fled, back, aircraf...\n",
       "2                           [dog, understand, could, eaten]\n",
       "3         [accidentally, put, grown-up, toothpaste, todd...\n",
       "4         [amy, cooper, accused, investment, firm, frank...\n",
       "                                ...                        \n",
       "209522    [verizon, wireless, already, promoting, lte, d...\n",
       "209523    [afterward, azarenka, effusive, press, normal,...\n",
       "209524    [leading, super_bowl, xlvi, talked, game, coul...\n",
       "209525    [correction_earlier, version, story, incorrect...\n",
       "209526    [five-time, all-star, center, tore, teammate, ...\n",
       "Name: lemmatized_short_description, Length: 209527, dtype: object"
      ]
     },
     "execution_count": 218,
     "metadata": {},
     "output_type": "execute_result"
    }
   ],
   "source": [
    "cleaned_df_desc['lemmatized_short_description']"
   ]
  },
  {
   "cell_type": "markdown",
   "id": "557fdc15",
   "metadata": {},
   "source": [
    "## Modeler"
   ]
  },
  {
   "cell_type": "code",
   "execution_count": 178,
   "id": "91ed5308",
   "metadata": {},
   "outputs": [],
   "source": [
    "class LDAModeler:\n",
    "    def __init__(self, df, column_name):\n",
    "        self.df = df\n",
    "        self.column_name = column_name\n",
    "    \n",
    "    def create_corpus(self, df, column_name):\n",
    "        \n",
    "        id2word = corpora.Dictionary(df[f'lemmatized_{self.column_name}'])\n",
    "\n",
    "        texts = df[f'lemmatized_{self.column_name}']\n",
    "\n",
    "        corpus = [id2word.doc2bow(text) for text in texts]\n",
    "        \n",
    "        return corpus"
   ]
  },
  {
   "cell_type": "markdown",
   "id": "6282c666",
   "metadata": {},
   "source": [
    "## Create Dictionary, Texts, and Corpus"
   ]
  },
  {
   "cell_type": "code",
   "execution_count": 179,
   "id": "3688e381",
   "metadata": {},
   "outputs": [
    {
     "name": "stdout",
     "output_type": "stream",
     "text": [
      "[(0, 1), (1, 1), (2, 1), (3, 1), (4, 1), (5, 1), (6, 1), (7, 1), (8, 1), (9, 1), (10, 1), (11, 1), (12, 1), (13, 1), (14, 1), (15, 1), (16, 1)]\n"
     ]
    }
   ],
   "source": [
    "id2word = corpora.Dictionary(cleaned_df_desc['lemmatized_short_description'])\n",
    "texts = cleaned_df_desc['lemmatized_short_description']\n",
    "corpus = [id2word.doc2bow(text) for text in texts]\n",
    "print(corpus[0])"
   ]
  },
  {
   "cell_type": "markdown",
   "id": "6dd6cce2",
   "metadata": {},
   "source": [
    "## Train Models"
   ]
  },
  {
   "cell_type": "code",
   "execution_count": 194,
   "id": "b5bbd628",
   "metadata": {},
   "outputs": [],
   "source": [
    "bigram_lda_model_10 = gensim.models.ldamodel.LdaModel(corpus=corpus,\n",
    "                                           id2word=id2word,\n",
    "                                           num_topics=10, \n",
    "                                           random_state=100,\n",
    "                                           update_every=1,\n",
    "                                           chunksize=100,\n",
    "                                           passes=10,\n",
    "                                           alpha='auto',\n",
    "                                           per_word_topics=True)"
   ]
  },
  {
   "cell_type": "markdown",
   "id": "0e38dafd",
   "metadata": {},
   "source": [
    "## Load Previously Trained Models"
   ]
  },
  {
   "cell_type": "code",
   "execution_count": 222,
   "id": "66bd177b",
   "metadata": {},
   "outputs": [],
   "source": [
    "bigram_lda_model_3 = bigram_lda_model_5.load(\"bigram_lda_model_3\")\n",
    "bigram_lda_model_4 = bigram_lda_model_5.load(\"bigram_lda_model_4\")\n",
    "bigram_lda_model_5 = bigram_lda_model_5.load(\"bigram_lda_model_5\")\n",
    "bigram_lda_model_6 = bigram_lda_model_5.load(\"bigram_lda_model_6\")\n",
    "bigram_lda_model_7 = bigram_lda_model_5.load(\"bigram_lda_model_7\")\n",
    "bigram_lda_model_8 = bigram_lda_model_5.load(\"bigram_lda_model_8\")\n",
    "bigram_lda_model_9 = bigram_lda_model_5.load(\"bigram_lda_model_9\")\n",
    "bigram_lda_model_10 = bigram_lda_model_5.load(\"bigram_lda_model_10\")\n",
    "\n",
    "lda_science = bigram_lda_model_5.load(\"bigram_lda_model_SCIENCE\")\n",
    "\n",
    "ldaseq_5 = ldaseq_5.load(\"ldaseq_5\")\n",
    "bigram_lda_model_5 = bigram_lda_model_5.load(\"bigram_lda_model_5\")"
   ]
  },
  {
   "cell_type": "markdown",
   "id": "ea85ed3d",
   "metadata": {},
   "source": [
    "## Analyze Models"
   ]
  },
  {
   "cell_type": "code",
   "execution_count": 195,
   "id": "5c2b4b92",
   "metadata": {},
   "outputs": [
    {
     "name": "stdout",
     "output_type": "stream",
     "text": [
      "[(0, '0.013*\"mission\" + 0.013*\"one\" + 0.012*\"launch\" + 0.011*\"later\" + 0.011*\"northern\" + 0.011*\"could\" + 0.011*\"russian\" + 0.011*\"man\" + 0.010*\"activity\" + 0.010*\"50\"'), (1, '0.021*\"science\" + 0.015*\"time\" + 0.012*\"last\" + 0.011*\"year\" + 0.011*\"day\" + 0.011*\"nasa\" + 0.011*\"solar\" + 0.011*\"scientist\" + 0.010*\"space\" + 0.009*\"possible\"'), (2, '0.019*\"antibiotic\" + 0.019*\"human\" + 0.015*\"new\" + 0.014*\"study\" + 0.011*\"report\" + 0.010*\"great\" + 0.010*\"different\" + 0.010*\"word\" + 0.010*\"lack\" + 0.010*\"arm\"'), (3, '0.029*\"high\" + 0.015*\"mean\" + 0.014*\"space_station\" + 0.014*\"aurora\" + 0.014*\"president\" + 0.013*\"faster\" + 0.013*\"latitude\" + 0.011*\"space.com\" + 0.010*\"even\" + 0.009*\"look\"'), (4, '0.019*\"photo\" + 0.016*\"researcher\" + 0.016*\"1\" + 0.015*\"evolution\" + 0.014*\"seen\" + 0.013*\"earth\" + 0.012*\"borealis\" + 0.010*\"moon\" + 0.008*\"see\" + 0.008*\"found\"')]\n"
     ]
    }
   ],
   "source": [
    "print(lda_science.print_topics())\n",
    "doc_lda = bigram_lda_model_10[corpus]"
   ]
  },
  {
   "cell_type": "code",
   "execution_count": 223,
   "id": "b59f0d90",
   "metadata": {},
   "outputs": [
    {
     "name": "stdout",
     "output_type": "stream",
     "text": [
      "\n",
      "Coherence Score: 0.2891055713636538\n"
     ]
    }
   ],
   "source": [
    "tp_mod_coh = CoherenceModel(model=bigram_lda_model_10, texts= cleaned_df_desc['lemmatized_short_description'], dictionary=id2word, coherence='c_v')\n",
    "tp_mod_sc = tp_mod_coh.get_coherence()\n",
    "print('\\nCoherence Score: ', tp_mod_sc)"
   ]
  },
  {
   "cell_type": "markdown",
   "id": "37f046aa",
   "metadata": {},
   "source": [
    "## Visualize LDA"
   ]
  },
  {
   "cell_type": "code",
   "execution_count": 185,
   "id": "10bfbacf",
   "metadata": {},
   "outputs": [],
   "source": [
    "models = [bigram_lda_model_3,bigram_lda_model_4,bigram_lda_model_5,bigram_lda_model_6,bigram_lda_model_7,bigram_lda_model_8,bigram_lda_model_9,bigram_lda_model_10]\n",
    "coh = []\n",
    "for model in models:\n",
    "    bigram_coherence_model_lda = CoherenceModel(model=model, texts= cleaned_df_desc['lemmatized_short_description'], dictionary=id2word, coherence='c_v')\n",
    "    bigram_coherence_lda = bigram_coherence_model_lda.get_coherence()\n",
    "    coh.append(bigram_coherence_lda)"
   ]
  },
  {
   "cell_type": "code",
   "execution_count": 187,
   "id": "6b98a89b",
   "metadata": {},
   "outputs": [
    {
     "data": {
      "image/png": "[encoded data removed]",
      "text/plain": [
       "<Figure size 720x432 with 1 Axes>"
      ]
     },
     "metadata": {
      "needs_background": "light"
     },
     "output_type": "display_data"
    }
   ],
   "source": [
    "clusters = list(range(3, 11))\n",
    "\n",
    "plt.figure(figsize=(10, 6))\n",
    "plt.plot(clusters, coh, marker='o')\n",
    "\n",
    "plt.title('LDA Coherence Scores by Number of Clusters')\n",
    "plt.xlabel('Number of Clusters')\n",
    "plt.ylabel('Coherence Score')\n",
    "plt.ylim(0.2, 0.6)\n",
    "plt.savefig('LDA coherence_scores_by_number_of_clusters.png')\n",
    "plt.show()"
   ]
  },
  {
   "cell_type": "markdown",
   "id": "5ec38bf8",
   "metadata": {},
   "source": [
    "## 10 Cluster LDA"
   ]
  },
  {
   "cell_type": "code",
   "execution_count": 197,
   "id": "5cb6059a",
   "metadata": {},
   "outputs": [
    {
     "data": {
      "text/html": [
       "\n",
       "<link rel=\"stylesheet\" type=\"text/css\" href=\"https://cdn.jsdelivr.net/gh/bmabey/pyLDAvis@3.4.0/pyLDAvis/js/ldavis.v1.0.0.css\">\n",
       "\n",
       "\n",
       "<div id=\"ldavis_el868862866454401729281037\" style=\"background-color:white;\"></div>\n",
       "<script type=\"text/javascript\">\n",
       "\n",
       "var ldavis_el868862866454401729281037_data = {\"mdsDat\": {\"x\": [-0.1845469887526218, -0.33694615897221125, -0.09835563465423061, -0.0005460688075377518, 0.08274101285619792, 0.061680745386690404, 0.08981178416124805, 0.11676446147251342, 0.1396694611432393, 0.12972738616671226], \"y\": [-0.1849748511793503, 0.2090842529821908, -0.30270212138925784, 0.227137566295293, 0.015200274006819147, -0.016868932741094977, 0.01325288689892256, 0.005377570764890776, 0.015595602380195831, 0.018897751981391174], \"topics\": [1, 2, 3, 4, 5, 6, 7, 8, 9, 10], \"cluster\": [1, 1, 1, 1, 1, 1, 1, 1, 1, 1], \"Freq\": [15.826310543342325, 15.550555727483536, 12.762331824900802, 12.35974852514164, 9.343574156778182, 9.131295900382769, 6.9064186331637245, 6.802153358142757, 5.960034395704021, 5.357576934960244]}, \"tinfo\": {\"Term\": [\"one\", \"day\", \"time\", \"like\", \"week\", \"look\", \"u\", \"year\", \"people\", \"many\", \"life\", \"new\", \"way\", \"make\", \"take\", \"may\", \"love\", \"get\", \"woman\", \"even\", \"would\", \"fashion\", \"two\", \"know\", \"back\", \"see\", \"want\", \"thing\", \"best\", \"every\", \"make\", \"get\", \"say\", \"work\", \"help\", \"said\", \"night\", \"often\", \"new_york\", \"might\", \"video\", \"getting\", \"read\", \"...\", \"question\", \"yet\", \"thought\", \"recent\", \"sure\", \"use\", \"call\", \"sleep\", \"company\", \"must\", \"designer\", \"fact\", \"wear\", \"everything\", \"sunday\", \"course\", \"new\", \"love\", \"would\", \"know\", \"child\", \"need\", \"world\", \"think\", \"today\", \"wedding\", \"health\", \"feel\", \"divorce\", \"couple\", \"going\", \"heart\", \"whether\", \"mom\", \"different\", \"old\", \"everyone\", \"issue\", \"five\", \"le\", \"become\", \"watch\", \"fall\", \"try\", \"hard\", \"idea\", \"time\", \"year\", \"life\", \"may\", \"fashion\", \"want\", \"first\", \"come\", \"home\", \"last\", \"still\", \"2012\", \"made\", \"since\", \"give\", \"ever\", \"city\", \"star\", \"spring\", \"state\", \"problem\", \"celebrity\", \"face\", \"top\", \"seems\", \"season\", \"thinking\", \"public\", \"bit\", \"least\", \"sure_check\", \"one\", \"people\", \"way\", \"thing\", \"could\", \"find\", \"little\", \"check\", \"food\", \"parent\", \"always\", \"big\", \"another\", \"found\", \"looking\", \"study\", \"friend\", \"without\", \"moment\", \"end\", \"easy\", \"sometimes\", \"tell\", \"recently\", \"february\", \"almost\", \"feeling\", \"eat\", \"million\", \"research\", \"many\", \"take\", \"back\", \"show\", \"go\", \"really\", \"around\", \"style\", \"long\", \"live\", \"experience\", \"favorite\", \"keep\", \"important\", \"making\", \"person\", \"story\", \"living\", \"actress\", \"learn\", \"step\", \"away\", \"high\", \"someone\", \"pick\", \"mind\", \"list\", \"stop\", \"morning\", \"job\", \"like\", \"look\", \"u\", \"see\", \"also\", \"much\", \"good\", \"something\", \"never\", \"better\", \"place\", \"mean\", \"dress\", \"lot\", \"valentine\", \"news\", \"put\", \"turn\", \"together\", \"reason\", \"set\", \"film\", \"pretty\", \"bad\", \"four\", \"piece\", \"red\", \"head\", \"far\", \"10\", \"even\", \"best\", \"every\", \"marriage\", \"though\", \"game\", \"point\", \"color\", \"called\", \"case\", \"party\", \"known\", \"true\", \"remember\", \"death\", \"you.s\", \"process\", \"social\", \"rather\", \"open\", \"left\", \"celebrate\", \"future\", \"perhaps\", \"rest\", \"famous\", \"visit\", \"support\", \"lost\", \"possible\", \"two\", \"great\", \"kid\", \"well\", \"american\", \"let\", \"change\", \"relationship\", \"three\", \"black\", \"money\", \"start\", \"told\", \"word\", \"enough\", \"weekend\", \"model\", \"create\", \"small\", \"number\", \"hotel\", \"however\", \"america\", \"talk\", \"ask\", \"white\", \"bank\", \"name\", \"hope\", \"major\", \"day\", \"photo\", \"according\", \"month\", \"got\", \"mother\", \"girl\", \"report\", \"past\", \"simple\", \"body\", \"men\", \"room\", \"baby\", \"march\", \"choice\", \"fear\", \"fun\", \"husband\", \"travel\", \"result\", \"business\", \"son\", \"side\", \"hand\", \"alone\", \"begin\", \"online\", \"surprise\", \"eye\", \"week\", \"woman\", \"right\", \"family\", \"part\", \"next\", \"taking\", \"country\", \"matter\", \"cover\", \"actually\", \"daughter\", \"married\", \"seen\", \"beauty\", \"click\", \"national\", \"benefit\", \"challenge\", \"member\", \"store\", \"exercise\", \"quite\", \"coming\", \"within\", \"wife\", \"quality\", \"interview\", \"available\", \"watching\"], \"Freq\": [16935.0, 11340.0, 13061.0, 10795.0, 8559.0, 9578.0, 9496.0, 10393.0, 9205.0, 7611.0, 8722.0, 9623.0, 8529.0, 9080.0, 6995.0, 7996.0, 8516.0, 8498.0, 5276.0, 5602.0, 8010.0, 7109.0, 5410.0, 7452.0, 5825.0, 5526.0, 6426.0, 6160.0, 4752.0, 4740.0, 9079.839586968495, 8497.473269955264, 5210.237380023594, 3950.476420447397, 3886.8062075692906, 3718.266601741763, 3489.875604709935, 3251.0277556823416, 3158.0021658370524, 2869.7974266073165, 2675.712491353567, 2606.910686998256, 2585.6048590333676, 2455.3345110254577, 2207.7567188758117, 2142.5346011918405, 2106.8251567475213, 1987.8617944432774, 1965.9494346042218, 1945.2694416057607, 1912.6960317701673, 1826.9930141384875, 1798.0291230259095, 1777.3770477228663, 1755.6617070486177, 1732.0690210047746, 1672.6521886708665, 1649.4163705393096, 1641.6193570332825, 1609.5219837869881, 9623.11447412452, 8515.823819927773, 8010.024571072552, 7451.769851379488, 6362.375666315604, 6200.154390595829, 5699.031309865644, 5508.568060311597, 4345.469364753463, 3592.985945295181, 3579.138017002134, 3456.0572340693493, 3037.1138266848648, 2927.592551914058, 2881.170077817846, 2778.872786829904, 2702.636449185091, 2120.7731310133436, 2076.7882772748835, 2061.3070132395837, 1955.4143458677597, 1942.9672929613255, 1901.0084338935574, 1865.3327446811106, 1860.5009237353397, 1820.5481520792173, 1794.3166546585853, 1791.4355883493147, 1702.979642151428, 1692.8234915360706, 13060.537927309226, 10392.780501387728, 8722.153214325175, 7995.333356648193, 7108.515010404232, 6426.099183124419, 5701.64587316677, 5254.74245297192, 5224.467726179321, 5136.189166929494, 3886.9509413821575, 3257.85293507749, 3221.1909994207454, 3069.7520139551716, 2666.1107738880414, 2655.529748126189, 2485.158380905961, 2289.4205963997324, 2157.005973642244, 2020.1034522254486, 1952.1597591418945, 1923.415518227578, 1734.9194006172302, 1710.695348179439, 1707.6185531259896, 1627.3338462751374, 1469.745130043368, 1416.3708340492615, 1309.6909383255693, 1282.9840433685836, 1536.3417845767415, 16934.852438211896, 9204.852537801986, 8529.18331736341, 6159.88433260322, 4988.665778178137, 4077.0830370587714, 3999.6125736326885, 3802.701896764004, 3704.7164991293193, 3430.6580382277416, 3365.364174482292, 2991.0495998764222, 2680.2620013116675, 2625.5313402809006, 2622.128380842446, 2501.054587398489, 2465.8319513656043, 2299.702147701226, 2299.65355891229, 2148.326890437131, 2089.7737867567616, 2089.115221786722, 2066.5880887829794, 1812.3793940281334, 1640.7411167380744, 1572.7698861356141, 1543.717652537684, 1493.7682529248561, 1464.0623132357796, 1450.3581567829817, 7610.529385445963, 6994.849522784363, 5824.413342481235, 5177.162413933527, 4287.290620580942, 4071.5229812992734, 3547.4795294043743, 3345.3391137597578, 2735.065007815179, 2509.425994892299, 2378.1940832215423, 2303.478493422618, 2232.715597154601, 2196.119464297277, 2181.43983412395, 2149.410848014165, 2112.7634793276184, 1808.2137547211964, 1741.1102645351905, 1703.686823729537, 1637.46960036887, 1576.954811780465, 1544.067813898221, 1503.2843763875758, 1452.5916092813507, 1414.3782513806793, 1395.9785609451585, 1350.1086488150377, 1322.4979995076235, 1285.106863645763, 10794.525878802851, 9578.149467538078, 9495.963245375418, 5526.196335405809, 5024.110996913306, 4587.097267871541, 4584.201571862522, 4147.711387604587, 3259.716844486327, 3080.5956797000695, 2727.5945046776365, 2661.0085916432886, 2482.181966819805, 2316.2698148390887, 2178.50666301318, 2119.000938421482, 2050.4570709845957, 1842.3702939967402, 1800.654046806668, 1706.2642976363875, 1703.5044581851978, 1645.3006002289594, 1582.3888891427366, 1548.20844690023, 1457.7237453738987, 1386.8323944337058, 1386.686873283348, 1357.5053264715414, 1280.1245238015363, 1269.0021425447705, 5601.443834204249, 4751.5739836358425, 4739.833231278117, 2913.3016473198168, 1957.9891919767358, 1861.2492576798286, 1840.843427974839, 1794.9344185362045, 1588.328142641065, 1573.1185189745736, 1541.0724637275014, 1449.5082680980404, 1419.9905597280606, 1336.576415557964, 1221.5669160053887, 1211.9384798805156, 1211.5409673338943, 1178.5791712745176, 1127.7764412641225, 1111.5631506300933, 1073.720373893182, 1047.2606578389455, 1014.1984741977427, 996.3407625718141, 984.8571054565882, 976.3270152945955, 954.1000768843397, 939.826104465938, 920.4173977391024, 914.0646460023518, 5409.232204989173, 3549.2589930383288, 3413.421420738851, 3397.2730515920007, 3284.914641403352, 2972.6070635518786, 2526.9028598403534, 2342.333848855071, 2313.0600444552315, 2211.2990443728977, 2032.535509090599, 1884.5801461694175, 1881.674322851921, 1844.0771653572833, 1689.5430403863816, 1533.8745609802586, 1526.7448032679756, 1473.6126672682608, 1403.7887087093675, 1384.6352328055748, 1366.263682553333, 1354.3696910658512, 1336.4220152767705, 1333.1090475784506, 1276.0731799893456, 1239.3466724353775, 1227.0614438584753, 1205.6491325754564, 1196.2577968474984, 1146.8438530814126, 11340.002009157219, 4244.764475926158, 2729.5890652527305, 2709.0541543840195, 2669.220243410509, 2568.2912958701904, 2113.8440482991123, 2012.145750513672, 1992.266643742708, 1964.7374103503664, 1705.5030249134556, 1638.3990541347855, 1587.1249783106466, 1505.3928994198175, 1437.0209365848027, 1423.7486535805556, 1406.6028248630103, 1366.798111470253, 1361.7577439186944, 1324.1111282539769, 1243.8022812315644, 1163.6864025823625, 1101.394745823275, 1070.7939990284565, 1055.407354589973, 1053.1963888144783, 1027.1929993644771, 952.7832652008055, 939.1932332158891, 910.0444352516276, 8559.01752871178, 5275.590483424698, 3825.398867737047, 3744.6188809040123, 2838.408272470535, 2009.1623383217704, 1676.4003128982129, 1633.0173880267637, 1534.649635535293, 1447.4437568228032, 1419.2239018959044, 1392.4815030993564, 1373.2950951289595, 1361.8060618632599, 1271.6577999427132, 1183.4492729914598, 1148.614510304697, 1122.561317412657, 1121.9881132541827, 1038.219731347346, 996.0497483827494, 984.1341872817728, 960.6903856210461, 955.1089086861832, 945.5758117509548, 912.6933130861296, 822.3081332606248, 790.39128972654, 783.8302244903238, 773.4723702620654], \"Total\": [16935.0, 11340.0, 13061.0, 10795.0, 8559.0, 9578.0, 9496.0, 10393.0, 9205.0, 7611.0, 8722.0, 9623.0, 8529.0, 9080.0, 6995.0, 7996.0, 8516.0, 8498.0, 5276.0, 5602.0, 8010.0, 7109.0, 5410.0, 7452.0, 5825.0, 5526.0, 6426.0, 6160.0, 4752.0, 4740.0, 9080.622049565996, 8498.25572795011, 5211.019845009626, 3951.258868342716, 3887.588647546375, 3719.049053552715, 3490.6581148318796, 3251.8102154712988, 3158.7846686138487, 2870.5798858491985, 2676.4949840824297, 2607.693154079289, 2586.387353298109, 2456.1169745250036, 2208.539191006327, 2143.3170669964716, 2107.607607220445, 1988.6442931512313, 1966.7318809313253, 1946.051887766033, 1913.4784991972947, 1827.7754607640318, 1798.8115926257992, 1778.1595639328907, 1756.4441995981904, 1732.8514912884998, 1673.4346596226146, 1650.198832978902, 1642.4019397948348, 1610.3044970822862, 9623.89644664125, 8516.605827847905, 8010.806513102069, 7452.551793900533, 6363.157612826801, 6200.936346084821, 5699.813263762237, 5509.350015224906, 4346.251382607668, 3593.767868805394, 3579.9199823744184, 3456.839162103909, 3037.89578380723, 2928.3745464648327, 2881.9520281209966, 2779.654839990991, 2703.418407540809, 2121.5550531911904, 2077.570222571892, 2062.0889656511476, 1956.1963010521192, 1943.749287157822, 1901.7904028577093, 1866.1147046982749, 1861.2828701066312, 1821.330155820368, 1795.0986623868603, 1792.2175585145942, 1703.761578094219, 1693.6054430837735, 13061.319703336025, 10393.562289956079, 8722.934984710917, 7996.115145734549, 7109.296877677492, 6426.880921267646, 5702.427653041229, 5255.524230506753, 5225.249511806777, 5136.970948091176, 3887.732723613141, 3258.6347695916743, 3221.9727825343343, 3070.533810528763, 2666.8925704371172, 2656.311512900304, 2485.9401328082763, 2290.2024019331798, 2157.7877730439127, 2020.8852744696246, 1952.9415349084604, 1924.197320546323, 1735.7011794521457, 1711.4771258992996, 1708.400327036983, 1628.1156005597159, 1470.5268900595197, 1417.1526298085987, 1310.4727450018063, 1283.7657870071507, 1539.1185521925056, 16935.632667645124, 9205.632762610443, 8529.963547911748, 6160.664534662036, 4989.446007724352, 4077.8632514644464, 4000.392795754276, 3803.4821262588334, 3705.4967196443995, 3431.4382530724365, 3366.1444062738883, 2991.829841965566, 2681.0422127935403, 2626.3115713077664, 2622.9086430510965, 2501.8348107159177, 2466.6121488891586, 2300.4823785838557, 2300.433775667048, 2149.10711960995, 2090.5540117350674, 2089.8954453138463, 2067.368310812396, 1813.1596251414082, 1641.5215870723707, 1573.5501329272965, 1544.4978613217538, 1494.5484951980636, 1464.8425502419311, 1451.1384395651628, 7611.312124589716, 6995.632254176984, 5825.196090335585, 5177.945205410927, 4288.073356424993, 4072.305739509692, 3548.262272240143, 3346.1218654837835, 2735.8477362617205, 2510.2087428701684, 2378.9768189920296, 2304.2612431968587, 2233.4983337687445, 2196.902190912723, 2182.2225786164645, 2150.193577499079, 2113.5462232820223, 1808.9964717016464, 1741.8930825304415, 1704.469576803713, 1638.2523756541248, 1577.7375249638158, 1544.8505776325203, 1504.0671100331713, 1453.3743617871205, 1415.1609626085558, 1396.76127806755, 1350.891399096154, 1323.2807580801598, 1285.8895701811032, 10795.310861660191, 9578.934477582421, 9496.748225085821, 5526.981301355001, 5024.8959963375155, 4587.8822415534205, 4584.986542932438, 4148.4963680463225, 3260.501823504832, 3081.3806614434957, 2728.3795121971857, 2661.7935756251327, 2482.9669503855725, 2317.0547818327955, 2179.292657522509, 2119.785918732561, 2051.2420917393865, 1843.1552891685637, 1801.439055776363, 1707.0492864731943, 1704.2894657436755, 1646.0856443532548, 1583.1739017966875, 1548.9934687056566, 1458.5087983040005, 1387.6174050878699, 1387.4719158065675, 1358.2903183728781, 1280.9095289869383, 1269.78715489058, 5602.224363546923, 4752.354522186747, 4740.613767436309, 2914.082223810014, 1958.76972256589, 1862.0298651722635, 1841.6239797570863, 1795.7149816854162, 1589.1087003828954, 1573.899069765762, 1541.8530209181006, 1450.2888117495447, 1420.771109638332, 1337.3569420974936, 1222.347484395164, 1212.7189684056204, 1212.3214980221794, 1179.359721640673, 1128.5569668197927, 1112.3436971123672, 1074.5009062613897, 1048.0411827126331, 1014.9790047865465, 997.1212907161072, 985.6376449986916, 977.1075583453656, 954.8806179280356, 940.6066079125708, 921.197909171373, 914.8451653866082, 5410.01730023354, 3550.044066579509, 3414.206461132628, 3398.058142778253, 3285.699719520409, 2973.3921165904694, 2527.6879104853824, 2343.1189137964725, 2313.845124844872, 2212.0841465003646, 2033.3205522835592, 1885.3651777134664, 1882.4593634180662, 1844.862249310382, 1690.3280824434107, 1534.659600043056, 1527.5298981057347, 1474.3977630595457, 1404.5737713256167, 1385.4202620196133, 1367.0487381865921, 1355.1547409331292, 1337.2070465061677, 1333.8941140997117, 1276.8582386486257, 1240.1317311707628, 1227.8465256389657, 1206.4341730862166, 1197.0428521241572, 1147.6289989529216, 11340.788323354078, 4245.55080727452, 2730.3753942851317, 2709.840459949045, 2670.0065586291835, 2569.077572976845, 2114.6303567187215, 2012.9320895492622, 1993.0529479964064, 1965.5237672248202, 1706.2892973667356, 1639.1853381315605, 1587.9113547601582, 1506.1791903448855, 1437.8073330891302, 1424.5349833981095, 1407.3890780604677, 1367.5844418289548, 1362.544059869334, 1324.8974188403597, 1244.5886155868566, 1164.4727032294736, 1102.1810390593691, 1071.580308181203, 1056.1936523816273, 1053.982743007398, 1027.9793434936082, 953.5695548991371, 939.9796117342173, 910.8307051807537, 8559.802191899158, 5276.375138792354, 3826.183525453822, 3745.4035144527843, 2839.1929241302983, 2009.946990707496, 1677.184982160681, 1633.8020253764942, 1535.4342853531261, 1448.2284546695892, 1420.0085567214296, 1393.266142449861, 1374.0797709495776, 1362.5907295162442, 1272.4424814308381, 1184.2338882350807, 1149.3991505214158, 1123.346002338807, 1122.7727725316183, 1039.0043741697832, 996.8344178862149, 984.9188247709511, 961.4750269928452, 955.8935622660067, 946.3604877373876, 913.4779869634407, 823.0928676332688, 791.1759789931627, 784.614930370659, 774.2570976605227], \"Category\": [\"Default\", \"Default\", \"Default\", \"Default\", \"Default\", \"Default\", \"Default\", \"Default\", \"Default\", \"Default\", \"Default\", \"Default\", \"Default\", \"Default\", \"Default\", \"Default\", \"Default\", \"Default\", \"Default\", \"Default\", \"Default\", \"Default\", \"Default\", \"Default\", \"Default\", \"Default\", \"Default\", \"Default\", \"Default\", \"Default\", \"Topic1\", \"Topic1\", \"Topic1\", \"Topic1\", \"Topic1\", \"Topic1\", \"Topic1\", \"Topic1\", \"Topic1\", \"Topic1\", \"Topic1\", \"Topic1\", \"Topic1\", \"Topic1\", \"Topic1\", \"Topic1\", \"Topic1\", \"Topic1\", \"Topic1\", \"Topic1\", \"Topic1\", \"Topic1\", \"Topic1\", \"Topic1\", \"Topic1\", \"Topic1\", \"Topic1\", \"Topic1\", \"Topic1\", \"Topic1\", \"Topic2\", \"Topic2\", \"Topic2\", \"Topic2\", \"Topic2\", \"Topic2\", \"Topic2\", \"Topic2\", \"Topic2\", \"Topic2\", \"Topic2\", \"Topic2\", \"Topic2\", \"Topic2\", \"Topic2\", \"Topic2\", \"Topic2\", \"Topic2\", \"Topic2\", \"Topic2\", \"Topic2\", \"Topic2\", \"Topic2\", \"Topic2\", \"Topic2\", \"Topic2\", \"Topic2\", \"Topic2\", \"Topic2\", \"Topic2\", \"Topic3\", \"Topic3\", \"Topic3\", \"Topic3\", \"Topic3\", \"Topic3\", \"Topic3\", \"Topic3\", \"Topic3\", \"Topic3\", \"Topic3\", \"Topic3\", \"Topic3\", \"Topic3\", \"Topic3\", \"Topic3\", \"Topic3\", \"Topic3\", \"Topic3\", \"Topic3\", \"Topic3\", \"Topic3\", \"Topic3\", \"Topic3\", \"Topic3\", \"Topic3\", \"Topic3\", \"Topic3\", \"Topic3\", \"Topic3\", \"Topic3\", \"Topic4\", \"Topic4\", \"Topic4\", \"Topic4\", \"Topic4\", \"Topic4\", \"Topic4\", \"Topic4\", \"Topic4\", \"Topic4\", \"Topic4\", \"Topic4\", \"Topic4\", \"Topic4\", \"Topic4\", \"Topic4\", \"Topic4\", \"Topic4\", \"Topic4\", \"Topic4\", \"Topic4\", \"Topic4\", \"Topic4\", \"Topic4\", \"Topic4\", \"Topic4\", \"Topic4\", \"Topic4\", \"Topic4\", \"Topic4\", \"Topic5\", \"Topic5\", \"Topic5\", \"Topic5\", \"Topic5\", \"Topic5\", \"Topic5\", \"Topic5\", \"Topic5\", \"Topic5\", \"Topic5\", \"Topic5\", \"Topic5\", \"Topic5\", \"Topic5\", \"Topic5\", \"Topic5\", \"Topic5\", \"Topic5\", \"Topic5\", \"Topic5\", \"Topic5\", \"Topic5\", \"Topic5\", \"Topic5\", \"Topic5\", \"Topic5\", \"Topic5\", \"Topic5\", \"Topic5\", \"Topic6\", \"Topic6\", \"Topic6\", \"Topic6\", \"Topic6\", \"Topic6\", \"Topic6\", \"Topic6\", \"Topic6\", \"Topic6\", \"Topic6\", \"Topic6\", \"Topic6\", \"Topic6\", \"Topic6\", \"Topic6\", \"Topic6\", \"Topic6\", \"Topic6\", \"Topic6\", \"Topic6\", \"Topic6\", \"Topic6\", \"Topic6\", \"Topic6\", \"Topic6\", \"Topic6\", \"Topic6\", \"Topic6\", \"Topic6\", \"Topic7\", \"Topic7\", \"Topic7\", \"Topic7\", \"Topic7\", \"Topic7\", \"Topic7\", \"Topic7\", \"Topic7\", \"Topic7\", \"Topic7\", \"Topic7\", \"Topic7\", \"Topic7\", \"Topic7\", \"Topic7\", \"Topic7\", \"Topic7\", \"Topic7\", \"Topic7\", \"Topic7\", \"Topic7\", \"Topic7\", \"Topic7\", \"Topic7\", \"Topic7\", \"Topic7\", \"Topic7\", \"Topic7\", \"Topic7\", \"Topic8\", \"Topic8\", \"Topic8\", \"Topic8\", \"Topic8\", \"Topic8\", \"Topic8\", \"Topic8\", \"Topic8\", \"Topic8\", \"Topic8\", \"Topic8\", \"Topic8\", \"Topic8\", \"Topic8\", \"Topic8\", \"Topic8\", \"Topic8\", \"Topic8\", \"Topic8\", \"Topic8\", \"Topic8\", \"Topic8\", \"Topic8\", \"Topic8\", \"Topic8\", \"Topic8\", \"Topic8\", \"Topic8\", \"Topic8\", \"Topic9\", \"Topic9\", \"Topic9\", \"Topic9\", \"Topic9\", \"Topic9\", \"Topic9\", \"Topic9\", \"Topic9\", \"Topic9\", \"Topic9\", \"Topic9\", \"Topic9\", \"Topic9\", \"Topic9\", \"Topic9\", \"Topic9\", \"Topic9\", \"Topic9\", \"Topic9\", \"Topic9\", \"Topic9\", \"Topic9\", \"Topic9\", \"Topic9\", \"Topic9\", \"Topic9\", \"Topic9\", \"Topic9\", \"Topic9\", \"Topic10\", \"Topic10\", \"Topic10\", \"Topic10\", \"Topic10\", \"Topic10\", \"Topic10\", \"Topic10\", \"Topic10\", \"Topic10\", \"Topic10\", \"Topic10\", \"Topic10\", \"Topic10\", \"Topic10\", \"Topic10\", \"Topic10\", \"Topic10\", \"Topic10\", \"Topic10\", \"Topic10\", \"Topic10\", \"Topic10\", \"Topic10\", \"Topic10\", \"Topic10\", \"Topic10\", \"Topic10\", \"Topic10\", \"Topic10\"], \"logprob\": [30.0, 29.0, 28.0, 27.0, 26.0, 25.0, 24.0, 23.0, 22.0, 21.0, 20.0, 19.0, 18.0, 17.0, 16.0, 15.0, 14.0, 13.0, 12.0, 11.0, 10.0, 9.0, 8.0, 7.0, 6.0, 5.0, 4.0, 3.0, 2.0, 1.0, -3.6305, -3.6968, -4.1859, -4.4627, -4.4789, -4.5233, -4.5867, -4.6576, -4.6866, -4.7823, -4.8523, -4.8784, -4.8866, -4.9383, -5.0445, -5.0745, -5.0913, -5.1495, -5.1606, -5.1711, -5.188, -5.2339, -5.2498, -5.2614, -5.2737, -5.2872, -5.3221, -5.3361, -5.3408, -5.3606, -3.5548, -3.677, -3.7383, -3.8105, -3.9685, -3.9944, -4.0787, -4.1126, -4.3498, -4.54, -4.5438, -4.5788, -4.708, -4.7448, -4.7608, -4.7969, -4.8247, -5.0672, -5.0881, -5.0956, -5.1483, -5.1547, -5.1766, -5.1955, -5.1981, -5.2198, -5.2343, -5.2359, -5.2866, -5.2926, -3.0518, -3.2802, -3.4555, -3.5425, -3.6601, -3.761, -3.8806, -3.9622, -3.968, -3.985, -4.2637, -4.4403, -4.4516, -4.4998, -4.6407, -4.6447, -4.711, -4.7931, -4.8526, -4.9182, -4.9524, -4.9672, -5.0704, -5.0845, -5.0863, -5.1344, -5.2363, -5.2733, -5.3516, -5.3722, -5.1919, -2.7599, -3.3696, -3.4458, -3.7712, -3.9821, -4.1839, -4.2031, -4.2536, -4.2797, -4.3565, -4.3758, -4.4937, -4.6034, -4.624, -4.6253, -4.6726, -4.6868, -4.7565, -4.7565, -4.8246, -4.8522, -4.8526, -4.8634, -4.9947, -5.0942, -5.1365, -5.1551, -5.188, -5.2081, -5.2175, -3.28, -3.3644, -3.5475, -3.6653, -3.8539, -3.9055, -4.0433, -4.102, -4.3034, -4.3895, -4.4432, -4.4751, -4.5063, -4.5228, -4.5296, -4.5443, -4.5615, -4.7172, -4.755, -4.7767, -4.8164, -4.854, -4.8751, -4.9019, -4.9362, -4.9629, -4.9759, -5.0094, -5.03, -5.0587, -2.9075, -3.0271, -3.0357, -3.5771, -3.6723, -3.7633, -3.7639, -3.864, -4.1049, -4.1614, -4.2831, -4.3079, -4.3774, -4.4466, -4.5079, -4.5356, -4.5685, -4.6755, -4.6984, -4.7523, -4.7539, -4.7886, -4.8276, -4.8495, -4.9097, -4.9595, -4.9596, -4.9809, -5.0396, -5.0483, -3.2843, -3.4488, -3.4513, -3.938, -4.3354, -4.3861, -4.3971, -4.4223, -4.5446, -4.5542, -4.5748, -4.6361, -4.6567, -4.7172, -4.8072, -4.8151, -4.8154, -4.843, -4.8871, -4.9015, -4.9362, -4.9611, -4.9932, -5.011, -5.0226, -5.0313, -5.0543, -5.0694, -5.0902, -5.0972, -3.304, -3.7254, -3.7644, -3.7691, -3.8028, -3.9027, -4.0651, -4.1409, -4.1535, -4.1985, -4.2828, -4.3584, -4.3599, -4.3801, -4.4676, -4.5643, -4.569, -4.6044, -4.6529, -4.6667, -4.68, -4.6888, -4.7021, -4.7046, -4.7483, -4.7775, -4.7875, -4.8051, -4.8129, -4.8551, -2.4316, -3.4142, -3.8558, -3.8633, -3.8781, -3.9167, -4.1114, -4.1607, -4.1707, -4.1846, -4.3261, -4.3662, -4.398, -4.4509, -4.4974, -4.5066, -4.5188, -4.5475, -4.5512, -4.5792, -4.6418, -4.7083, -4.7634, -4.7915, -4.806, -4.8081, -4.8331, -4.9083, -4.9227, -4.9542, -2.6064, -3.0903, -3.4117, -3.433, -3.7101, -4.0556, -4.2367, -4.2629, -4.3251, -4.3836, -4.4033, -4.4223, -4.4362, -4.4446, -4.513, -4.5849, -4.6148, -4.6378, -4.6383, -4.7159, -4.7573, -4.7694, -4.7935, -4.7993, -4.8093, -4.8447, -4.949, -4.9886, -4.9969, -5.0102], \"loglift\": [30.0, 29.0, 28.0, 27.0, 26.0, 25.0, 24.0, 23.0, 22.0, 21.0, 20.0, 19.0, 18.0, 17.0, 16.0, 15.0, 14.0, 13.0, 12.0, 11.0, 10.0, 9.0, 8.0, 7.0, 6.0, 5.0, 4.0, 3.0, 2.0, 1.0, 1.8434, 1.8434, 1.8433, 1.8433, 1.8433, 1.8433, 1.8433, 1.8433, 1.8432, 1.8432, 1.8432, 1.8432, 1.8432, 1.8432, 1.8431, 1.8431, 1.8431, 1.8431, 1.8431, 1.8431, 1.8431, 1.8431, 1.8431, 1.8431, 1.8431, 1.843, 1.843, 1.843, 1.843, 1.843, 1.861, 1.861, 1.861, 1.861, 1.861, 1.8609, 1.8609, 1.8609, 1.8609, 1.8609, 1.8609, 1.8608, 1.8608, 1.8608, 1.8608, 1.8608, 1.8608, 1.8607, 1.8607, 1.8607, 1.8607, 1.8607, 1.8607, 1.8607, 1.8607, 1.8606, 1.8606, 1.8606, 1.8606, 1.8606, 2.0586, 2.0586, 2.0586, 2.0586, 2.0586, 2.0586, 2.0585, 2.0585, 2.0585, 2.0585, 2.0585, 2.0584, 2.0584, 2.0584, 2.0584, 2.0584, 2.0584, 2.0583, 2.0583, 2.0583, 2.0583, 2.0583, 2.0582, 2.0582, 2.0582, 2.0582, 2.0581, 2.0581, 2.0581, 2.0581, 2.0569, 2.0907, 2.0906, 2.0906, 2.0906, 2.0906, 2.0905, 2.0905, 2.0905, 2.0905, 2.0905, 2.0905, 2.0905, 2.0904, 2.0904, 2.0904, 2.0904, 2.0904, 2.0904, 2.0904, 2.0904, 2.0904, 2.0904, 2.0903, 2.0903, 2.0902, 2.0902, 2.0902, 2.0902, 2.0902, 2.0902, 2.3704, 2.3704, 2.3703, 2.3703, 2.3703, 2.3703, 2.3703, 2.3702, 2.3702, 2.3702, 2.3702, 2.3701, 2.3701, 2.3701, 2.3701, 2.3701, 2.3701, 2.37, 2.37, 2.37, 2.37, 2.37, 2.37, 2.37, 2.3699, 2.3699, 2.3699, 2.3699, 2.3699, 2.3699, 2.3934, 2.3934, 2.3934, 2.3933, 2.3933, 2.3933, 2.3933, 2.3933, 2.3932, 2.3932, 2.3932, 2.3932, 2.3931, 2.3931, 2.3931, 2.3931, 2.3931, 2.393, 2.393, 2.393, 2.393, 2.393, 2.393, 2.393, 2.3929, 2.3929, 2.3929, 2.3929, 2.3928, 2.3928, 2.6726, 2.6726, 2.6726, 2.6725, 2.6723, 2.6723, 2.6723, 2.6723, 2.6722, 2.6722, 2.6722, 2.6722, 2.6722, 2.6721, 2.6721, 2.6721, 2.6721, 2.6721, 2.672, 2.672, 2.672, 2.672, 2.6719, 2.6719, 2.6719, 2.6719, 2.6719, 2.6719, 2.6719, 2.6719, 2.6878, 2.6877, 2.6877, 2.6877, 2.6877, 2.6877, 2.6876, 2.6876, 2.6876, 2.6876, 2.6875, 2.6875, 2.6875, 2.6875, 2.6875, 2.6874, 2.6874, 2.6874, 2.6874, 2.6874, 2.6874, 2.6874, 2.6873, 2.6873, 2.6873, 2.6873, 2.6873, 2.6873, 2.6873, 2.6872, 2.82, 2.8199, 2.8198, 2.8198, 2.8198, 2.8198, 2.8197, 2.8197, 2.8197, 2.8197, 2.8196, 2.8196, 2.8196, 2.8196, 2.8195, 2.8195, 2.8195, 2.8195, 2.8195, 2.8195, 2.8195, 2.8194, 2.8194, 2.8194, 2.8193, 2.8193, 2.8193, 2.8193, 2.8193, 2.8192, 2.9266, 2.9265, 2.9265, 2.9264, 2.9264, 2.9263, 2.9262, 2.9262, 2.9261, 2.9261, 2.9261, 2.9261, 2.9261, 2.9261, 2.926, 2.926, 2.926, 2.926, 2.926, 2.9259, 2.9259, 2.9259, 2.9258, 2.9258, 2.9258, 2.9258, 2.9257, 2.9257, 2.9257, 2.9256]}, \"token.table\": {\"Topic\": [1, 6, 3, 9, 5, 10, 4, 9, 6, 4, 8, 8, 4, 5, 8, 10, 5, 9, 5, 6, 8, 10, 2, 9, 10, 7, 6, 4, 3, 8, 9, 9, 1, 7, 7, 7, 3, 10, 8, 4, 2, 9, 3, 10, 7, 3, 10, 1, 4, 10, 2, 1, 10, 8, 10, 9, 7, 1, 2, 2, 6, 4, 4, 4, 8, 7, 3, 7, 2, 1, 10, 5, 9, 3, 1, 2, 10, 7, 6, 3, 5, 9, 4, 2, 4, 6, 4, 3, 2, 4, 4, 6, 4, 9, 7, 7, 1, 1, 9, 3, 5, 2, 6, 9, 8, 9, 2, 6, 2, 2, 1, 5, 3, 8, 8, 8, 9, 2, 5, 10, 2, 5, 5, 8, 2, 7, 3, 2, 5, 3, 7, 8, 3, 6, 5, 4, 5, 5, 5, 6, 4, 7, 6, 2, 3, 8, 1, 5, 5, 9, 7, 10, 10, 3, 6, 10, 9, 1, 4, 5, 8, 2, 4, 8, 9, 5, 9, 6, 1, 8, 10, 2, 6, 2, 1, 6, 10, 1, 8, 1, 2, 4, 9, 7, 4, 10, 7, 9, 4, 7, 5, 9, 5, 6, 6, 7, 7, 6, 3, 7, 3, 6, 10, 1, 10, 7, 1, 5, 6, 1, 4, 6, 8, 7, 9, 4, 7, 9, 10, 9, 1, 1, 3, 6, 3, 10, 6, 5, 9, 9, 3, 1, 8, 7, 5, 6, 4, 9, 3, 3, 8, 3, 5, 3, 5, 10, 5, 4, 5, 1, 7, 1, 3, 6, 9, 5, 10, 8, 4, 4, 2, 3, 7, 1, 8, 3, 2, 6, 8, 3, 9, 7, 2, 6, 8, 6, 1, 6, 1, 7, 3, 2, 10, 4, 1, 2, 10, 8, 8, 2, 8, 10, 10, 4, 10, 8, 1, 2, 2, 3, 1, 7], \"Freq\": [0.99954522747223, 0.9993800891058409, 0.9998052038241297, 0.9998625118414423, 0.9994872919931779, 0.9992897530675743, 0.9996503874164637, 0.99906759098864, 0.9998216885805858, 0.9996600246050777, 0.9990973376117622, 0.9997870409410051, 0.9996112658023186, 0.9996442562180314, 0.9993278512659839, 0.9992162647601308, 0.999532542674465, 0.9992170982360901, 0.9997946695154917, 0.9993586359621731, 0.9993105607082896, 0.9996522582063273, 0.9998480241175728, 0.9990473120887041, 0.9996919895222962, 0.9999254007281881, 0.9998764639993173, 0.9997226306276091, 0.9996392561359179, 0.9995098981645523, 0.9998304523346762, 0.9995940624214181, 0.9997499322843212, 0.9993023130622667, 0.999428762756753, 0.9990065440845194, 0.999377755839519, 0.9993117284721147, 0.9997278499127488, 0.9998732408243738, 0.9998180757263553, 0.999624450501852, 0.9996218200125301, 0.9989580704898425, 0.9996018401067495, 0.9999002515289132, 0.9990652073606516, 0.9995488173252127, 0.9999106097703709, 0.9995091049196678, 0.9998720974865443, 0.999810907140334, 0.9991517535333405, 0.9997302199789558, 0.9990912414998941, 0.9999304877816603, 0.999715723720464, 0.9997471029263031, 0.9997255339118281, 0.9997051301720076, 0.9996105665500612, 0.9997349928621995, 0.9996330027430853, 0.9994848467068729, 0.9998059060564524, 0.9997814504619111, 0.9998827272709578, 0.9998705299637517, 0.9993884555187658, 0.999273522102341, 0.9990671060925607, 0.9995893953298614, 0.9990879697225524, 0.9995960252487891, 0.9995086184287687, 0.999387965458456, 0.9998922640908443, 0.9988664929097046, 0.9992899350294805, 0.9999582409227522, 0.999452647480583, 0.9997235461987499, 0.9996822539060842, 0.9997572458351235, 0.9996776548972831, 0.9993404690958949, 0.9997883078928318, 0.9999250050912963, 0.9995843901323082, 0.9998659505912484, 0.9998813654437766, 0.9996511517074205, 0.9997518260463307, 0.9995726466234339, 0.9990354433126896, 0.9994469126454273, 0.9998522369777623, 0.9997341887874328, 0.9997019068998425, 0.9996653144386048, 0.9997496879517267, 0.9996696585815076, 0.9997848318804864, 0.999623012675407, 0.9997059003888605, 0.9988698546152632, 0.9995530019551968, 0.9997862619140023, 0.9997430159391976, 0.9997644167968015, 0.9998485828620921, 0.9994494110661344, 0.9997608704036135, 0.9991288096977425, 0.999232845064483, 0.9991478899801995, 0.9996007029164354, 0.9996425123181755, 0.9995893349660923, 0.9985136315757978, 0.9996145145041223, 0.9993082063952211, 0.999776881960819, 0.9996466349805254, 0.9999259590653251, 0.9998008591480504, 0.9998109882066714, 0.9994026601390212, 0.9997245026780744, 0.9994034838637226, 0.999533824254153, 0.9998681248301287, 0.9998928130597607, 0.9999712040103176, 0.9994549690920677, 0.9999018107035157, 0.9995184691816561, 0.9994491577417456, 0.9996901376306567, 0.9999024445167041, 0.9996535742663002, 0.9986996180088483, 0.9995447747541122, 0.9999288651065752, 0.999698078599668, 0.9994519143786925, 0.9999314970315248, 0.9994397553079853, 0.999958992012861, 0.9994384970290868, 0.9996286227611659, 0.9992141861248482, 0.9997171579680948, 0.9998605390600029, 0.9997018643247171, 0.9990333301815156, 0.9992768736371742, 0.9997979899977503, 0.9994248185637481, 0.9991796250467397, 0.9996531013197242, 0.9997383743634861, 0.9998114374464345, 0.9998423503450062, 0.9996898489186109, 0.9990321342826612, 0.9995805603582469, 0.9998077017876723, 0.9993478853324468, 0.9996401187102435, 0.9996527311498058, 0.9998489992426044, 0.9998460901014641, 0.99990685200675, 0.9997515916100121, 0.999629246177354, 0.999528847918938, 0.9998114639674727, 0.9996966537655507, 0.9997508417104283, 0.999471911411541, 0.9999626428101306, 0.9994027127898423, 0.9996910153639927, 0.999872282978706, 0.9995798368895049, 0.9994467560094719, 0.9994716909064233, 0.9999312635397521, 0.9988754720949726, 0.9994448976540674, 0.9998702624701662, 0.9997424188860328, 0.9995550610091758, 0.9998609019766168, 0.9996611796088968, 0.9990761656523035, 0.9992585136760054, 0.9995178888401774, 0.9997348079509405, 0.999186657961638, 0.9993944684811273, 0.9986722426153305, 0.9997558607931781, 0.9995059393333066, 0.9995064787723014, 0.9998502338415726, 0.9999249222604467, 0.9993853215126774, 0.9996760138786759, 0.9993604395744705, 0.9996598736153206, 0.9995224681983128, 0.9997330988562158, 0.9995369493317229, 0.9992154852120767, 0.9993530634691896, 0.9995270601229315, 0.9996906772908439, 0.9994260669794782, 0.9997179242495571, 0.9998042907070096, 0.9993147903261094, 0.999822452564701, 0.9997656714116431, 0.9995664659215362, 0.9998301545896435, 0.999817455501472, 0.9994584557249022, 0.9997335228229981, 0.9998261505778141, 0.9995757352143749, 0.9995914979068168, 0.9996949856485072, 0.9992905170081489, 0.9998803498901082, 0.9995715358316828, 0.9989284527518482, 0.9996349163463831, 0.9994749800575858, 0.9998063092934021, 0.999561937295101, 0.9992355416828712, 0.9998115293243565, 0.9993401400758415, 0.999162932307269, 0.9997415607588775, 0.9996663206090418, 0.9996647266510655, 0.999755273185512, 0.9993550886125316, 0.9996278694933349, 0.9979738063789413, 0.0012994450603892465, 0.9989578372530762, 0.9999096215818654, 0.9992934696093245, 0.9993296963452641, 0.9998218455751354, 0.9998921326330468, 0.9999364688712935, 0.9996416998131205, 0.9996070377456714, 0.9997117076165585, 0.9996347530628574, 0.9999755228917685, 0.999712077719969, 0.9997562749764112, 0.9997559769804368, 0.9997212198211245, 0.9993226503217546, 0.9994572597703452, 0.9993206413424477, 0.9993732003074549, 0.9998119598927169, 0.9999212124963106, 0.9994594759920609, 0.9998657098570497, 0.999815062577971, 0.9990777717009836, 0.9998629317582762, 0.999818728186478, 0.9983763821289838, 0.999887039621408, 0.9997402589816607, 0.9997863332208908, 0.999906283827456, 0.9995701978190881, 0.9996886036866374, 0.9998452301946151, 0.9990874105207401, 0.9994767394833131, 0.9996190798939107, 0.9997903141583059, 0.9999289021757388, 0.9995326213050844, 0.9996814006916119, 0.9998573174725903, 0.9998993218596967, 0.999945900169702, 0.9998520671526607, 0.999407143431948], \"Term\": [\"...\", \"10\", \"2012\", \"according\", \"actress\", \"actually\", \"almost\", \"alone\", \"also\", \"always\", \"america\", \"american\", \"another\", \"around\", \"ask\", \"available\", \"away\", \"baby\", \"back\", \"bad\", \"bank\", \"beauty\", \"become\", \"begin\", \"benefit\", \"best\", \"better\", \"big\", \"bit\", \"black\", \"body\", \"business\", \"call\", \"called\", \"case\", \"celebrate\", \"celebrity\", \"challenge\", \"change\", \"check\", \"child\", \"choice\", \"city\", \"click\", \"color\", \"come\", \"coming\", \"company\", \"could\", \"country\", \"couple\", \"course\", \"cover\", \"create\", \"daughter\", \"day\", \"death\", \"designer\", \"different\", \"divorce\", \"dress\", \"easy\", \"eat\", \"end\", \"enough\", \"even\", \"ever\", \"every\", \"everyone\", \"everything\", \"exercise\", \"experience\", \"eye\", \"face\", \"fact\", \"fall\", \"family\", \"famous\", \"far\", \"fashion\", \"favorite\", \"fear\", \"february\", \"feel\", \"feeling\", \"film\", \"find\", \"first\", \"five\", \"food\", \"found\", \"four\", \"friend\", \"fun\", \"future\", \"game\", \"get\", \"getting\", \"girl\", \"give\", \"go\", \"going\", \"good\", \"got\", \"great\", \"hand\", \"hard\", \"head\", \"health\", \"heart\", \"help\", \"high\", \"home\", \"hope\", \"hotel\", \"however\", \"husband\", \"idea\", \"important\", \"interview\", \"issue\", \"job\", \"keep\", \"kid\", \"know\", \"known\", \"last\", \"le\", \"learn\", \"least\", \"left\", \"let\", \"life\", \"like\", \"list\", \"little\", \"live\", \"living\", \"long\", \"look\", \"looking\", \"lost\", \"lot\", \"love\", \"made\", \"major\", \"make\", \"making\", \"many\", \"march\", \"marriage\", \"married\", \"matter\", \"may\", \"mean\", \"member\", \"men\", \"might\", \"million\", \"mind\", \"model\", \"mom\", \"moment\", \"money\", \"month\", \"morning\", \"mother\", \"much\", \"must\", \"name\", \"national\", \"need\", \"never\", \"new\", \"new_york\", \"news\", \"next\", \"night\", \"number\", \"often\", \"old\", \"one\", \"online\", \"open\", \"parent\", \"part\", \"party\", \"past\", \"people\", \"perhaps\", \"person\", \"photo\", \"pick\", \"piece\", \"place\", \"point\", \"possible\", \"pretty\", \"problem\", \"process\", \"public\", \"put\", \"quality\", \"question\", \"quite\", \"rather\", \"read\", \"really\", \"reason\", \"recent\", \"recently\", \"red\", \"relationship\", \"remember\", \"report\", \"research\", \"rest\", \"result\", \"right\", \"room\", \"said\", \"say\", \"season\", \"see\", \"seems\", \"seen\", \"set\", \"show\", \"side\", \"simple\", \"since\", \"sleep\", \"small\", \"social\", \"someone\", \"something\", \"sometimes\", \"son\", \"spring\", \"star\", \"start\", \"state\", \"step\", \"still\", \"stop\", \"store\", \"story\", \"study\", \"style\", \"sunday\", \"support\", \"sure\", \"sure_check\", \"sure_check\", \"surprise\", \"take\", \"taking\", \"talk\", \"tell\", \"thing\", \"think\", \"thinking\", \"though\", \"thought\", \"three\", \"time\", \"today\", \"together\", \"told\", \"top\", \"travel\", \"true\", \"try\", \"turn\", \"two\", \"u\", \"use\", \"valentine\", \"video\", \"visit\", \"want\", \"watch\", \"watching\", \"way\", \"wear\", \"wedding\", \"week\", \"weekend\", \"well\", \"whether\", \"white\", \"wife\", \"within\", \"without\", \"woman\", \"word\", \"work\", \"world\", \"would\", \"year\", \"yet\", \"you.s\"]}, \"R\": 30, \"lambda.step\": 0.01, \"plot.opts\": {\"xlab\": \"PC1\", \"ylab\": \"PC2\"}, \"topic.order\": [4, 5, 3, 8, 10, 2, 7, 6, 9, 1]};\n",
       "\n",
       "function LDAvis_load_lib(url, callback){\n",
       "  var s = document.createElement('script');\n",
       "  s.src = url;\n",
       "  s.async = true;\n",
       "  s.onreadystatechange = s.onload = callback;\n",
       "  s.onerror = function(){console.warn(\"failed to load library \" + url);};\n",
       "  document.getElementsByTagName(\"head\")[0].appendChild(s);\n",
       "}\n",
       "\n",
       "if(typeof(LDAvis) !== \"undefined\"){\n",
       "   // already loaded: just create the visualization\n",
       "   !function(LDAvis){\n",
       "       new LDAvis(\"#\" + \"ldavis_el868862866454401729281037\", ldavis_el868862866454401729281037_data);\n",
       "   }(LDAvis);\n",
       "}else if(typeof define === \"function\" && define.amd){\n",
       "   // require.js is available: use it to load d3/LDAvis\n",
       "   require.config({paths: {d3: \"https://d3js.org/d3.v5\"}});\n",
       "   require([\"d3\"], function(d3){\n",
       "      window.d3 = d3;\n",
       "      LDAvis_load_lib(\"https://cdn.jsdelivr.net/gh/bmabey/pyLDAvis@3.4.0/pyLDAvis/js/ldavis.v3.0.0.js\", function(){\n",
       "        new LDAvis(\"#\" + \"ldavis_el868862866454401729281037\", ldavis_el868862866454401729281037_data);\n",
       "      });\n",
       "    });\n",
       "}else{\n",
       "    // require.js not available: dynamically load d3 & LDAvis\n",
       "    LDAvis_load_lib(\"https://d3js.org/d3.v5.js\", function(){\n",
       "         LDAvis_load_lib(\"https://cdn.jsdelivr.net/gh/bmabey/pyLDAvis@3.4.0/pyLDAvis/js/ldavis.v3.0.0.js\", function(){\n",
       "                 new LDAvis(\"#\" + \"ldavis_el868862866454401729281037\", ldavis_el868862866454401729281037_data);\n",
       "            })\n",
       "         });\n",
       "}\n",
       "</script>"
      ],
      "text/plain": [
       "PreparedData(topic_coordinates=              x         y  topics  cluster       Freq\n",
       "topic                                                \n",
       "3     -0.184547 -0.184975       1        1  15.826311\n",
       "4     -0.336946  0.209084       2        1  15.550556\n",
       "2     -0.098356 -0.302702       3        1  12.762332\n",
       "7     -0.000546  0.227138       4        1  12.359749\n",
       "9      0.082741  0.015200       5        1   9.343574\n",
       "1      0.061681 -0.016869       6        1   9.131296\n",
       "6      0.089812  0.013253       7        1   6.906419\n",
       "5      0.116764  0.005378       8        1   6.802153\n",
       "8      0.139669  0.015596       9        1   5.960034\n",
       "0      0.129727  0.018898      10        1   5.357577, topic_info=           Term          Freq         Total Category  logprob  loglift\n",
       "144         one  16935.000000  16935.000000  Default  30.0000  30.0000\n",
       "86          day  11340.000000  11340.000000  Default  29.0000  29.0000\n",
       "197        time  13061.000000  13061.000000  Default  28.0000  28.0000\n",
       "37         like  10795.000000  10795.000000  Default  27.0000  27.0000\n",
       "160        week   8559.000000   8559.000000  Default  26.0000  26.0000\n",
       "...         ...           ...           ...      ...      ...      ...\n",
       "186        wife    912.693313    913.477987  Topic10  -4.8447   2.9258\n",
       "1616    quality    822.308133    823.092868  Topic10  -4.9490   2.9257\n",
       "80    interview    790.391290    791.175979  Topic10  -4.9886   2.9257\n",
       "1647  available    783.830224    784.614930  Topic10  -4.9969   2.9257\n",
       "4063   watching    773.472370    774.257098  Topic10  -5.0102   2.9256\n",
       "\n",
       "[331 rows x 6 columns], token_table=      Topic      Freq       Term\n",
       "term                            \n",
       "3708      1  0.999545        ...\n",
       "375       6  0.999380         10\n",
       "7974      3  0.999805       2012\n",
       "17        9  0.999863  according\n",
       "8614      5  0.999487    actress\n",
       "...     ...       ...        ...\n",
       "137       2  0.999857      world\n",
       "15        2  0.999899      would\n",
       "122       3  0.999946       year\n",
       "1475      1  0.999852        yet\n",
       "16        7  0.999407      you.s\n",
       "\n",
       "[302 rows x 3 columns], R=30, lambda_step=0.01, plot_opts={'xlab': 'PC1', 'ylab': 'PC2'}, topic_order=[4, 5, 3, 8, 10, 2, 7, 6, 9, 1])"
      ]
     },
     "execution_count": 197,
     "metadata": {},
     "output_type": "execute_result"
    }
   ],
   "source": [
    "pyLDAvis.enable_notebook()\n",
    "bigram_vis_10 = pyLDAvis.gensim.prepare(bigram_lda_model_10, corpus, id2word)\n",
    "bigram_vis_10"
   ]
  },
  {
   "cell_type": "markdown",
   "id": "11faf9fd",
   "metadata": {},
   "source": [
    "## Analyze DTM"
   ]
  },
  {
   "cell_type": "code",
   "execution_count": 199,
   "id": "30989c6b",
   "metadata": {},
   "outputs": [],
   "source": [
    "df = pd.read_json('News_Category_Dataset_v3.json', lines=True)\n",
    "df['date'] = pd.to_datetime(df['date'])\n",
    "df['Quarter'] = df['date'].dt.to_period(\"Q\")\n",
    "time_slices = df['Quarter'].value_counts().sort_index().tolist()\n",
    "df = df[df['Quarter'] >= '2021-01']"
   ]
  },
  {
   "cell_type": "code",
   "execution_count": 200,
   "id": "4bda48fa",
   "metadata": {},
   "outputs": [],
   "source": [
    "wnl = WordNetLemmatizer()\n",
    "stop_words = set(stopwords.words('english'))\n",
    "desc_cleaner_news = DataCleaner(df, 'short_description', stop_words, wnl)\n",
    "cleaned_df_desc = desc_cleaner_news.clean()"
   ]
  },
  {
   "cell_type": "code",
   "execution_count": 201,
   "id": "46737e46",
   "metadata": {},
   "outputs": [
    {
     "name": "stdout",
     "output_type": "stream",
     "text": [
      "[(0, 1), (1, 1), (2, 1), (3, 1), (4, 1), (5, 1), (6, 1), (7, 1), (8, 1), (9, 1), (10, 1), (11, 1), (12, 1), (13, 1), (14, 1), (15, 1), (16, 1)]\n"
     ]
    }
   ],
   "source": [
    "id2word = corpora.Dictionary(cleaned_df_desc['lemmatized_short_description'])\n",
    "texts = cleaned_df_desc['lemmatized_short_description']\n",
    "corpus = [id2word.doc2bow(text) for text in texts]\n",
    "print(corpus[0])"
   ]
  },
  {
   "cell_type": "code",
   "execution_count": 202,
   "id": "8a5fdd03",
   "metadata": {},
   "outputs": [],
   "source": [
    "def extract_topics(ldaseq_model, time_slice, topn=10):\n",
    "    topics_at_time = ldaseq_model.print_topics(time=time_slice, top_terms=topn)\n",
    "    return [[id2word.token2id[word] for word, _ in topic] for topic in topics_at_time]"
   ]
  },
  {
   "cell_type": "code",
   "execution_count": 207,
   "id": "18edab7a",
   "metadata": {},
   "outputs": [
    {
     "name": "stdout",
     "output_type": "stream",
     "text": [
      "C_v topic coherence\n",
      "DTM Python coherence is 0.25761271461018076\n"
     ]
    }
   ],
   "source": [
    "from gensim.models.coherencemodel import CoherenceModel\n",
    "\n",
    "topics_dtm =  ldaseq_5.dtm_coherence(time=2)\n",
    "cm_DTM = CoherenceModel(topics=topics_dtm, texts=texts, dictionary=id2word, coherence='c_v')\n",
    "\n",
    "print (\"C_v topic coherence\")\n",
    "print (\"DTM Python coherence is\", cm_DTM.get_coherence())"
   ]
  },
  {
   "cell_type": "code",
   "execution_count": 205,
   "id": "29990052",
   "metadata": {},
   "outputs": [
    {
     "data": {
      "text/plain": [
       "[[('said', 0.011809425283001726),\n",
       "  ('actor', 0.00475976407053803),\n",
       "  ('new', 0.004553589030787536),\n",
       "  ('way', 0.004348531807960837),\n",
       "  ('president', 0.0041398554529723285),\n",
       "  ('state', 0.004094667342099061),\n",
       "  ('made', 0.0040127310212044725),\n",
       "  ('star', 0.003955542046699252),\n",
       "  ('told', 0.0038758747926041885),\n",
       "  ('year', 0.0037851105935289855),\n",
       "  ('show', 0.0036970260837769875),\n",
       "  ('trump', 0.0035489740712636208),\n",
       "  ('people', 0.0035137566598621183),\n",
       "  ('one', 0.003506675171552086),\n",
       "  ('health', 0.003408730660777689),\n",
       "  ('life', 0.003390163565975213),\n",
       "  ('world', 0.003295976359491694),\n",
       "  ('make', 0.003225533904524319),\n",
       "  ('war', 0.0030743382991250336),\n",
       "  ('back', 0.0028376755371129526)],\n",
       " [('president', 0.005349854501192007),\n",
       "  ('biden', 0.004578960387830168),\n",
       "  ('former', 0.004231650351238807),\n",
       "  ('one', 0.0040899498202552785),\n",
       "  ('year', 0.004086817266401977),\n",
       "  ('people', 0.004037663290352302),\n",
       "  ('also', 0.003984457486761929),\n",
       "  ('said', 0.0038659698060351643),\n",
       "  ('new', 0.0037467263323751184),\n",
       "  ('host', 0.0034600537745348185),\n",
       "  ('two', 0.0034210251760194983),\n",
       "  ('day', 0.00341985005574174),\n",
       "  ('leader', 0.0033955107057981673),\n",
       "  ('child', 0.0028441862610051466),\n",
       "  ('covid-19', 0.0028236407636794457),\n",
       "  ('police', 0.002702454749380907),\n",
       "  ('man', 0.0026711843970679806),\n",
       "  ('killed', 0.002636281867918547),\n",
       "  ('hit', 0.0026336455035435046),\n",
       "  ('season', 0.0026134528487455643)],\n",
       " [('said', 0.015369141731066694),\n",
       "  ('people', 0.0073619413571440325),\n",
       "  ('republican', 0.006391108818516249),\n",
       "  ('new', 0.004981240964260286),\n",
       "  ('day', 0.003975419419257667),\n",
       "  ('show', 0.003964935434226145),\n",
       "  ('one', 0.0038513920128429822),\n",
       "  ('say', 0.003749003487021772),\n",
       "  ('time', 0.0036735213667614315),\n",
       "  ('police', 0.0035308043146796467),\n",
       "  ('democrat', 0.0030900468535154596),\n",
       "  ('million', 0.0030544818914802962),\n",
       "  ('city', 0.0030170076055893867),\n",
       "  ('still', 0.0029053577041894237),\n",
       "  ('year', 0.0028284029783378567),\n",
       "  ('back', 0.0027837070175513222),\n",
       "  ('many', 0.0027807208761953793),\n",
       "  ('trump', 0.0027758847045677047),\n",
       "  ('could', 0.0027703390952712433),\n",
       "  ('president', 0.0025975261474450308)],\n",
       " [('said', 0.016654114492024797),\n",
       "  ('former', 0.00942643407444063),\n",
       "  ('trump', 0.007612556627195335),\n",
       "  ('you.s', 0.007462127412995732),\n",
       "  ('president', 0.006620434819603276),\n",
       "  ('state', 0.0060689234184451235),\n",
       "  ('republican', 0.006004198381274206),\n",
       "  ('official', 0.005142425075113729),\n",
       "  ('election', 0.004539043913741823),\n",
       "  ('first', 0.00449694727590629),\n",
       "  ('donald_trump', 0.004354854207624151),\n",
       "  ('day', 0.0043474515985670445),\n",
       "  ('woman', 0.00416946341956702),\n",
       "  ('vaccine', 0.00392818181375654),\n",
       "  ('new', 0.0039143837659515405),\n",
       "  ('year', 0.0037269010206665417),\n",
       "  ('two', 0.0034744707450049253),\n",
       "  ('january_6', 0.0034494578361113568),\n",
       "  ('capitol', 0.0034454351373619688),\n",
       "  ('house', 0.0034369174953274824)],\n",
       " [('said', 0.016393595922756576),\n",
       "  ('you.s', 0.00641800018091568),\n",
       "  ('people', 0.006202468947171087),\n",
       "  ('say', 0.0061180147773837856),\n",
       "  ('one', 0.004678241063338934),\n",
       "  ('get', 0.003955795588276145),\n",
       "  ('could', 0.003945622569912289),\n",
       "  ('first', 0.003913142386576746),\n",
       "  ('would', 0.0037340552097149668),\n",
       "  ('president', 0.0033749561915744947),\n",
       "  ('former', 0.0032902789188089033),\n",
       "  ('american', 0.003222255894867349),\n",
       "  ('trump', 0.0031164703987803886),\n",
       "  ('two', 0.0030391927862709004),\n",
       "  ('star', 0.0030007480180601754),\n",
       "  ('republican', 0.002938844158328054),\n",
       "  ('like', 0.0027880233228051174),\n",
       "  ('biden', 0.002776227563287146),\n",
       "  ('told', 0.0026794188073118396),\n",
       "  ('year', 0.0026514265901314564)]]"
      ]
     },
     "execution_count": 205,
     "metadata": {},
     "output_type": "execute_result"
    }
   ],
   "source": [
    "ldaseq_5.print_topics(time=2)"
   ]
  },
  {
   "cell_type": "code",
   "execution_count": 208,
   "id": "b04f8e1a",
   "metadata": {},
   "outputs": [
    {
     "name": "stdout",
     "output_type": "stream",
     "text": [
      "[6.64451827e-04 1.35225270e-01 6.64451827e-04 6.64451827e-04\n",
      " 8.62781374e-01]\n"
     ]
    }
   ],
   "source": [
    "doc = ldaseq_5.doc_topics(140)\n",
    "print(doc)"
   ]
  },
  {
   "cell_type": "markdown",
   "id": "a00b393f",
   "metadata": {},
   "source": [
    "## Visualize DTM"
   ]
  },
  {
   "cell_type": "code",
   "execution_count": 209,
   "id": "bd39b6e8",
   "metadata": {},
   "outputs": [
    {
     "data": {
      "text/html": [
       "\n",
       "<link rel=\"stylesheet\" type=\"text/css\" href=\"https://cdn.jsdelivr.net/gh/bmabey/pyLDAvis@3.4.0/pyLDAvis/js/ldavis.v1.0.0.css\">\n",
       "\n",
       "\n",
       "<div id=\"ldavis_el8688120368618244996149312\" style=\"background-color:white;\"></div>\n",
       "<script type=\"text/javascript\">\n",
       "\n",
       "var ldavis_el8688120368618244996149312_data = {\"mdsDat\": {\"x\": [0.044128286928746346, -0.032936675689090734, 0.09638575492930893, 0.07058188501788981, -0.17815925118685444], \"y\": [-0.031626108111048816, -0.14782400909606916, -0.02632058345041029, 0.1436178121679397, 0.062152888489588616], \"topics\": [1, 2, 3, 4, 5], \"cluster\": [1, 1, 1, 1, 1], \"Freq\": [22.304501387796964, 21.396156597305374, 19.571780180966496, 19.18590639443446, 17.5416554394967]}, \"tinfo\": {\"Term\": [\"you.s\", \"said\", \"capitol\", \"health\", \"beijing\", \"report\", \"lawmaker\", \"senate\", \"republican\", \"without\", \"election\", \"made\", \"summer\", \"former\", \"hospital\", \"woman\", \"bad\", \"way\", \"host\", \"ukrainian\", \"vaccine\", \"organization\", \"working\", \"cat\", \"people\", \"work\", \"live\", \"insurrection\", \"january_6\", \"across\", \"risk\", \"kentucky\", \"coach\", \"reform\", \"passed\", \"flag\", \"hurricane\", \"believed\", \"montage\", \"outside\", \"talking\", \"based\", \"explain\", \"threatened\", \"winter\", \"17\", \"england\", \"muslim\", \"lack\", \"delta\", \"china\", \"anthony\", \"outrage\", \"additional\", \"west_virginia\", \"agent\", \"shout\", \"conservatorship\", \"chicago\", \"oh\", \"chair\", \"scientist\", \"bird\", \"13\", \"league\", \"civil_right\", \"nfl\", \"search\", \"travel\", \"drink\", \"critical\", \"mile\", \"stay\", \"different\", \"area\", \"people\", \"said\", \"republican\", \"water\", \"many\", \"still\", \"away\", \"white\", \"vote\", \"change\", \"million\", \"show\", \"time\", \"new\", \"city\", \"democrat\", \"police\", \"storm\", \"day\", \"end\", \"shot\", \"say\", \"back\", \"gov\", \"one\", \"lawmaker\", \"could\", \"law\", \"come\", \"work\", \"year\", \"star\", \"trump\", \"new_york\", \"president\", \"former\", \"state\", \"two\", \"mandate\", \"account\", \"bar\", \"seeking\", \"happy\", \"include\", \"hold\", \"boat\", \"palace\", \"involving\", \"view\", \"d.c.\", \"massacre\", \"sexual_assault\", \"historic\", \"factor\", \"daily\", \"wear\", \"tennessee\", \"education\", \"twitter_users\", \"refuse\", \"co-host\", \"included\", \"foreign\", \"joined\", \"delivered\", \"floor\", \"aid\", \"mary\", \"plot\", \"attempt\", \"investigating\", \"international\", \"anniversary\", \"subpoena\", \"denied\", \"san_francisco\", \"worked\", \"committee\", \"targeted\", \"administration\", \"insurrection\", \"january_6\", \"former\", \"vaccine\", \"senate\", \"you.s\", \"official\", \"election\", \"trump\", \"capitol\", \"secretary\", \"said\", \"donald_trump\", \"governor\", \"state\", \"government\", \"president\", \"republican\", \"woman\", \"first\", \"house\", \"rep.\", \"member\", \"day\", \"country\", \"federal\", \"attack\", \"new\", \"two\", \"year\", \"would\", \"one\", \"say\", \"coronavirus\", \"police\", \"push\", \"beijing\", \"fox\", \"winter_olympics\", \"personal\", \"election_results\", \"speaker\", \"determine\", \"journey\", \"agreement\", \"19\", \"cat\", \"manhattan\", \"standing\", \"prevention\", \"death_toll\", \"gold_medal\", \"tokyo\", \"pet\", \"store\", \"paul\", \"devastating\", \"threatening\", \"representative\", \"join\", \"considering\", \"pretend\", \"editorial\", \"reps.\", \"supermarket\", \"lockdown\", \"snl\", \"difficult\", \"popular\", \"competition\", \"harm\", \"exactly\", \"convicted\", \"leaving\", \"rejected\", \"tiktok\", \"individual\", \"within\", \"center\", \"olympic\", \"tuesday\", \"said\", \"across\", \"you.s\", \"say\", \"get\", \"business\", \"team\", \"people\", \"win\", \"without\", \"could\", \"long\", \"would\", \"first\", \"one\", \"american\", \"authority\", \"like\", \"much\", \"russian\", \"star\", \"two\", \"biden\", \"president\", \"former\", \"told\", \"child\", \"trump\", \"republican\", \"back\", \"year\", \"woman\", \"take\", \"working\", \"played\", \"bad\", \"jimmy\", \"coup\", \"israeli\", \"financial\", \"organization\", \"infectious\", \"staff\", \"israel\", \"immigration\", \"roe_v.\", \"70\", \"rise\", \"cover\", \"responsibility\", \"developed\", \"advance\", \"jennifer\", \"suggests\", \"gaza\", \"fallon\", \"path\", \"weisselberg\", \"essay\", \"quickly\", \"prominent\", \"transgender\", \"press\", \"celebrated\", \"rock\", \"german\", \"congressman\", \"solution\", \"version\", \"symptom\", \"central\", \"allowing\", \"block\", \"way\", \"something\", \"wade\", \"actor\", \"made\", \"gave\", \"health\", \"war\", \"son\", \"life\", \"music\", \"said\", \"never\", \"world\", \"top\", \"told\", \"star\", \"report\", \"force\", \"make\", \"show\", \"new\", \"state\", \"year\", \"president\", \"back\", \"student\", \"host\", \"trump\", \"one\", \"people\", \"country\", \"would\", \"russian\", \"also\", \"former\", \"take\", \"drama\", \"kate\", \"box\", \"december\", \"per\", \"\\u2015\", \"minority_leader\", \"president-elect\", \"korea\", \"tree\", \"development\", \"slammed\", \"william\", \"impeachment\", \"asking\", \"tornado\", \"worst\", \"pretty\", \"raise\", \"bomb\", \"heading\", \"11\", \"infrastructure\", \"theorist\", \"mouth\", \"san\", \"ball\", \"hospitalized\", \"reporting\", \"supposed\", \"economy\", \"holiday\", \"jackson\", \"read\", \"summer\", \"fit\", \"atlanta\", \"las_vegas\", \"pressure\", \"grand_slam\", \"continues\", \"ted\", \"law_enforcement\", \"crisis\", \"green\", \"girl\", \"season\", \"investigator\", \"right-wing\", \"protest\", \"biden\", \"increase\", \"host\", \"hit\", \"also\", \"leader\", \"film\", \"president\", \"fun\", \"killed\", \"year\", \"man\", \"conspiracy\", \"one\", \"child\", \"charge\", \"former\", \"two\", \"people\", \"day\", \"new\", \"president_joe\", \"covid-19\", \"school\", \"pandemic\", \"police\", \"second\", \"may\", \"could\", \"said\", \"time\", \"told\", \"star\", \"woman\", \"state\"], \"Freq\": [141.0, 518.0, 51.0, 54.0, 19.0, 33.0, 36.0, 43.0, 148.0, 31.0, 74.0, 67.0, 18.0, 176.0, 24.0, 84.0, 15.0, 55.0, 65.0, 28.0, 56.0, 15.0, 14.0, 16.0, 177.0, 40.0, 26.0, 28.0, 46.0, 22.0, 10.656708694601788, 9.813393532721935, 9.779221041427023, 9.632416842272624, 11.703020636645071, 7.911384902593896, 7.8804413378740605, 7.8677475501521, 7.801002065377236, 8.840214824075272, 7.677849078088289, 9.668824048614303, 8.763828133578313, 7.6434327803773545, 7.630874594987959, 9.499550715165267, 12.437187556736065, 6.930975928571989, 6.921379938490617, 6.9020773868977034, 8.727195392136768, 6.825324712138368, 6.789895305166908, 6.798622135417318, 6.495529341005651, 7.84226250409157, 5.998540655036887, 5.971609216573037, 6.0349049759047535, 5.965957478311744, 12.57302594017822, 7.784115043344578, 6.8904398506165965, 6.8062171478873505, 8.614433871233759, 7.720422242767384, 9.547295748358028, 9.460449284467165, 7.752010628728135, 7.830780293724257, 8.663293744139494, 10.51335247084772, 7.737175861991064, 11.520689050823528, 16.345388491537516, 64.75343341983712, 135.15311352268498, 56.19816728438891, 20.602444521088742, 24.45319059278507, 25.54536580501394, 17.79989760779336, 14.471839935487521, 16.289990848839466, 17.07549447362716, 26.859551836788043, 34.86722010057246, 32.30404213338258, 43.806216589666874, 26.532410123542554, 27.1699511910342, 31.04810830829731, 14.192274467301408, 34.96040286421523, 19.767473084397025, 21.72762094111473, 32.969001324808055, 24.48245448151706, 18.891907998566484, 33.86626647942804, 17.437464586123426, 24.357791496164943, 20.916993468880776, 19.952441210786276, 17.564529374532196, 24.87179359521004, 21.9497030710498, 24.41230268443896, 18.54847901659848, 22.840193817265583, 22.76824655969668, 21.2523659198267, 19.24296588868932, 11.62065499379675, 13.441586282653864, 9.80195491701417, 9.787934163038967, 8.757985155924471, 8.557661486870161, 13.57329238342167, 7.855365729662059, 7.840073216982306, 7.792266643738777, 7.70248732980257, 6.90287307862234, 6.877516296583618, 8.651616409572453, 6.856449644161378, 6.832147009283942, 6.801292974125237, 6.798718580241453, 6.766640904444532, 8.553251617558287, 8.709607178195382, 6.756540481491781, 8.533644702820341, 8.521662348966087, 12.151699455620019, 7.594250456757408, 6.686801440644242, 6.505571880476143, 7.838806863158443, 7.801949223277179, 7.7940641106426165, 10.59039718509575, 12.322810971289282, 9.483412548424408, 7.756117391666242, 7.861977158555962, 8.319595191764938, 8.591753385688477, 7.419043492735891, 16.21019886594133, 8.436262131749267, 19.177766354494825, 20.20832949959541, 29.10525661353668, 79.53512730111875, 33.14369976377884, 27.00558790085137, 62.98643126403945, 43.38441058147436, 38.30708208265769, 64.23405112588614, 29.06595647217996, 15.250434569448188, 140.58166981559984, 36.75520005126205, 21.45638798694744, 51.192749420908086, 27.763231933500606, 55.86268437879594, 50.659389102240965, 35.18930339254783, 37.940922140838126, 28.999709497410425, 20.118753701450927, 24.522227006184213, 36.69271118366207, 24.962026061086966, 24.196192622675962, 25.826738228914316, 33.02210922208932, 29.310565462076227, 31.44541130338478, 25.60721654522948, 27.607898627232682, 26.872814373556725, 22.475205624451124, 22.56818904722922, 11.72501660902062, 19.451771465941906, 10.693738343254338, 9.903550196427348, 8.87778778113736, 7.851403086688146, 7.828580456684604, 7.7850704282658905, 8.91308415779073, 8.896275423709454, 9.828502026985143, 15.527691325964, 7.018301352087374, 6.987192590755433, 6.989025430973663, 6.92628820708964, 6.875569446174293, 8.8598040239824, 8.820229931117781, 10.579315530588321, 7.858642645799599, 7.698737299627813, 8.775366182344781, 8.631200276623687, 7.77843815878013, 6.967775574222504, 6.052777099736923, 6.022316274275165, 6.028057612554959, 6.053922571392678, 6.97962226957403, 6.961381228973484, 6.827949755537736, 6.899500944441174, 7.891559262763813, 7.856112006109147, 7.789703782400924, 9.531028967267304, 10.546083728179518, 7.645955533149702, 8.669200357975498, 8.517215709187212, 7.75480422809837, 15.121529234707085, 12.581437023521039, 17.644085549205148, 126.4193722984091, 15.417181083751707, 49.485704121762694, 47.183623672116354, 30.503790629244957, 13.671395434783586, 18.097846662467898, 47.829857527328905, 16.018019297900967, 17.1561450182406, 30.424021598318784, 16.449415081672164, 28.792820801277184, 30.17696665448182, 36.07437338490053, 24.846228772731475, 18.116953417927427, 21.500991842350945, 16.260933244369244, 19.25988353659263, 23.141269629718195, 23.4367479516557, 21.40328235059092, 26.025088756912414, 25.371145684682872, 20.659359431853403, 19.112884490717498, 24.030778895483017, 22.664323631876165, 18.91366350999344, 20.44883931301213, 17.595945673174146, 16.780038239898392, 14.665659162484497, 10.748270877133635, 15.457539667439125, 9.805921741125884, 9.703407674565344, 9.883808131901507, 8.819601903240518, 15.391387133075462, 7.924398432832175, 7.861902590805422, 9.832058391232772, 7.84611237268706, 8.899702306183336, 7.765662431221948, 9.680961293490265, 6.86559062423197, 8.816274957345476, 8.850782474683912, 6.690086348566427, 7.851761175124677, 6.060285585656838, 6.052508045576009, 6.0486085072308455, 6.042011285674472, 6.031019644706056, 6.020542465778726, 6.012252351325966, 6.004026070770968, 6.006637875838579, 5.986803847358977, 6.791320365308329, 11.706004184464149, 6.84750435605557, 6.953841582034889, 6.871033758711043, 6.962725903482932, 7.635979350685984, 6.866446014090405, 7.287753573534079, 7.801752130980266, 32.871516068057225, 13.025141374608559, 8.558178888437803, 35.97917005470564, 30.32542366295099, 10.772853395547097, 25.764757392316298, 23.23502935959153, 11.163735972323119, 25.622547307037948, 15.300716811194562, 89.26466325961788, 15.518629177126714, 24.910316086424498, 18.608554252577655, 29.292628201214008, 29.895650918581527, 17.120335349959525, 17.250919561492243, 24.381861110491872, 27.941612147000725, 34.416537516076474, 30.94333288141651, 28.607682571602613, 31.286617982645843, 21.446474861042688, 13.912474755091308, 19.914229928554512, 26.821544872570833, 26.503512470987644, 26.557083601557036, 18.442533709504936, 20.667515443831736, 17.694016251863484, 18.692736159999267, 20.05060782744967, 16.829134015825133, 9.858734965484182, 8.978806967455249, 8.02978278006153, 8.015768996913412, 7.977504393143161, 7.976712753426419, 7.930595078910536, 7.73060594354539, 7.062416129615719, 6.9908496692315225, 7.913271765690616, 9.803743550191998, 7.984808201832324, 6.088534797297894, 6.057042808367754, 6.042888352372613, 6.046218135063838, 6.028896574484369, 6.014872946342168, 6.018256879305142, 5.998226645514131, 5.986120467416496, 7.789596947205581, 5.948349660801311, 5.878392025233915, 6.900250911824577, 5.857635076690522, 7.838716995740714, 5.7731428404365, 7.846966267300118, 7.911724988969949, 10.296379880409502, 9.621103147703941, 8.703194070968713, 16.36975748179172, 6.80151148804361, 6.940868073788408, 6.821597500646056, 12.452996597678878, 7.87889397408704, 7.714365966696768, 7.017055656697856, 6.821255415257414, 8.799222765582773, 10.465796808971422, 13.302283785523947, 18.051383925161844, 7.568387369699295, 10.485018226370862, 13.428012587441804, 31.6283552396897, 8.653443872967172, 23.89881999287108, 18.190192176226514, 27.522712671922235, 23.45280580700783, 16.87514016799978, 36.95451942280513, 9.792773681149132, 18.20935767863736, 28.22912227187531, 18.44960033160673, 11.701942633559394, 28.247995910277737, 19.64540708191478, 15.138430592695062, 29.229827556537813, 23.631296025466245, 27.887443679382073, 23.62488943133101, 25.882209057060077, 14.948058243123363, 19.5052774756015, 16.743637549633892, 15.907333256636505, 18.66722546682403, 14.484954074198694, 16.295323002531404, 17.870234549503117, 26.701882932665242, 17.587896377867878, 17.449749530342334, 17.00624096496411, 16.53076430816731, 17.216094948319824], \"Total\": [141.0, 518.0, 51.0, 54.0, 19.0, 33.0, 36.0, 43.0, 148.0, 31.0, 74.0, 67.0, 18.0, 176.0, 24.0, 84.0, 15.0, 55.0, 65.0, 28.0, 56.0, 15.0, 14.0, 16.0, 177.0, 40.0, 26.0, 28.0, 46.0, 22.0, 10.988934797907818, 10.143015739066373, 10.109331382390861, 9.965937633104483, 12.1263656198512, 8.241517499762216, 8.210548066138571, 8.198198118081187, 8.131079536858042, 9.217776067095423, 8.009366873514521, 10.086640438085567, 9.145577282603492, 7.979456912820416, 7.966608602485058, 9.93245129006851, 13.024437116939804, 7.260361666490061, 7.2515311390607575, 7.23234862199194, 9.14674676433114, 7.156991475063806, 7.121150218105893, 7.130802851172815, 6.830751260843088, 8.260325095932348, 6.3278353262533376, 6.300915682178429, 6.368519367786549, 6.296098552055866, 13.306190632596552, 8.217432251879947, 7.272729640619194, 7.1840355318451, 9.154452273176886, 8.180598132853897, 10.230725219352149, 10.175502319662302, 8.217452367970742, 8.323108096084422, 9.305436186808578, 11.731022031804967, 8.26945451782416, 13.47136826741865, 21.932039707881547, 177.0776136220693, 518.1207018289771, 148.53250721180373, 33.97526425638032, 46.57168504881282, 52.54374988841218, 29.863634329136275, 21.575618989837754, 26.13229056206331, 28.662605013431673, 61.117944967887844, 95.50354489496071, 87.57994891734536, 149.38745802883935, 63.96278107535851, 68.02898128014593, 90.68420804459709, 21.506817189682945, 117.95277142107716, 42.19824936018291, 52.23184943830476, 134.66635421793887, 71.85191782910412, 41.43963746076014, 152.30004687282664, 36.47432798837767, 88.73152690430274, 60.23575903509021, 54.43152194665871, 40.59924513965369, 133.60284905508487, 93.77401801955648, 155.20439348724463, 50.4990075841605, 172.96910435842491, 176.95495492948578, 132.66087602478473, 110.08920474530763, 11.963981515047514, 13.877304406918977, 10.143673436153087, 10.141497297714807, 9.10080960146672, 8.90244786830635, 14.12568262633306, 8.197038171268066, 8.182071394591718, 8.135178247256526, 8.044906700197828, 7.244676491265333, 7.219341174661861, 9.082441383388936, 7.19896242688381, 7.174190212673908, 7.144015426117481, 7.141339907863571, 7.109712481010691, 8.987957641389677, 9.153131107552445, 7.100853564426719, 8.97655161848144, 8.964251860157178, 12.792465077967078, 7.995049557417479, 7.039969596450383, 6.852754744391616, 8.261756233413642, 8.228026873275656, 8.22671242194813, 11.267837384132593, 13.186124444232583, 10.093661640502612, 8.199388997348018, 8.372179792720969, 8.918271346876912, 9.280851224877383, 7.883757968488329, 20.002634933798277, 9.28473862243702, 26.927953090591007, 28.842974005706765, 46.63118798624396, 176.95495492948578, 56.26004900307484, 43.39763814348821, 141.6322015576676, 88.084695747261, 74.77868138347338, 155.20439348724463, 51.25830083005202, 20.96765433014095, 518.1207018289771, 74.90677460879547, 34.628977189459555, 132.66087602478473, 54.48580475347539, 172.96910435842491, 148.53250721180373, 84.61899117108021, 104.28123256499609, 66.15546562450774, 37.77716233606891, 54.58893328707664, 117.95277142107716, 61.132648955009095, 60.312875764851086, 70.98144119890259, 149.38745802883935, 110.08920474530763, 133.60284905508487, 94.46258792372551, 152.30004687282664, 134.66635421793887, 57.20905255248404, 90.68420804459709, 12.045376116832752, 19.98362101214724, 11.014225302494236, 10.222032178098438, 9.196550092627486, 8.171171599918209, 8.149283822022419, 8.10550251578197, 9.285974727762472, 9.272153215539785, 10.247346027918326, 16.190130365209733, 7.336621501921248, 7.305451331428904, 7.307524687012651, 7.245386956270576, 7.195184839573947, 9.275902929195864, 9.240714862126604, 11.095267851865298, 8.246163858293125, 8.079019998563275, 9.209163474416021, 9.063129583721834, 8.185610965693476, 7.3338402883871, 6.370822885432627, 6.340738178446389, 6.346850425671484, 6.374094475465784, 7.353599553974374, 7.338009395719421, 7.196223533659908, 7.278252031259969, 8.3608711357305, 8.32727810112105, 8.25580612433501, 10.26948688243505, 11.483551683510452, 8.11113250036784, 9.364447151456476, 9.185061069963217, 8.26204883189783, 19.996709796209956, 16.212363622913774, 27.659278415284966, 518.1207018289771, 22.812458274826657, 141.6322015576676, 134.66635421793887, 72.01472051632456, 20.224478502222286, 32.94314203351408, 177.0776136220693, 27.99067934685435, 31.70396939813434, 88.73152690430274, 30.826588151305355, 94.46258792372551, 104.28123256499609, 152.30004687282664, 76.80762227832847, 40.64888868520959, 65.87773496839723, 35.59859613805355, 55.66008769333449, 93.77401801955648, 110.08920474530763, 89.64448208055357, 172.96910435842491, 176.95495492948578, 87.70139657804793, 66.86941692257898, 155.20439348724463, 148.53250721180373, 71.85191782910412, 133.60284905508487, 84.61899117108021, 55.45990078418374, 14.981330893939237, 11.063438742311313, 15.953287714190427, 10.1210602665613, 10.020317201352741, 10.213955575867093, 9.13516837949405, 15.956025791060593, 8.238944710974222, 8.177281459150256, 10.22666900910829, 8.161300161157126, 9.261497263688446, 8.083055365340304, 10.112381552273305, 7.180270211224501, 9.230600572664878, 9.274900320302368, 7.012662402255729, 8.23808069487408, 6.3743187927079, 6.366648873727629, 6.3627457849297855, 6.356158170192276, 6.345203903782002, 6.334984427745, 6.326606572601217, 6.318072026044371, 6.321134868126288, 6.301541554191695, 7.153585310240915, 12.421993539604847, 7.217684503989266, 7.3567089105508385, 7.333179437423635, 7.446384113051991, 8.269353549330596, 7.356031465290592, 8.028153692702285, 8.773037117308057, 55.68418671292364, 18.015986739064427, 10.041542367493683, 82.74933365522546, 67.00011492025392, 14.339364829686966, 54.128012138658335, 46.573499866652476, 15.222887953267893, 56.473947295514016, 26.070661016001388, 518.1207018289771, 27.129144404864366, 63.260549496628244, 38.08268931830762, 87.70139657804793, 93.77401801955648, 33.50957401318937, 34.16410717685554, 71.05205480613547, 95.50354489496071, 149.38745802883935, 132.66087602478473, 133.60284905508487, 172.96910435842491, 71.85191782910412, 25.053967201571822, 65.00577853175842, 155.20439348724463, 152.30004687282664, 177.0776136220693, 61.132648955009095, 94.46258792372551, 55.66008769333449, 87.52346331806008, 176.95495492948578, 55.45990078418374, 10.16945472801589, 9.28832157823803, 8.339239765352906, 8.325502121607082, 8.287095174430707, 8.28672667797424, 8.241561097626859, 8.044146316845808, 7.371786439712632, 7.300784416023367, 8.303937077194798, 10.289766291589133, 8.383395210442401, 6.400040716639316, 6.367291025365248, 6.353037710318831, 6.357436523818427, 6.339315427729285, 6.325145019718406, 6.328807955886412, 6.308228111128949, 6.296709999616251, 8.19496409541835, 6.259831394503232, 6.188961921386001, 7.269226185878571, 6.172432132902143, 8.26555941885996, 6.089962250734486, 8.294294039872865, 8.367991333437294, 10.975881973022105, 10.24926060792394, 9.37555408312845, 18.50746474747145, 7.216464295402215, 7.37893795024481, 7.243703936651404, 13.986936884568994, 8.48333253639272, 8.296815139000644, 7.491665977603345, 7.281208528262372, 9.901684810561273, 12.401491178164779, 17.840033919885478, 28.010597496256832, 8.335801403495942, 13.311904628214954, 19.98675145707911, 89.64448208055357, 10.431398108449669, 65.00577853175842, 39.680562077314576, 87.52346331806008, 66.14397834460219, 35.94245031046138, 172.96910435842491, 13.09192391755174, 50.58894338537151, 133.60284905508487, 54.464999163630004, 19.940174992900126, 152.30004687282664, 66.86941692257898, 36.84803417142187, 176.95495492948578, 110.08920474530763, 177.0776136220693, 117.95277142107716, 149.38745802883935, 39.653878600482564, 91.44961139636166, 58.308958904693085, 51.56950311581166, 90.68420804459709, 38.014046434440516, 61.24676489804278, 88.73152690430274, 518.1207018289771, 87.57994891734536, 87.70139657804793, 93.77401801955648, 84.61899117108021, 132.66087602478473], \"Category\": [\"Default\", \"Default\", \"Default\", \"Default\", \"Default\", \"Default\", \"Default\", \"Default\", \"Default\", \"Default\", \"Default\", \"Default\", \"Default\", \"Default\", \"Default\", \"Default\", \"Default\", \"Default\", \"Default\", \"Default\", \"Default\", \"Default\", \"Default\", \"Default\", \"Default\", \"Default\", \"Default\", \"Default\", \"Default\", \"Default\", \"Topic1\", \"Topic1\", \"Topic1\", \"Topic1\", \"Topic1\", \"Topic1\", \"Topic1\", \"Topic1\", \"Topic1\", \"Topic1\", \"Topic1\", \"Topic1\", \"Topic1\", \"Topic1\", \"Topic1\", \"Topic1\", \"Topic1\", \"Topic1\", \"Topic1\", \"Topic1\", \"Topic1\", \"Topic1\", \"Topic1\", \"Topic1\", \"Topic1\", \"Topic1\", \"Topic1\", \"Topic1\", \"Topic1\", \"Topic1\", \"Topic1\", \"Topic1\", \"Topic1\", \"Topic1\", \"Topic1\", \"Topic1\", \"Topic1\", \"Topic1\", \"Topic1\", \"Topic1\", \"Topic1\", \"Topic1\", \"Topic1\", \"Topic1\", \"Topic1\", \"Topic1\", \"Topic1\", \"Topic1\", \"Topic1\", \"Topic1\", \"Topic1\", \"Topic1\", \"Topic1\", \"Topic1\", \"Topic1\", \"Topic1\", \"Topic1\", \"Topic1\", \"Topic1\", \"Topic1\", \"Topic1\", \"Topic1\", \"Topic1\", \"Topic1\", \"Topic1\", \"Topic1\", \"Topic1\", \"Topic1\", \"Topic1\", \"Topic1\", \"Topic1\", \"Topic1\", \"Topic1\", \"Topic1\", \"Topic1\", \"Topic1\", \"Topic1\", \"Topic1\", \"Topic1\", \"Topic1\", \"Topic1\", \"Topic1\", \"Topic1\", \"Topic2\", \"Topic2\", \"Topic2\", \"Topic2\", \"Topic2\", \"Topic2\", \"Topic2\", \"Topic2\", \"Topic2\", \"Topic2\", \"Topic2\", \"Topic2\", \"Topic2\", \"Topic2\", \"Topic2\", \"Topic2\", \"Topic2\", \"Topic2\", \"Topic2\", \"Topic2\", \"Topic2\", \"Topic2\", \"Topic2\", \"Topic2\", \"Topic2\", \"Topic2\", \"Topic2\", \"Topic2\", \"Topic2\", \"Topic2\", \"Topic2\", \"Topic2\", \"Topic2\", \"Topic2\", \"Topic2\", \"Topic2\", \"Topic2\", \"Topic2\", \"Topic2\", \"Topic2\", \"Topic2\", \"Topic2\", \"Topic2\", \"Topic2\", \"Topic2\", \"Topic2\", \"Topic2\", \"Topic2\", \"Topic2\", \"Topic2\", \"Topic2\", \"Topic2\", \"Topic2\", \"Topic2\", \"Topic2\", \"Topic2\", \"Topic2\", \"Topic2\", \"Topic2\", \"Topic2\", \"Topic2\", \"Topic2\", \"Topic2\", \"Topic2\", \"Topic2\", \"Topic2\", \"Topic2\", \"Topic2\", \"Topic2\", \"Topic2\", \"Topic2\", \"Topic2\", \"Topic2\", \"Topic2\", \"Topic2\", \"Topic2\", \"Topic2\", \"Topic3\", \"Topic3\", \"Topic3\", \"Topic3\", \"Topic3\", \"Topic3\", \"Topic3\", \"Topic3\", \"Topic3\", \"Topic3\", \"Topic3\", \"Topic3\", \"Topic3\", \"Topic3\", \"Topic3\", \"Topic3\", \"Topic3\", \"Topic3\", \"Topic3\", \"Topic3\", \"Topic3\", \"Topic3\", \"Topic3\", \"Topic3\", \"Topic3\", \"Topic3\", \"Topic3\", \"Topic3\", \"Topic3\", \"Topic3\", \"Topic3\", \"Topic3\", \"Topic3\", \"Topic3\", \"Topic3\", \"Topic3\", \"Topic3\", \"Topic3\", \"Topic3\", \"Topic3\", \"Topic3\", \"Topic3\", \"Topic3\", \"Topic3\", \"Topic3\", \"Topic3\", \"Topic3\", \"Topic3\", \"Topic3\", \"Topic3\", \"Topic3\", \"Topic3\", \"Topic3\", \"Topic3\", \"Topic3\", \"Topic3\", \"Topic3\", \"Topic3\", \"Topic3\", \"Topic3\", \"Topic3\", \"Topic3\", \"Topic3\", \"Topic3\", \"Topic3\", \"Topic3\", \"Topic3\", \"Topic3\", \"Topic3\", \"Topic3\", \"Topic3\", \"Topic3\", \"Topic3\", \"Topic3\", \"Topic3\", \"Topic3\", \"Topic3\", \"Topic3\", \"Topic3\", \"Topic4\", \"Topic4\", \"Topic4\", \"Topic4\", \"Topic4\", \"Topic4\", \"Topic4\", \"Topic4\", \"Topic4\", \"Topic4\", \"Topic4\", \"Topic4\", \"Topic4\", \"Topic4\", \"Topic4\", \"Topic4\", \"Topic4\", \"Topic4\", \"Topic4\", \"Topic4\", \"Topic4\", \"Topic4\", \"Topic4\", \"Topic4\", \"Topic4\", \"Topic4\", \"Topic4\", \"Topic4\", \"Topic4\", \"Topic4\", \"Topic4\", \"Topic4\", \"Topic4\", \"Topic4\", \"Topic4\", \"Topic4\", \"Topic4\", \"Topic4\", \"Topic4\", \"Topic4\", \"Topic4\", \"Topic4\", \"Topic4\", \"Topic4\", \"Topic4\", \"Topic4\", \"Topic4\", \"Topic4\", \"Topic4\", \"Topic4\", \"Topic4\", \"Topic4\", \"Topic4\", \"Topic4\", \"Topic4\", \"Topic4\", \"Topic4\", \"Topic4\", \"Topic4\", \"Topic4\", \"Topic4\", \"Topic4\", \"Topic4\", \"Topic4\", \"Topic4\", \"Topic4\", \"Topic4\", \"Topic4\", \"Topic4\", \"Topic4\", \"Topic4\", \"Topic4\", \"Topic4\", \"Topic4\", \"Topic4\", \"Topic4\", \"Topic4\", \"Topic5\", \"Topic5\", \"Topic5\", \"Topic5\", \"Topic5\", \"Topic5\", \"Topic5\", \"Topic5\", \"Topic5\", \"Topic5\", \"Topic5\", \"Topic5\", \"Topic5\", \"Topic5\", \"Topic5\", \"Topic5\", \"Topic5\", \"Topic5\", \"Topic5\", \"Topic5\", \"Topic5\", \"Topic5\", \"Topic5\", \"Topic5\", \"Topic5\", \"Topic5\", \"Topic5\", \"Topic5\", \"Topic5\", \"Topic5\", \"Topic5\", \"Topic5\", \"Topic5\", \"Topic5\", \"Topic5\", \"Topic5\", \"Topic5\", \"Topic5\", \"Topic5\", \"Topic5\", \"Topic5\", \"Topic5\", \"Topic5\", \"Topic5\", \"Topic5\", \"Topic5\", \"Topic5\", \"Topic5\", \"Topic5\", \"Topic5\", \"Topic5\", \"Topic5\", \"Topic5\", \"Topic5\", \"Topic5\", \"Topic5\", \"Topic5\", \"Topic5\", \"Topic5\", \"Topic5\", \"Topic5\", \"Topic5\", \"Topic5\", \"Topic5\", \"Topic5\", \"Topic5\", \"Topic5\", \"Topic5\", \"Topic5\", \"Topic5\", \"Topic5\", \"Topic5\", \"Topic5\", \"Topic5\", \"Topic5\", \"Topic5\", \"Topic5\", \"Topic5\", \"Topic5\", \"Topic5\", \"Topic5\", \"Topic5\", \"Topic5\", \"Topic5\", \"Topic5\"], \"logprob\": [30.0, 29.0, 28.0, 27.0, 26.0, 25.0, 24.0, 23.0, 22.0, 21.0, 20.0, 19.0, 18.0, 17.0, 16.0, 15.0, 14.0, 13.0, 12.0, 11.0, 10.0, 9.0, 8.0, 7.0, 6.0, 5.0, 4.0, 3.0, 2.0, 1.0, -6.7172, -6.7996, -6.8031, -6.8183, -6.6235, -7.0151, -7.019, -7.0206, -7.0291, -6.9041, -7.0451, -6.8145, -6.9128, -7.0495, -7.0512, -6.8322, -6.5627, -7.1474, -7.1488, -7.1516, -6.917, -7.1628, -7.168, -7.1667, -7.2123, -7.0239, -7.2919, -7.2964, -7.2858, -7.2973, -6.5518, -7.0313, -7.1533, -7.1656, -6.93, -7.0395, -6.8271, -6.8363, -7.0354, -7.0253, -6.9243, -6.7307, -7.0374, -6.6393, -6.2894, -4.9128, -4.177, -5.0545, -6.058, -5.8866, -5.8429, -6.2042, -6.4112, -6.2928, -6.2458, -5.7928, -5.5318, -5.6082, -5.3036, -5.805, -5.7813, -5.6479, -6.4307, -5.5292, -6.0994, -6.0048, -5.5878, -5.8854, -6.1447, -5.561, -6.2248, -5.8905, -6.0428, -6.09, -6.2175, -5.8697, -5.9946, -5.8883, -6.163, -5.9549, -5.958, -6.0269, -6.1263, -6.589, -6.4435, -6.7592, -6.7607, -6.8719, -6.895, -6.4337, -6.9806, -6.9826, -6.9887, -7.0003, -7.1099, -7.1136, -6.8841, -7.1166, -7.1202, -7.1247, -7.1251, -7.1298, -6.8955, -6.8774, -7.1313, -6.8978, -6.8992, -6.5443, -7.0144, -7.1417, -7.1692, -6.9827, -6.9874, -6.9885, -6.6819, -6.5304, -6.7923, -6.9933, -6.9798, -6.9232, -6.891, -7.0378, -6.2562, -6.9093, -6.0881, -6.0357, -5.6709, -4.6656, -5.541, -5.7458, -4.8989, -5.2717, -5.3962, -4.8793, -5.6723, -6.3172, -4.096, -5.4375, -5.9758, -5.1062, -5.7181, -5.0189, -5.1167, -5.4811, -5.4058, -5.6745, -6.0402, -5.8422, -5.4392, -5.8245, -5.8556, -5.7904, -5.5446, -5.6639, -5.5936, -5.7989, -5.7237, -5.7507, -5.9294, -5.9253, -6.491, -5.9848, -6.583, -6.6598, -6.7691, -6.892, -6.8949, -6.9005, -6.7652, -6.7671, -6.6674, -6.2101, -7.0042, -7.0086, -7.0084, -7.0174, -7.0247, -6.7712, -6.7756, -6.5938, -6.8911, -6.9116, -6.7807, -6.7973, -6.9013, -7.0114, -7.1522, -7.1572, -7.1563, -7.152, -7.0097, -7.0123, -7.0317, -7.0212, -6.8869, -6.8914, -6.8999, -6.6981, -6.5969, -6.9185, -6.7929, -6.8106, -6.9044, -6.2366, -6.4205, -6.0823, -4.1131, -6.2172, -5.051, -5.0986, -5.5348, -6.3374, -6.0569, -5.085, -6.179, -6.1103, -5.5375, -6.1524, -5.5926, -5.5456, -5.3671, -5.74, -6.0558, -5.8846, -6.1639, -5.9947, -5.8111, -5.7984, -5.8892, -5.6936, -5.7191, -5.9245, -6.0023, -5.7734, -5.8319, -6.0128, -5.9348, -6.085, -6.1325, -6.2473, -6.558, -6.1947, -6.6498, -6.6603, -6.6419, -6.7558, -6.199, -6.8628, -6.8708, -6.6471, -6.8728, -6.7468, -6.8831, -6.6626, -7.0063, -6.7562, -6.7523, -7.0322, -6.872, -7.131, -7.1323, -7.133, -7.134, -7.1359, -7.1376, -7.139, -7.1404, -7.1399, -7.1432, -7.0171, -6.4727, -7.0089, -6.9935, -7.0055, -6.9922, -6.8999, -7.0061, -6.9466, -6.8784, -5.4402, -6.3659, -6.7859, -5.3498, -5.5208, -6.5558, -5.6838, -5.7871, -6.5201, -5.6893, -6.2049, -4.4412, -6.1907, -5.7175, -6.0092, -5.5554, -5.5351, -6.0925, -6.0849, -5.7389, -5.6027, -5.3942, -5.5006, -5.5791, -5.4896, -5.8672, -6.3, -5.9413, -5.6436, -5.6555, -5.6535, -6.0181, -5.9042, -6.0596, -6.0046, -5.9345, -6.1097, -6.5548, -6.6483, -6.76, -6.7618, -6.7666, -6.7667, -6.7725, -6.798, -6.8884, -6.8986, -6.7746, -6.5604, -6.7656, -7.0368, -7.042, -7.0443, -7.0438, -7.0466, -7.049, -7.0484, -7.0517, -7.0537, -6.7904, -7.0601, -7.0719, -6.9116, -7.0754, -6.7841, -7.09, -6.7831, -6.7748, -6.5114, -6.5792, -6.6795, -6.0478, -6.926, -6.9058, -6.9231, -6.3212, -6.779, -6.8001, -6.8948, -6.9231, -6.6685, -6.4951, -6.2552, -5.95, -6.8192, -6.4932, -6.2458, -5.3891, -6.6852, -5.6694, -5.9423, -5.5282, -5.6882, -6.0173, -5.2335, -6.5615, -5.9412, -5.5028, -5.9281, -6.3834, -5.5022, -5.8653, -6.1259, -5.468, -5.6806, -5.515, -5.6809, -5.5896, -6.1386, -5.8725, -6.0252, -6.0764, -5.9164, -6.1701, -6.0523, -5.96, -5.5585, -5.976, -5.9839, -6.0096, -6.038, -5.9973], \"loglift\": [30.0, 29.0, 28.0, 27.0, 26.0, 25.0, 24.0, 23.0, 22.0, 21.0, 20.0, 19.0, 18.0, 17.0, 16.0, 15.0, 14.0, 13.0, 12.0, 11.0, 10.0, 9.0, 8.0, 7.0, 6.0, 5.0, 4.0, 3.0, 2.0, 1.0, 1.4697, 1.4673, 1.4672, 1.4663, 1.4648, 1.4595, 1.4593, 1.4592, 1.4589, 1.4586, 1.4581, 1.4581, 1.4577, 1.4574, 1.4573, 1.4558, 1.4542, 1.454, 1.4538, 1.4536, 1.4534, 1.4529, 1.4527, 1.4527, 1.4501, 1.4484, 1.4469, 1.4467, 1.4466, 1.4465, 1.4437, 1.4462, 1.4464, 1.4464, 1.4396, 1.4425, 1.4312, 1.4275, 1.4421, 1.4394, 1.4289, 1.3908, 1.4338, 1.344, 1.2064, 0.4944, 0.1566, 0.5285, 1.0002, 0.8561, 0.7792, 0.9829, 1.101, 1.0278, 0.9824, 0.6782, 0.4928, 0.503, 0.2736, 0.6204, 0.5826, 0.4285, 1.0847, 0.2843, 0.742, 0.6233, 0.0931, 0.4237, 0.7149, -0.0031, 0.7624, 0.2076, 0.4427, 0.4968, 0.6625, -0.1808, 0.0482, -0.3493, 0.4988, -0.5242, -0.5501, -0.3309, -0.2438, 1.5128, 1.5101, 1.5077, 1.5065, 1.5036, 1.5025, 1.5021, 1.4994, 1.4993, 1.4989, 1.4985, 1.4936, 1.4935, 1.4934, 1.4932, 1.4931, 1.4928, 1.4928, 1.4925, 1.4924, 1.4923, 1.4923, 1.4914, 1.4913, 1.4906, 1.4905, 1.4905, 1.49, 1.4894, 1.4888, 1.4879, 1.48, 1.4742, 1.4796, 1.4864, 1.4791, 1.4725, 1.4648, 1.4812, 1.3317, 1.4461, 1.2025, 1.1862, 1.0706, 0.7423, 1.0128, 1.0676, 0.7316, 0.8338, 0.8731, 0.6597, 0.9746, 1.2236, 0.2375, 0.83, 1.0633, 0.5898, 0.8677, 0.4117, 0.4663, 0.6645, 0.5309, 0.7172, 0.9119, 0.7417, 0.3743, 0.6463, 0.6286, 0.531, 0.0326, 0.2186, 0.0953, 0.2366, -0.1658, -0.0697, 0.6077, 0.1511, 1.6041, 1.6041, 1.6016, 1.5994, 1.5958, 1.5912, 1.5909, 1.5907, 1.5901, 1.5897, 1.5893, 1.5893, 1.5867, 1.5865, 1.5865, 1.586, 1.5856, 1.5852, 1.5845, 1.5835, 1.5829, 1.5829, 1.5828, 1.5823, 1.5801, 1.5799, 1.5799, 1.5796, 1.5795, 1.5795, 1.5789, 1.5784, 1.5785, 1.5776, 1.5733, 1.5728, 1.573, 1.5565, 1.5459, 1.572, 1.5539, 1.5556, 1.5677, 1.3516, 1.3775, 1.1815, 0.2205, 1.2393, 0.5795, 0.5823, 0.7721, 1.2395, 1.0321, 0.3221, 1.0729, 1.017, 0.5607, 1.003, 0.443, 0.3911, 0.1908, 0.5025, 0.823, 0.5114, 0.8475, 0.5698, 0.2318, 0.0841, 0.1988, -0.263, -0.3112, 0.1853, 0.3787, -0.2343, -0.2489, 0.2964, -0.2459, 0.0606, 0.4356, 1.6297, 1.6221, 1.6194, 1.6194, 1.6189, 1.6181, 1.6158, 1.615, 1.6121, 1.6117, 1.6116, 1.6116, 1.6111, 1.6109, 1.6074, 1.6062, 1.6051, 1.6042, 1.6039, 1.603, 1.6005, 1.6004, 1.6004, 1.6003, 1.6002, 1.6001, 1.6, 1.6, 1.6, 1.5998, 1.599, 1.5916, 1.5983, 1.5947, 1.5859, 1.5838, 1.5713, 1.5821, 1.5542, 1.5337, 1.1239, 1.3266, 1.4912, 0.8181, 0.8583, 1.365, 0.9086, 0.9556, 1.3409, 0.8607, 1.1181, -0.1076, 1.0924, 0.719, 0.9349, 0.5544, 0.5078, 0.9794, 0.9677, 0.5814, 0.4219, 0.183, 0.1954, 0.1098, -0.0589, 0.4419, 1.0627, 0.468, -0.1045, -0.0976, -0.2463, 0.4526, 0.1314, 0.505, 0.1072, -0.5266, 0.4584, 1.7096, 1.7067, 1.7028, 1.7027, 1.7025, 1.7025, 1.7021, 1.7008, 1.6977, 1.6972, 1.6924, 1.6922, 1.6919, 1.6907, 1.6906, 1.6905, 1.6904, 1.6904, 1.6903, 1.6903, 1.6902, 1.69, 1.6899, 1.6896, 1.6891, 1.6885, 1.6882, 1.6876, 1.6872, 1.6852, 1.6845, 1.6767, 1.6773, 1.6662, 1.6179, 1.6814, 1.6794, 1.6806, 1.6244, 1.6667, 1.6678, 1.6751, 1.6753, 1.6226, 1.5709, 1.4471, 1.3012, 1.644, 1.5019, 1.3429, 0.6988, 1.5537, 0.7399, 0.9606, 0.5837, 0.7037, 0.9845, 0.1972, 1.4502, 0.7188, 0.1861, 0.6581, 1.2076, 0.0558, 0.5157, 0.851, -0.0601, 0.2019, -0.1078, 0.1326, -0.0124, 0.765, 0.1955, 0.4929, 0.5644, 0.16, 0.7757, 0.4166, 0.1381, -1.2249, 0.1353, 0.126, 0.0333, 0.1077, -0.3014]}, \"token.table\": {\"Topic\": [5, 1, 1, 3, 4, 2, 1, 3, 1, 2, 3, 4, 5, 1, 1, 2, 3, 4, 1, 3, 2, 4, 1, 2, 3, 4, 5, 1, 2, 3, 4, 5, 2, 1, 1, 2, 4, 5, 5, 1, 2, 3, 4, 5, 2, 1, 2, 3, 4, 1, 2, 5, 1, 2, 3, 4, 4, 5, 2, 1, 3, 1, 1, 2, 3, 4, 5, 1, 1, 4, 2, 5, 5, 3, 5, 1, 2, 3, 3, 4, 2, 3, 4, 1, 1, 2, 3, 1, 3, 4, 5, 1, 1, 2, 3, 5, 1, 1, 2, 3, 4, 1, 2, 1, 1, 2, 3, 4, 5, 1, 2, 3, 4, 1, 3, 2, 5, 5, 3, 2, 3, 4, 5, 1, 2, 3, 4, 5, 1, 2, 3, 4, 4, 4, 1, 2, 3, 4, 5, 1, 5, 1, 2, 2, 1, 2, 3, 4, 5, 3, 5, 2, 1, 1, 2, 3, 4, 5, 2, 3, 3, 4, 5, 1, 2, 3, 1, 2, 3, 4, 5, 5, 1, 5, 3, 2, 1, 2, 4, 5, 3, 1, 2, 3, 4, 5, 1, 4, 3, 1, 2, 4, 1, 2, 3, 4, 5, 2, 3, 4, 5, 4, 1, 2, 3, 4, 5, 5, 1, 2, 1, 2, 3, 4, 5, 2, 1, 2, 3, 4, 5, 3, 2, 5, 4, 5, 4, 4, 1, 2, 3, 4, 5, 1, 2, 5, 3, 1, 2, 5, 1, 2, 3, 4, 5, 1, 2, 4, 5, 1, 4, 5, 2, 3, 5, 1, 2, 4, 2, 1, 2, 3, 5, 2, 5, 4, 5, 5, 1, 2, 4, 5, 1, 2, 3, 4, 5, 1, 4, 5, 2, 2, 2, 5, 3, 4, 5, 1, 2, 3, 2, 2, 5, 2, 4, 4, 5, 1, 2, 3, 5, 4, 4, 3, 2, 3, 5, 1, 1, 2, 3, 4, 5, 5, 1, 5, 1, 2, 3, 4, 5, 5, 1, 2, 1, 2, 3, 4, 5, 1, 2, 3, 1, 2, 3, 4, 5, 1, 2, 3, 4, 1, 4, 3, 1, 2, 3, 1, 2, 4, 5, 1, 2, 3, 4, 5, 1, 2, 3, 4, 5, 2, 3, 1, 2, 3, 4, 2, 2, 1, 2, 3, 4, 5, 1, 2, 3, 4, 5, 1, 3, 1, 2, 3, 5, 5, 1, 5, 2, 3, 4, 1, 2, 3, 4, 1, 1, 3, 4, 1, 2, 3, 4, 5, 1, 2, 3, 4, 5, 1, 1, 2, 3, 4, 5, 1, 2, 3, 1, 2, 3, 4, 5, 4, 1, 1, 2, 1, 2, 3, 4, 5, 1, 4, 3, 1, 2, 3, 4, 5, 5, 3, 3, 4, 2, 1, 2, 3, 4, 5, 3, 1, 2, 3, 4, 5, 5, 1, 2, 3, 5, 4, 2, 5, 3, 5, 3, 4, 2, 5, 3, 4, 5, 5, 1, 2, 3, 1, 2, 3, 4, 2, 4, 5, 3, 3, 1, 2, 3, 4, 5, 4, 2, 5, 4, 1, 4, 4, 1, 2, 3, 4, 5, 1, 2, 3, 4, 5, 5, 2, 1, 2, 3, 4, 5, 1, 2, 3, 4, 5, 1, 1, 1, 3, 4, 5, 1, 2, 3, 4, 5, 2, 3, 2, 1, 2, 5, 2, 1, 2, 3, 4, 1, 1, 2, 3, 4, 5, 5, 3, 4, 2, 3, 4, 4, 5, 3, 4, 3, 1, 2, 3, 4, 5, 1, 2, 3, 4, 5, 1, 1, 2, 3, 4, 5, 3, 1, 2, 5, 2, 3, 4, 2, 4, 2, 3, 5, 3, 5, 4, 1, 2, 3, 4, 5, 1, 2, 1, 2, 3, 4, 5, 2, 5, 1, 3, 3, 1, 2, 3, 4, 5, 3, 1, 2, 3, 4, 5, 1, 2, 3, 4, 5, 5, 4, 1, 5, 1, 2, 3, 4, 5, 1, 3, 4, 5, 2, 1, 2, 3, 4, 5, 1, 4, 1, 2, 3, 5, 4, 2, 1, 2, 5, 2, 4, 1, 2, 3, 4, 1, 2, 3, 5, 1, 2, 3, 4, 5, 2, 4, 1, 1, 2, 3, 5, 1, 3, 4, 1, 3, 3, 1, 3, 2, 3, 4, 5, 1, 2, 3, 2, 4, 1, 2, 3, 4, 5, 5, 1, 2, 3, 4, 5, 1, 2, 3, 4, 5, 1, 2, 3, 4, 5, 5], \"Freq\": [0.9528785668016577, 0.9743827085724569, 0.9061207286260874, 0.975862430404473, 0.9897247560994769, 0.9367813531220394, 0.30684987631185884, 0.6575354492396975, 0.08459282619924716, 0.1691856523984943, 0.1450162734844237, 0.4350488204532711, 0.1691856523984943, 0.9816566445738573, 0.0742722624802413, 0.7055864935622923, 0.18568065620060323, 0.9981943516557056, 0.9684848849277686, 0.9706483263150067, 0.9683171197480989, 0.8719314886015582, 0.12568058418833386, 0.21708464541621303, 0.12568058418833386, 0.21708464541621303, 0.3199142142975771, 0.23435174096098482, 0.14321495280949073, 0.32548852911247894, 0.1822735763029882, 0.11717587048049241, 0.9756824566546961, 0.9780645994045415, 0.7295263100517826, 0.04559539437823641, 0.18238157751294565, 0.9423159670412302, 0.9486460039642646, 0.1972346540663991, 0.36629292898045546, 0.1127055166093709, 0.154970085337885, 0.154970085337885, 0.9762299210574549, 0.22140826701800384, 0.22140826701800384, 0.4428165340360077, 0.09840367423022392, 0.6027397670898484, 0.2678843409288215, 0.13394217046441076, 0.3340203118458535, 0.0974225909550406, 0.26443274687796736, 0.2922677728651218, 0.9402450622549433, 0.9720641508582988, 0.9858361532380351, 0.9914103770608867, 0.950778639589425, 0.9758241853604318, 0.21194834929077735, 0.1338621153415436, 0.23425870184770128, 0.0669310576707718, 0.3569656409107829, 0.9624996866244055, 0.11398561143975221, 0.9118848915180177, 0.9759622723292035, 0.9480458313511333, 0.9593200609529963, 0.6922304571888795, 0.29667019593809124, 0.11705421176353713, 0.5657620235237627, 0.31214456470276564, 0.9882564030726834, 0.9785303028369501, 0.2500411343143894, 0.7501234029431683, 0.9516000622114621, 0.9769888587161476, 0.5931072905632121, 0.10466599245233155, 0.27910931320621746, 0.1899694286928601, 0.21710791850612585, 0.16283093887959438, 0.407077347198986, 0.942134215740851, 0.2243177926520118, 0.19440875363174356, 0.28413587069254825, 0.2990903902026824, 0.9839563980383279, 0.4221204823503473, 0.2345113790835263, 0.2345113790835263, 0.10943864357231227, 0.9779236029051958, 1.0026121814383915, 0.989185102529995, 0.3674341500059361, 0.23883219750385845, 0.20208878250326484, 0.11023024500178083, 0.09185853750148402, 0.14998024059974852, 0.799894616531992, 0.9568380937976303, 0.9515124337678695, 0.9522425473761628, 0.9544794711556883, 0.4012000899113709, 0.6018001348670563, 0.964225412519388, 0.9737584861327414, 0.38455452447524846, 0.26219626668766943, 0.12235825778757907, 0.20975701335013552, 0.27047883471997597, 0.04507980578666266, 0.3380985433999699, 0.13523941735998798, 0.20285912603998196, 0.11450509866097391, 0.40894678093204967, 0.17993658361010187, 0.29444168227107576, 0.9979723993817283, 0.9748936730900886, 0.1968297046335632, 0.24056963899657724, 0.16402475386130266, 0.18589472104280969, 0.21869967181507022, 0.1009929137446777, 0.9089362237020994, 0.9671765857422605, 0.9662267195008181, 0.9798411093023425, 0.2967289329307425, 0.3136848719553563, 0.07630172561076234, 0.11021360365999006, 0.20347126829536627, 0.9661319736610887, 0.9609030041848996, 0.9943224759847634, 0.967873697171425, 0.39688967101848804, 0.17639540934155024, 0.1322965570061627, 0.14699617445129187, 0.14699617445129187, 0.8970348275847784, 0.9869838402274814, 0.9902191109098223, 0.9703608329136839, 0.963398436865628, 0.8907781126452279, 0.07423150938710232, 0.9727324293440741, 0.1334992736267917, 0.4939473124191293, 0.10679941890143337, 0.12014934626411253, 0.16019912835215006, 0.9833368914511161, 0.9611793944816809, 0.9560239346846772, 0.946262064627643, 1.00133983259499, 0.20059192971160233, 0.5081662219360593, 0.1203551578269614, 0.1738463390833887, 0.979051767812596, 0.4739533109369092, 0.09479066218738183, 0.047395331093690915, 0.09479066218738183, 0.30806965210899095, 0.9213449988093992, 0.9471215073113857, 0.9690150034433356, 0.9840822204979444, 0.9757198781311675, 0.9429891123752026, 0.18238228339313475, 0.39792498194865766, 0.2155426985555229, 0.06632083032477627, 0.13264166064955255, 0.13911127251512687, 0.08346676350907613, 0.27822254503025373, 0.4729783265514314, 0.9852035152633347, 0.11507343847821012, 0.36439922184766543, 0.2876835961955253, 0.14384179809776265, 0.07671562565214009, 0.9700041063682489, 0.9706950206962269, 1.0214870166962988, 0.11708194156204377, 0.08781145617153283, 0.2048933977335766, 0.497598251638686, 0.11708194156204377, 0.9380521992331275, 0.1299765808149605, 0.4520924550085582, 0.14127889219017445, 0.11302311375213955, 0.16388351494060235, 0.998708460912724, 0.22914890270466953, 0.7638296756822318, 0.767119055177853, 0.20921428777577808, 0.942411010721727, 0.9698401192419882, 0.19440469808983607, 0.1388604986355972, 0.4304675457703513, 0.12497444877203748, 0.11108839890847776, 0.16816111524631328, 0.05605370508210443, 0.7286981660673576, 0.9728728526193771, 0.45849821968137167, 0.3861037639422077, 0.1447889114783279, 0.07341361696130329, 0.513895318729123, 0.0917670212016291, 0.16518063816293238, 0.14682723392260658, 0.2310203953247299, 0.606428537727416, 0.14438774707795618, 0.9430256288646864, 0.08063546436743778, 0.08063546436743778, 0.8063546436743778, 0.9889230073058035, 0.9606980699879603, 0.9511387182424215, 0.18474722430935128, 0.33254500375683227, 0.48034278320431334, 0.9723623468097563, 0.22681130328910615, 0.12600627960505897, 0.20161004736809435, 0.4536226065782123, 0.9911025449418804, 0.9110885143061168, 0.5221929523165846, 0.44185557503711004, 0.9678715734286516, 0.13844923025732353, 0.18459897367643135, 0.3076649561273856, 0.3691979473528627, 0.13604318124043085, 0.4383613617747217, 0.15115909026714539, 0.04534772708014362, 0.21162272637400356, 0.9743563932099856, 0.980235972458798, 0.9374940356864826, 1.0109578997975317, 1.003987855361551, 0.09586442676269612, 0.862779840864265, 0.9798519499703274, 0.9709981412236025, 0.9762092800958884, 0.24269341984689255, 0.6934097709911216, 0.06934097709911216, 0.8916486722604114, 0.9100475314601345, 0.9597157624994387, 0.9833834928814112, 0.9778354996229555, 0.9790526232194886, 0.9756801375768286, 0.17155900043464414, 0.621901376575585, 0.12866925032598311, 0.08577950021732207, 0.9710999802390599, 0.9880387762375779, 0.9773247267099077, 1.0006191884799422, 0.9692035853912582, 0.9689586998243526, 0.9859000771816275, 0.11860299105861505, 0.0988358258821792, 0.1976716517643584, 0.2372059821172301, 0.35580897317584514, 0.9495663035340013, 0.9653133753083026, 0.9663564470907872, 0.34863012164861235, 0.13281147491375708, 0.0996086061853178, 0.2822243841917338, 0.1494129092779767, 0.9613788662732502, 0.4660812395341993, 0.5209143265382227, 0.22677801328870484, 0.1511853421924699, 0.1209482737539759, 0.1360668079732229, 0.34772628704268077, 0.983128179756921, 0.08708107278656023, 0.9578918006521626, 0.1593655204036873, 0.1947800804933956, 0.12395096031397901, 0.46038928116620775, 0.07082912017941657, 0.1973352606345124, 0.27323343780163256, 0.3339519795353287, 0.21251489606793644, 0.523933584130382, 0.48650975669249763, 0.9519147661796099, 0.2919557609108582, 0.16219764495047675, 0.5190324638415257, 0.11940278027167421, 0.268656255611267, 0.4477604260187783, 0.16417882287355204, 0.07037094160953444, 0.1407418832190689, 0.2251870131505102, 0.3377805197257653, 0.2251870131505102, 0.1836041522732214, 0.11016249136393284, 0.14688332181857713, 0.23868539795518784, 0.3304874740917985, 1.0030105767805797, 0.9541176409559773, 0.515334585270966, 0.10736137193145125, 0.15030592070403173, 0.2147227438629025, 0.9722865667811222, 0.9696175635206582, 0.09796435795405968, 0.2449108948851492, 0.2449108948851492, 0.14694653693108953, 0.2612382878774925, 0.07327492513847964, 0.4579682821154977, 0.2198247754154389, 0.201506044130819, 0.054956193853859726, 0.9376847106907624, 0.08524406460825112, 0.4417687802524471, 0.22906529346423182, 0.21270348678821527, 0.11453264673211591, 0.9706898857188093, 0.9838791963276388, 0.9694679133938372, 0.22472796311898105, 0.4494559262379621, 0.30900094928859895, 0.15342917456311983, 0.03835729364077996, 0.1917864682038998, 0.5753594046116993, 0.964139297950989, 0.11058218258671246, 0.2948858202312332, 0.5897716404624664, 0.2945361048415843, 0.22090207863118821, 0.08032802859315935, 0.2275960810139515, 0.17404406195184527, 0.3762450176537634, 0.21782606285217881, 0.17822132415178266, 0.17822132415178266, 0.07920947740079229, 0.9774478138738674, 0.14758522907657584, 0.48816652694559703, 0.1702906489345106, 0.1589379390055432, 0.03405812978690212, 0.9529711058987187, 0.18504396211296079, 0.8018571691561635, 0.22324352945466017, 0.1838476124920731, 0.23637550177552255, 0.1772816263316419, 0.1838476124920731, 0.940083714856101, 0.9829872682929981, 0.9763743374204092, 0.9777475182247779, 0.07756522282204353, 0.15513044564408707, 0.2714782798771524, 0.19391305705510883, 0.31026089128817413, 0.9895792668790775, 0.9439664400010515, 0.970148075817635, 0.3670706797457034, 0.05647241226856975, 0.2710675788891348, 0.15247551312513832, 0.1581227543519953, 0.9653563560707592, 0.9786278451541244, 0.9739506233318397, 0.9942659110075156, 0.9724419172179543, 0.3418456274631045, 0.253627401021013, 0.17643645288418297, 0.03308183491578431, 0.20951828779996728, 0.961769387750674, 0.13297172396949933, 0.32375724096921576, 0.15031586187856444, 0.179222758393673, 0.21391103421180327, 0.9945119947963456, 0.27740035497728427, 0.025218214088844025, 0.32783678315497233, 0.3782732113326604, 0.9521479702072085, 0.07149528222317526, 0.8579433866781031, 0.9417935654308422, 0.9464744369328809, 0.9579167091205041, 0.9496567901199585, 0.30019885987399214, 0.6504308630603164, 0.9962329016219476, 0.948375709971336, 0.9485948513900032, 0.9599432652407959, 1.0034178787936991, 0.985796980107861, 0.9862987689619422, 0.15882611686456172, 0.529420389548539, 0.2117681558194156, 0.07941305843228086, 0.477475481893694, 0.5073176995120499, 0.9852277818760475, 0.9930344608737339, 0.9453507799288042, 0.3770218455960308, 0.3433591808106709, 0.1548482580126555, 0.0336626647853599, 0.0942554613990077, 0.9750178148377724, 0.22536219149597994, 0.7512073049865998, 0.9888867373434854, 1.0010069403718993, 0.9660285172215385, 0.9717651200185852, 0.03593239038751115, 0.2515267327125781, 0.34135770868135595, 0.32339151348760037, 0.05389858558126673, 0.2605570468878142, 0.2721373600828282, 0.2431865770952933, 0.1717746457260405, 0.052111409377562846, 0.9629635701250323, 0.9697386351669383, 0.24505007350680974, 0.2004955146873898, 0.349010710752123, 0.11138639704854988, 0.08910911763883991, 0.12005016264210121, 0.24010032528420241, 0.2572503485187883, 0.08575011617292944, 0.29155039498796004, 0.9735401223624078, 0.884477219626705, 0.14280309445503744, 0.03570077361375936, 0.1785038680687968, 0.6426139250476686, 0.07891819686109544, 0.07891819686109544, 0.15783639372219088, 0.2893667218240166, 0.3682849186851121, 0.7153876043462591, 0.23846253478208637, 0.9860476916217598, 0.27651274385771135, 0.6221536736798506, 0.09217091461923713, 0.9909229930688334, 0.4211989473201781, 0.15316325357097385, 0.2297448803564608, 0.19145406696371733, 0.9481915521895469, 0.36647854316292283, 0.11517897070834718, 0.14659141726516914, 0.2931828345303383, 0.08376652415152522, 0.9718393709460643, 0.9539371813946441, 0.9545654868714503, 0.16651877265734435, 0.05550625755244812, 0.7215813481818255, 0.7225961350939742, 0.2627622309432634, 0.9816813568796073, 0.9783202449327605, 0.9581885748639764, 0.2346065622933201, 0.02132786929939274, 0.24527049694301647, 0.3199180394908911, 0.18128688904483828, 0.15829836670215128, 0.38443889056236735, 0.09045620954408644, 0.2336785413222233, 0.12814629685412246, 0.9674156841611049, 0.4948257415052509, 0.09515879644331748, 0.15225407430930796, 0.13322231502064447, 0.13322231502064447, 0.9914136501130721, 0.6509563863645966, 0.046496884740328336, 0.27898130844197, 0.15965535389337662, 0.27939686931340907, 0.5587937386268181, 0.9555456521556605, 0.9412770517320042, 0.05403225204773784, 0.05403225204773784, 0.8645160327638054, 0.9413101771701545, 0.9645184944664229, 0.9674274962699594, 0.21637254719759982, 0.054093136799399956, 0.3065277751965998, 0.3065277751965998, 0.1262173191985999, 0.9988305101186592, 0.8616289941288829, 0.12142132635468335, 0.12142132635468335, 0.5463959685960751, 0.18213198953202503, 0.9343716098564456, 0.9845686472830341, 0.9584922694992407, 1.0025744969117607, 0.9772874621026004, 0.9610818294382928, 0.365380436910284, 0.20552649576203474, 0.11418138653446375, 0.10276324788101737, 0.20552649576203474, 0.9702559490648117, 0.15963257765845276, 0.06841396185362261, 0.23944886648767913, 0.3306674822925093, 0.19383955858526405, 0.10503459896349983, 0.13129324870437478, 0.18381054818612472, 0.4989143450766242, 0.07877594922262487, 0.9444300936943261, 0.9491966435100793, 0.9735377391637452, 0.9588010823380537, 0.15463479777054392, 0.4123594607214505, 0.15463479777054392, 0.17396414749186193, 0.10308986518036263, 0.036154233128778364, 0.6507761963180105, 0.1807711656438918, 0.14461693251511346, 0.9832700847662835, 0.17258731266118846, 0.26342274037760344, 0.20892148374775446, 0.12716959880298098, 0.21800502651939596, 0.4879469544402802, 0.4879469544402802, 0.15997142127459066, 0.5865618780068325, 0.14219681891074726, 0.10664761418306044, 0.9400535741542568, 0.9944179961469629, 0.6122693287065877, 0.19133416522080865, 0.15306733217664692, 0.09958629495376961, 0.8962766545839266, 0.1288286260894925, 0.27912868986056705, 0.08588575072632833, 0.4938430666763879, 0.6180967377187168, 0.11773271194642224, 0.11773271194642224, 0.14716588993302782, 0.14366735822583712, 0.10775051866937783, 0.07183367911291856, 0.5926278526815781, 0.0897920988911482, 0.9802082088673671, 0.9455960897369672, 0.878380689162944, 0.6488805723995258, 0.046348612314251844, 0.27809167388551104, 0.9542673104609404, 0.2858094260902266, 0.5716188521804532, 0.1429047130451133, 1.00419141935811, 0.9782790570182159, 0.9682828270287969, 0.4415850843214556, 0.536210459533196, 0.41361873399362586, 0.2127182060538647, 0.17726517171155393, 0.20090052793976113, 0.4433579968810607, 0.4679889967077863, 0.09852399930690238, 0.8879014332985942, 1.0012461580478351, 0.15807640116267083, 0.11065348081386958, 0.12646112093013664, 0.3951910029066771, 0.20549932151147207, 0.9437766271862449, 0.11644821766773983, 0.27524124176011233, 0.3069998465785868, 0.2223102337293215, 0.0952758144554235, 0.18712175808236262, 0.23203098002212963, 0.14969740646589008, 0.21706123937554062, 0.20957636905224614, 0.07766595363923078, 0.4448140981155944, 0.3459665207565734, 0.04236324743958042, 0.08472649487916084, 0.965399283804503], \"Term\": [\"11\", \"13\", \"17\", \"19\", \"70\", \"account\", \"across\", \"across\", \"actor\", \"actor\", \"actor\", \"actor\", \"actor\", \"additional\", \"administration\", \"administration\", \"administration\", \"advance\", \"agent\", \"agreement\", \"aid\", \"allowing\", \"also\", \"also\", \"also\", \"also\", \"also\", \"american\", \"american\", \"american\", \"american\", \"american\", \"anniversary\", \"anthony\", \"area\", \"area\", \"area\", \"asking\", \"atlanta\", \"attack\", \"attack\", \"attack\", \"attack\", \"attack\", \"attempt\", \"authority\", \"authority\", \"authority\", \"authority\", \"away\", \"away\", \"away\", \"back\", \"back\", \"back\", \"back\", \"bad\", \"ball\", \"bar\", \"based\", \"beijing\", \"believed\", \"biden\", \"biden\", \"biden\", \"biden\", \"biden\", \"bird\", \"block\", \"block\", \"boat\", \"bomb\", \"box\", \"business\", \"business\", \"capitol\", \"capitol\", \"capitol\", \"cat\", \"celebrated\", \"center\", \"center\", \"central\", \"chair\", \"change\", \"change\", \"change\", \"charge\", \"charge\", \"charge\", \"charge\", \"chicago\", \"child\", \"child\", \"child\", \"child\", \"china\", \"city\", \"city\", \"city\", \"city\", \"civil_right\", \"co-host\", \"coach\", \"come\", \"come\", \"come\", \"come\", \"come\", \"committee\", \"committee\", \"competition\", \"congressman\", \"conservatorship\", \"considering\", \"conspiracy\", \"conspiracy\", \"continues\", \"convicted\", \"coronavirus\", \"coronavirus\", \"coronavirus\", \"coronavirus\", \"could\", \"could\", \"could\", \"could\", \"could\", \"country\", \"country\", \"country\", \"country\", \"coup\", \"cover\", \"covid-19\", \"covid-19\", \"covid-19\", \"covid-19\", \"covid-19\", \"crisis\", \"crisis\", \"critical\", \"d.c.\", \"daily\", \"day\", \"day\", \"day\", \"day\", \"day\", \"death_toll\", \"december\", \"delivered\", \"delta\", \"democrat\", \"democrat\", \"democrat\", \"democrat\", \"democrat\", \"denied\", \"determine\", \"devastating\", \"developed\", \"development\", \"different\", \"different\", \"difficult\", \"donald_trump\", \"donald_trump\", \"donald_trump\", \"donald_trump\", \"donald_trump\", \"drama\", \"drink\", \"economy\", \"editorial\", \"education\", \"election\", \"election\", \"election\", \"election\", \"election_results\", \"end\", \"end\", \"end\", \"end\", \"end\", \"england\", \"essay\", \"exactly\", \"explain\", \"factor\", \"fallon\", \"federal\", \"federal\", \"federal\", \"federal\", \"federal\", \"film\", \"film\", \"film\", \"film\", \"financial\", \"first\", \"first\", \"first\", \"first\", \"first\", \"fit\", \"flag\", \"floor\", \"force\", \"force\", \"force\", \"force\", \"force\", \"foreign\", \"former\", \"former\", \"former\", \"former\", \"former\", \"fox\", \"fun\", \"fun\", \"gave\", \"gave\", \"gaza\", \"german\", \"get\", \"get\", \"get\", \"get\", \"get\", \"girl\", \"girl\", \"girl\", \"gold_medal\", \"gov\", \"gov\", \"gov\", \"government\", \"government\", \"government\", \"government\", \"government\", \"governor\", \"governor\", \"governor\", \"grand_slam\", \"green\", \"green\", \"green\", \"happy\", \"harm\", \"heading\", \"health\", \"health\", \"health\", \"historic\", \"hit\", \"hit\", \"hit\", \"hit\", \"hold\", \"holiday\", \"hospital\", \"hospital\", \"hospitalized\", \"host\", \"host\", \"host\", \"host\", \"house\", \"house\", \"house\", \"house\", \"house\", \"hurricane\", \"immigration\", \"impeachment\", \"include\", \"included\", \"increase\", \"increase\", \"individual\", \"infectious\", \"infrastructure\", \"insurrection\", \"insurrection\", \"insurrection\", \"international\", \"investigating\", \"investigator\", \"involving\", \"israel\", \"israeli\", \"jackson\", \"january_6\", \"january_6\", \"january_6\", \"january_6\", \"jennifer\", \"jimmy\", \"join\", \"joined\", \"journey\", \"kate\", \"kentucky\", \"killed\", \"killed\", \"killed\", \"killed\", \"killed\", \"korea\", \"lack\", \"las_vegas\", \"law\", \"law\", \"law\", \"law\", \"law\", \"law_enforcement\", \"lawmaker\", \"lawmaker\", \"leader\", \"leader\", \"leader\", \"leader\", \"leader\", \"league\", \"leaving\", \"leaving\", \"life\", \"life\", \"life\", \"life\", \"life\", \"like\", \"like\", \"like\", \"like\", \"live\", \"live\", \"lockdown\", \"long\", \"long\", \"long\", \"made\", \"made\", \"made\", \"made\", \"make\", \"make\", \"make\", \"make\", \"make\", \"man\", \"man\", \"man\", \"man\", \"man\", \"mandate\", \"manhattan\", \"many\", \"many\", \"many\", \"many\", \"mary\", \"massacre\", \"may\", \"may\", \"may\", \"may\", \"may\", \"member\", \"member\", \"member\", \"member\", \"member\", \"mile\", \"mile\", \"million\", \"million\", \"million\", \"million\", \"minority_leader\", \"montage\", \"mouth\", \"much\", \"much\", \"much\", \"music\", \"music\", \"music\", \"music\", \"muslim\", \"never\", \"never\", \"never\", \"new\", \"new\", \"new\", \"new\", \"new\", \"new_york\", \"new_york\", \"new_york\", \"new_york\", \"new_york\", \"nfl\", \"official\", \"official\", \"official\", \"official\", \"official\", \"oh\", \"olympic\", \"olympic\", \"one\", \"one\", \"one\", \"one\", \"one\", \"organization\", \"outrage\", \"outside\", \"palace\", \"pandemic\", \"pandemic\", \"pandemic\", \"pandemic\", \"pandemic\", \"passed\", \"path\", \"paul\", \"people\", \"people\", \"people\", \"people\", \"people\", \"per\", \"personal\", \"pet\", \"played\", \"plot\", \"police\", \"police\", \"police\", \"police\", \"police\", \"popular\", \"president\", \"president\", \"president\", \"president\", \"president\", \"president-elect\", \"president_joe\", \"president_joe\", \"president_joe\", \"president_joe\", \"press\", \"pressure\", \"pressure\", \"pretend\", \"pretty\", \"prevention\", \"prominent\", \"protest\", \"protest\", \"push\", \"quickly\", \"raise\", \"read\", \"reform\", \"refuse\", \"rejected\", \"rep.\", \"rep.\", \"rep.\", \"rep.\", \"report\", \"report\", \"reporting\", \"representative\", \"reps.\", \"republican\", \"republican\", \"republican\", \"republican\", \"republican\", \"responsibility\", \"right-wing\", \"right-wing\", \"rise\", \"risk\", \"rock\", \"roe_v.\", \"russian\", \"russian\", \"russian\", \"russian\", \"russian\", \"said\", \"said\", \"said\", \"said\", \"said\", \"san\", \"san_francisco\", \"say\", \"say\", \"say\", \"say\", \"say\", \"school\", \"school\", \"school\", \"school\", \"school\", \"scientist\", \"search\", \"season\", \"season\", \"season\", \"season\", \"second\", \"second\", \"second\", \"second\", \"second\", \"secretary\", \"secretary\", \"seeking\", \"senate\", \"senate\", \"senate\", \"sexual_assault\", \"shot\", \"shot\", \"shot\", \"shot\", \"shout\", \"show\", \"show\", \"show\", \"show\", \"show\", \"slammed\", \"snl\", \"solution\", \"something\", \"something\", \"something\", \"son\", \"son\", \"speaker\", \"staff\", \"standing\", \"star\", \"star\", \"star\", \"star\", \"star\", \"state\", \"state\", \"state\", \"state\", \"state\", \"stay\", \"still\", \"still\", \"still\", \"still\", \"still\", \"store\", \"storm\", \"storm\", \"storm\", \"student\", \"student\", \"student\", \"subpoena\", \"suggests\", \"summer\", \"summer\", \"summer\", \"supermarket\", \"supposed\", \"symptom\", \"take\", \"take\", \"take\", \"take\", \"take\", \"talking\", \"targeted\", \"team\", \"team\", \"team\", \"team\", \"ted\", \"tennessee\", \"theorist\", \"threatened\", \"threatening\", \"tiktok\", \"time\", \"time\", \"time\", \"time\", \"time\", \"tokyo\", \"told\", \"told\", \"told\", \"told\", \"told\", \"top\", \"top\", \"top\", \"top\", \"top\", \"tornado\", \"transgender\", \"travel\", \"tree\", \"trump\", \"trump\", \"trump\", \"trump\", \"trump\", \"tuesday\", \"tuesday\", \"tuesday\", \"tuesday\", \"twitter_users\", \"two\", \"two\", \"two\", \"two\", \"two\", \"ukrainian\", \"ukrainian\", \"vaccine\", \"vaccine\", \"vaccine\", \"vaccine\", \"version\", \"view\", \"vote\", \"vote\", \"vote\", \"wade\", \"wade\", \"war\", \"war\", \"war\", \"war\", \"water\", \"water\", \"water\", \"water\", \"way\", \"way\", \"way\", \"way\", \"way\", \"wear\", \"weisselberg\", \"west_virginia\", \"white\", \"white\", \"white\", \"william\", \"win\", \"win\", \"win\", \"winter\", \"winter_olympics\", \"within\", \"without\", \"without\", \"woman\", \"woman\", \"woman\", \"woman\", \"work\", \"work\", \"work\", \"worked\", \"working\", \"world\", \"world\", \"world\", \"world\", \"world\", \"worst\", \"would\", \"would\", \"would\", \"would\", \"would\", \"year\", \"year\", \"year\", \"year\", \"year\", \"you.s\", \"you.s\", \"you.s\", \"you.s\", \"you.s\", \"\\u2015\"]}, \"R\": 30, \"lambda.step\": 0.01, \"plot.opts\": {\"xlab\": \"PC1\", \"ylab\": \"PC2\"}, \"topic.order\": [3, 4, 5, 1, 2]};\n",
       "\n",
       "function LDAvis_load_lib(url, callback){\n",
       "  var s = document.createElement('script');\n",
       "  s.src = url;\n",
       "  s.async = true;\n",
       "  s.onreadystatechange = s.onload = callback;\n",
       "  s.onerror = function(){console.warn(\"failed to load library \" + url);};\n",
       "  document.getElementsByTagName(\"head\")[0].appendChild(s);\n",
       "}\n",
       "\n",
       "if(typeof(LDAvis) !== \"undefined\"){\n",
       "   // already loaded: just create the visualization\n",
       "   !function(LDAvis){\n",
       "       new LDAvis(\"#\" + \"ldavis_el8688120368618244996149312\", ldavis_el8688120368618244996149312_data);\n",
       "   }(LDAvis);\n",
       "}else if(typeof define === \"function\" && define.amd){\n",
       "   // require.js is available: use it to load d3/LDAvis\n",
       "   require.config({paths: {d3: \"https://d3js.org/d3.v5\"}});\n",
       "   require([\"d3\"], function(d3){\n",
       "      window.d3 = d3;\n",
       "      LDAvis_load_lib(\"https://cdn.jsdelivr.net/gh/bmabey/pyLDAvis@3.4.0/pyLDAvis/js/ldavis.v3.0.0.js\", function(){\n",
       "        new LDAvis(\"#\" + \"ldavis_el8688120368618244996149312\", ldavis_el8688120368618244996149312_data);\n",
       "      });\n",
       "    });\n",
       "}else{\n",
       "    // require.js not available: dynamically load d3 & LDAvis\n",
       "    LDAvis_load_lib(\"https://d3js.org/d3.v5.js\", function(){\n",
       "         LDAvis_load_lib(\"https://cdn.jsdelivr.net/gh/bmabey/pyLDAvis@3.4.0/pyLDAvis/js/ldavis.v3.0.0.js\", function(){\n",
       "                 new LDAvis(\"#\" + \"ldavis_el8688120368618244996149312\", ldavis_el8688120368618244996149312_data);\n",
       "            })\n",
       "         });\n",
       "}\n",
       "</script>"
      ],
      "text/plain": [
       "<IPython.core.display.HTML object>"
      ]
     },
     "execution_count": 209,
     "metadata": {},
     "output_type": "execute_result"
    }
   ],
   "source": [
    "doc_topic, topic_term, doc_lengths, term_frequency, vocab = ldaseq_5.dtm_vis(time=0, corpus=corpus)\n",
    "vis_wrapper = pyLDAvis.prepare(topic_term_dists=topic_term, doc_topic_dists=doc_topic, doc_lengths=doc_lengths, vocab=vocab, term_frequency=term_frequency)\n",
    "pyLDAvis.display(vis_wrapper)"
   ]
  },
  {
   "cell_type": "markdown",
   "id": "701674ab",
   "metadata": {},
   "source": [
    "## Categorical Analysis"
   ]
  },
  {
   "cell_type": "code",
   "execution_count": 210,
   "id": "5222c954",
   "metadata": {},
   "outputs": [
    {
     "name": "stdout",
     "output_type": "stream",
     "text": [
      "TECH\n",
      "\n",
      "Perplexity:  -9.07930790722985\n",
      "\n",
      "Coherence Score:  0.42051567907221266\n",
      "------------------\n",
      "SPORTS\n",
      "\n",
      "Perplexity:  -9.494707125653667\n",
      "\n",
      "Coherence Score:  0.369272701310683\n",
      "------------------\n",
      "ENTERTAINMENT\n",
      "\n",
      "Perplexity:  -9.707721086840019\n",
      "\n",
      "Coherence Score:  0.2961121408600636\n",
      "------------------\n",
      "POLITICS\n",
      "\n",
      "Perplexity:  -9.34584120259523\n",
      "\n",
      "Coherence Score:  0.4068725642768368\n",
      "------------------\n",
      "WEIRD NEWS\n",
      "\n",
      "Perplexity:  -9.317921612048345\n",
      "\n",
      "Coherence Score:  0.5167106045677361\n",
      "------------------\n",
      "ENVIRONMENT\n",
      "\n",
      "Perplexity:  -9.02438572588592\n",
      "\n",
      "Coherence Score:  0.4376982189097404\n",
      "------------------\n",
      "EDUCATION\n",
      "\n",
      "Perplexity:  -8.521927701263916\n",
      "\n",
      "Coherence Score:  0.38033668563799267\n",
      "------------------\n",
      "CRIME\n",
      "\n",
      "Perplexity:  -9.248667152903963\n",
      "\n",
      "Coherence Score:  0.4713933772669635\n",
      "------------------\n",
      "SCIENCE\n",
      "\n",
      "Perplexity:  -9.314006867106485\n",
      "\n",
      "Coherence Score:  0.46532119063151534\n",
      "------------------\n",
      "WELLNESS\n",
      "\n",
      "Perplexity:  -8.876995129335228\n",
      "\n",
      "Coherence Score:  0.25945750420561675\n",
      "------------------\n",
      "BUSINESS\n",
      "\n",
      "Perplexity:  -9.231941908874333\n",
      "\n",
      "Coherence Score:  0.2918345557675178\n",
      "------------------\n",
      "STYLE & BEAUTY\n",
      "\n",
      "Perplexity:  -9.137151572243695\n",
      "\n",
      "Coherence Score:  0.26675409505058983\n",
      "------------------\n",
      "FOOD & DRINK\n",
      "\n",
      "Perplexity:  -8.953677858388469\n",
      "\n",
      "Coherence Score:  0.2601955768649241\n",
      "------------------\n",
      "MEDIA\n",
      "\n",
      "Perplexity:  -9.21309059871271\n",
      "\n",
      "Coherence Score:  0.43372240439980503\n",
      "------------------\n",
      "QUEER VOICES\n",
      "\n",
      "Perplexity:  -9.246442078242715\n",
      "\n",
      "Coherence Score:  0.3318459921090421\n",
      "------------------\n",
      "HOME & LIVING\n",
      "\n",
      "Perplexity:  -8.982151718615293\n",
      "\n",
      "Coherence Score:  0.35041009106212156\n",
      "------------------\n",
      "WOMEN\n",
      "\n",
      "Perplexity:  -9.07854536871487\n",
      "\n",
      "Coherence Score:  0.31193655231842216\n",
      "------------------\n",
      "BLACK VOICES\n",
      "\n",
      "Perplexity:  -9.318464410997514\n",
      "\n",
      "Coherence Score:  0.3817338886161855\n",
      "------------------\n",
      "TRAVEL\n",
      "\n",
      "Perplexity:  -9.341015735154304\n",
      "\n",
      "Coherence Score:  0.31789637884401634\n",
      "------------------\n",
      "MONEY\n",
      "\n",
      "Perplexity:  -8.594772015372637\n",
      "\n",
      "Coherence Score:  0.4225702058959456\n",
      "------------------\n",
      "RELIGION\n",
      "\n",
      "Perplexity:  -9.02238185600498\n",
      "\n",
      "Coherence Score:  0.29543209830145933\n",
      "------------------\n"
     ]
    }
   ],
   "source": [
    "cats = ['TECH', 'SPORTS', 'ENTERTAINMENT', 'POLITICS', 'WEIRD NEWS',\n",
    "       'ENVIRONMENT', 'EDUCATION', 'CRIME', 'SCIENCE', 'WELLNESS',\n",
    "       'BUSINESS', 'STYLE & BEAUTY', 'FOOD & DRINK', 'MEDIA',\n",
    "       'QUEER VOICES', 'HOME & LIVING', 'WOMEN', 'BLACK VOICES', 'TRAVEL',\n",
    "       'MONEY', 'RELIGION']\n",
    "\n",
    "for cat in cats:\n",
    "    df = pd.read_json('News_Category_Dataset_v3.json', lines=True)\n",
    "    df = df[df['category'] == cat]\n",
    "    wnl = WordNetLemmatizer()\n",
    "    stop_words = set(stopwords.words('english'))\n",
    "\n",
    "    desc_cleaner_news = DataCleaner(df, 'short_description', stop_words, wnl)\n",
    "    cleaned_df_desc = desc_cleaner_news.clean()\n",
    "        # Create Dictionary\n",
    "    id2word = corpora.Dictionary(cleaned_df_desc['lemmatized_short_description'])\n",
    "\n",
    "    # Create Corpus\n",
    "    texts = cleaned_df_desc['lemmatized_short_description']\n",
    "\n",
    "    # Term Document Frequency\n",
    "    corpus = [id2word.doc2bow(text) for text in texts]\n",
    "    tp_mod = gensim.models.ldamodel.LdaModel(corpus=corpus,\n",
    "                                           id2word=id2word,\n",
    "                                           num_topics=5, \n",
    "                                           random_state=100,\n",
    "                                           update_every=1,\n",
    "                                           chunksize=100,\n",
    "                                           passes=10,\n",
    "                                           alpha='auto',\n",
    "                                           per_word_topics=True)\n",
    "    \n",
    "    print(cat)\n",
    "    # Compute Perplexity\n",
    "    print('\\nPerplexity: ', tp_mod.log_perplexity(corpus))  # a measure of how good the model is. lower the better.\n",
    "\n",
    "    # Compute Coherence Score\n",
    "    tp_mod_coh = CoherenceModel(model=tp_mod, texts= cleaned_df_desc['lemmatized_short_description'], dictionary=id2word, coherence='c_v')\n",
    "    tp_mod_sc = tp_mod_coh.get_coherence()\n",
    "    print('\\nCoherence Score: ', tp_mod_sc)\n",
    "    print('------------------')"
   ]
  },
  {
   "cell_type": "code",
   "execution_count": 224,
   "id": "898240b7",
   "metadata": {},
   "outputs": [
    {
     "name": "stdout",
     "output_type": "stream",
     "text": [
      "SCIENCE\n",
      "\n",
      "Perplexity:  -9.314006867106485\n",
      "\n",
      "Coherence Score:  0.46532119063151534\n",
      "------------------\n"
     ]
    }
   ],
   "source": [
    "cat = 'SCIENCE'\n",
    "df = pd.read_json('News_Category_Dataset_v3.json', lines=True)\n",
    "df = df[df['category'] == cat]\n",
    "wnl = WordNetLemmatizer()\n",
    "stop_words = set(stopwords.words('english'))\n",
    "\n",
    "desc_cleaner_news = DataCleaner(df, 'short_description', stop_words, wnl)\n",
    "cleaned_df_desc = desc_cleaner_news.clean()\n",
    "    # Create Dictionary\n",
    "id2word = corpora.Dictionary(cleaned_df_desc['lemmatized_short_description'])\n",
    "\n",
    "# Create Corpus\n",
    "texts = cleaned_df_desc['lemmatized_short_description']\n",
    "\n",
    "# Term Document Frequency\n",
    "corpus = [id2word.doc2bow(text) for text in texts]\n",
    "tp_mod = gensim.models.ldamodel.LdaModel(corpus=corpus,\n",
    "                                       id2word=id2word,\n",
    "                                       num_topics=5, \n",
    "                                       random_state=100,\n",
    "                                       update_every=1,\n",
    "                                       chunksize=100,\n",
    "                                       passes=10,\n",
    "                                       alpha='auto',\n",
    "                                       per_word_topics=True)\n",
    "\n",
    "print(cat)\n",
    "# Compute Perplexity\n",
    "print('\\nPerplexity: ', tp_mod.log_perplexity(corpus))  # a measure of how good the model is. lower the better.\n",
    "\n",
    "# Compute Coherence Score\n",
    "tp_mod_coh = CoherenceModel(model=tp_mod, texts= cleaned_df_desc['lemmatized_short_description'], dictionary=id2word, coherence='c_v')\n",
    "tp_mod_sc = tp_mod_coh.get_coherence()\n",
    "print('\\nCoherence Score: ', tp_mod_sc)\n",
    "print('------------------')\n",
    "tp_mod.save(\"bigram_lda_model_SCIENCE\")"
   ]
  },
  {
   "cell_type": "code",
   "execution_count": null,
   "id": "c4be79a9",
   "metadata": {},
   "outputs": [],
   "source": []
  }
 ],
 "metadata": {
  "kernelspec": {
   "display_name": "probstoch_conda",
   "language": "python",
   "name": "probstoch_conda"
  },
  "language_info": {
   "codemirror_mode": {
    "name": "ipython",
    "version": 3
   },
   "file_extension": ".py",
   "mimetype": "text/x-python",
   "name": "python",
   "nbconvert_exporter": "python",
   "pygments_lexer": "ipython3",
   "version": "3.10.12"
  }
 },
 "nbformat": 4,
 "nbformat_minor": 5
}
