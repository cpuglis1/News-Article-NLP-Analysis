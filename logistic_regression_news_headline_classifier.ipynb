{
 "cells": [
  {
   "cell_type": "code",
   "execution_count": 1,
   "id": "ba801f47",
   "metadata": {},
   "outputs": [
    {
     "name": "stderr",
     "output_type": "stream",
     "text": [
      "C:\\Users\\cep4u\\AppData\\Local\\Continuum\\anaconda3\\lib\\site-packages\\numpy\\_distributor_init.py:32: UserWarning: loaded more than 1 DLL from .libs:\n",
      "C:\\Users\\cep4u\\AppData\\Local\\Continuum\\anaconda3\\lib\\site-packages\\numpy\\.libs\\libopenblas.PYQHXLVVQ7VESDPUVUADXEVJOBGHJPAY.gfortran-win_amd64.dll\n",
      "C:\\Users\\cep4u\\AppData\\Local\\Continuum\\anaconda3\\lib\\site-packages\\numpy\\.libs\\libopenblas.XWYDX2IKJW2NMTWSFYNGFUWKQU3LYTCZ.gfortran-win_amd64.dll\n",
      "  stacklevel=1)\n"
     ]
    }
   ],
   "source": [
    "import pandas as pd\n",
    "from sklearn.preprocessing import LabelEncoder\n",
    "from sklearn.feature_extraction.text import TfidfVectorizer\n",
    "from sklearn.linear_model import LogisticRegression\n",
    "from sklearn.model_selection import train_test_split\n",
    "from sklearn.metrics import classification_report\n",
    "from sklearn.model_selection import train_test_split\n",
    "from sklearn.model_selection import KFold"
   ]
  },
  {
   "cell_type": "code",
   "execution_count": 2,
   "id": "957515d6",
   "metadata": {},
   "outputs": [],
   "source": [
    "# Define the TF-IDF vectorizer with desired parameters\n",
    "tfidf_vectorizer = TfidfVectorizer(tokenizer=lambda x: [word_pos[0] for word_pos in eval(x)],lowercase=False,stop_words=None)\n",
    "\n",
    "def tfidf_vectorize(data, column):\n",
    "    # Fit and transform the specified column\n",
    "    tfidf_vectors = tfidf_vectorizer.fit_transform(data[column])\n",
    "\n",
    "    # Return the resulting sparse matrix\n",
    "    return tfidf_vectors"
   ]
  },
  {
   "cell_type": "code",
   "execution_count": 3,
   "id": "26864c8b",
   "metadata": {},
   "outputs": [],
   "source": [
    "def train_model(X, y):\n",
    "    # Initialize a KFold object with 5 folds\n",
    "    kfold = KFold(n_splits=5, shuffle=True, random_state=42)\n",
    "\n",
    "    # Create lists to store the training history and trained models for each fold\n",
    "    models = []\n",
    "    \n",
    "    # Iterate over the folds and train the model on each one\n",
    "    for fold, (train_indices, val_indices) in enumerate(kfold.split(X, y)):\n",
    "        # Split the data into training and validation sets for this fold\n",
    "        X_train, y_train = X[train_indices], y[train_indices]\n",
    "        X_val, y_val = X[val_indices], y[val_indices]\n",
    "\n",
    "        # Create a svm model\n",
    "        model = LogisticRegression(random_state=42, multi_class=\"ovr\")\n",
    "\n",
    "          # Train the model on the input data\n",
    "        model.fit(X, y)\n",
    "\n",
    "        # Add the trained model and training history to the lists\n",
    "        models.append(model)\n",
    "\n",
    "    # Return the list of trained models and training histories\n",
    "    return models"
   ]
  },
  {
   "cell_type": "code",
   "execution_count": 4,
   "id": "cf12f13f",
   "metadata": {},
   "outputs": [],
   "source": [
    "df = pd.read_csv(\"C:\\\\Users\\\\cep4u\\\\JHU Classes\\\\Classes\\\\Spring 2023\\\\Theory of Machine Learning\\\\Group Project\\\\625.742-Theory-of-Machine-Learning\\\\News Category Dataset Cleaned 20230416.csv\")"
   ]
  },
  {
   "cell_type": "code",
   "execution_count": 5,
   "id": "723f8e5d",
   "metadata": {},
   "outputs": [],
   "source": [
    "categories = ['WELLNESS & HEALTH','ENTERTAINMENT','TRAVEL', 'STYLE & BEAUTY', 'PARENTING', 'QUEER VOICES', 'FOOD & DRINK']\n",
    "data = df[df['category'].isin(categories)]\n",
    "\n",
    "#sample equal subsets of 7 categories\n",
    "sampled_data = data.groupby('category', group_keys=False).apply(lambda x: x.sample(n=3000))\n",
    "\n",
    "# Encode the target variable\n",
    "label_encoder = LabelEncoder()\n",
    "y = label_encoder.fit_transform(sampled_data['category'])\n",
    "\n",
    "# Vectorize the text data using TF-IDF\n",
    "X_sparse = tfidf_vectorize(sampled_data, 'wordnet_pos_hdl')"
   ]
  },
  {
   "cell_type": "code",
   "execution_count": 6,
   "id": "c12e55a4",
   "metadata": {},
   "outputs": [],
   "source": [
    "# Withold validation set.\n",
    "X_train_sparse, X_val_sparse, y_train, y_val = train_test_split(X_sparse, y, test_size=0.2, random_state=12)\n",
    "\n",
    "# Convert the sparse matrices to dense arrays\n",
    "X = X_train_sparse.toarray()"
   ]
  },
  {
   "cell_type": "code",
   "execution_count": 7,
   "id": "fbd2826a",
   "metadata": {},
   "outputs": [],
   "source": [
    "# Train the support vector machine on the training data\n",
    "models = train_model(X, y_train)"
   ]
  },
  {
   "cell_type": "code",
   "execution_count": 8,
   "id": "22724382",
   "metadata": {},
   "outputs": [
    {
     "name": "stdout",
     "output_type": "stream",
     "text": [
      "Test accuracy: 0.7604761904761905\n"
     ]
    }
   ],
   "source": [
    "acc_avg = []\n",
    "X_val = X_val_sparse.toarray()\n",
    "for model in models: # Evaluate the model on the testing data\n",
    "    accuracy = model.score(X_val, y_val)\n",
    "    acc_avg.append(accuracy)\n",
    "    \n",
    "print('Test accuracy:', sum(acc_avg)/len(acc_avg))"
   ]
  },
  {
   "cell_type": "code",
   "execution_count": 9,
   "id": "480513e7",
   "metadata": {},
   "outputs": [
    {
     "name": "stdout",
     "output_type": "stream",
     "text": [
      "Test accuracy: 0.8972619047619048\n"
     ]
    }
   ],
   "source": [
    "acc_avg = []\n",
    "X_val = X_val_sparse.toarray()\n",
    "for model in models: # Evaluate the model on the testing data\n",
    "    accuracy = model.score(X, y_train)\n",
    "    acc_avg.append(accuracy)\n",
    "    \n",
    "print('Test accuracy:', sum(acc_avg)/len(acc_avg))"
   ]
  },
  {
   "cell_type": "code",
   "execution_count": null,
   "id": "1c3fcc60",
   "metadata": {},
   "outputs": [],
   "source": []
  }
 ],
 "metadata": {
  "kernelspec": {
   "display_name": "Python 3 (ipykernel)",
   "language": "python",
   "name": "python3"
  },
  "language_info": {
   "codemirror_mode": {
    "name": "ipython",
    "version": 3
   },
   "file_extension": ".py",
   "mimetype": "text/x-python",
   "name": "python",
   "nbconvert_exporter": "python",
   "pygments_lexer": "ipython3",
   "version": "3.11.5"
  }
 },
 "nbformat": 4,
 "nbformat_minor": 5
}
