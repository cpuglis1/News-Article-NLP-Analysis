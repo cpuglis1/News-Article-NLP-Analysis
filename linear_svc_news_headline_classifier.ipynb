{
 "cells": [
  {
   "cell_type": "code",
   "execution_count": 1,
   "id": "8df67670",
   "metadata": {},
   "outputs": [
    {
     "name": "stdout",
     "output_type": "stream",
     "text": [
      "importing pandas\n"
     ]
    },
    {
     "name": "stderr",
     "output_type": "stream",
     "text": [
      "C:\\Users\\cep4u\\AppData\\Local\\Continuum\\anaconda3\\lib\\site-packages\\numpy\\_distributor_init.py:32: UserWarning: loaded more than 1 DLL from .libs:\n",
      "C:\\Users\\cep4u\\AppData\\Local\\Continuum\\anaconda3\\lib\\site-packages\\numpy\\.libs\\libopenblas.PYQHXLVVQ7VESDPUVUADXEVJOBGHJPAY.gfortran-win_amd64.dll\n",
      "C:\\Users\\cep4u\\AppData\\Local\\Continuum\\anaconda3\\lib\\site-packages\\numpy\\.libs\\libopenblas.XWYDX2IKJW2NMTWSFYNGFUWKQU3LYTCZ.gfortran-win_amd64.dll\n",
      "  stacklevel=1)\n"
     ]
    },
    {
     "name": "stdout",
     "output_type": "stream",
     "text": [
      "importing svm\n"
     ]
    }
   ],
   "source": [
    "print('importing pandas')\n",
    "import pandas as pd\n",
    "from sklearn.preprocessing import LabelEncoder\n",
    "from sklearn.feature_extraction.text import TfidfVectorizer\n",
    "print('importing svm')\n",
    "from sklearn import svm\n",
    "from sklearn.model_selection import train_test_split\n",
    "from sklearn.model_selection import KFold"
   ]
  },
  {
   "cell_type": "code",
   "execution_count": 2,
   "id": "12ed1f56",
   "metadata": {},
   "outputs": [
    {
     "name": "stdout",
     "output_type": "stream",
     "text": [
      "defining vectorizer\n"
     ]
    }
   ],
   "source": [
    "print('defining vectorizer')\n",
    "tfidf_vectorizer = TfidfVectorizer(tokenizer=lambda x: [word_pos[0] for word_pos in eval(x)],lowercase=False,stop_words=None)\n",
    "\n",
    "def tfidf_vectorize(data, column):\n",
    "    tfidf_vectors = tfidf_vectorizer.fit_transform(data[column])\n",
    "\n",
    "    return tfidf_vectors"
   ]
  },
  {
   "cell_type": "code",
   "execution_count": 3,
   "id": "c7bac70e",
   "metadata": {},
   "outputs": [],
   "source": [
    "def train_model(X, y):\n",
    "    kfold = KFold(n_splits=5, shuffle=True, random_state=42)\n",
    "\n",
    "    models = []\n",
    "    \n",
    "    for fold, (train_indices, val_indices) in enumerate(kfold.split(X, y)):\n",
    "        X_train, y_train = X[train_indices], y[train_indices]\n",
    "        X_val, y_val = X[val_indices], y[val_indices]\n",
    "\n",
    "        model = svm.LinearSVC()\n",
    "\n",
    "        model.fit(X, y)\n",
    "\n",
    "        models.append(model)\n",
    "\n",
    "    return models"
   ]
  },
  {
   "cell_type": "code",
   "execution_count": 4,
   "id": "8c446a6d",
   "metadata": {},
   "outputs": [
    {
     "name": "stdout",
     "output_type": "stream",
     "text": [
      "importing data\n"
     ]
    }
   ],
   "source": [
    "print('importing data')\n",
    "df = pd.read_csv(\"News Category Dataset Cleaned 20230416.csv\")"
   ]
  },
  {
   "cell_type": "code",
   "execution_count": 5,
   "id": "4ae11e38",
   "metadata": {},
   "outputs": [
    {
     "name": "stdout",
     "output_type": "stream",
     "text": [
      "data imported\n",
      "vectorize sparce\n"
     ]
    }
   ],
   "source": [
    "categories = ['WELLNESS & HEALTH','ENTERTAINMENT','TRAVEL', 'STYLE & BEAUTY', 'PARENTING', 'QUEER VOICES', 'FOOD & DRINK']\n",
    "data = df[df['category'].isin(categories)]\n",
    "\n",
    "sampled_data = data.groupby('category', group_keys=False).apply(lambda x: x.sample(n=3000))\n",
    "print(\"data imported\")\n",
    "\n",
    "label_encoder = LabelEncoder()\n",
    "y = label_encoder.fit_transform(sampled_data['category'])\n",
    "print(\"vectorize sparce\")\n",
    "\n",
    "X_sparse = tfidf_vectorize(sampled_data, 'wordnet_pos_desc')"
   ]
  },
  {
   "cell_type": "code",
   "execution_count": 6,
   "id": "9ae8aa8b",
   "metadata": {},
   "outputs": [
    {
     "data": {
      "text/plain": [
       "<21000x31309 sparse matrix of type '<class 'numpy.float64'>'\n",
       "\twith 248843 stored elements in Compressed Sparse Row format>"
      ]
     },
     "execution_count": 6,
     "metadata": {},
     "output_type": "execute_result"
    }
   ],
   "source": [
    "X_sparse"
   ]
  },
  {
   "cell_type": "code",
   "execution_count": 7,
   "id": "22f04d5b",
   "metadata": {},
   "outputs": [
    {
     "name": "stdout",
     "output_type": "stream",
     "text": [
      "data to array\n"
     ]
    }
   ],
   "source": [
    "# Withold validation set.\n",
    "X_train_sparse, X_val_sparse, y_train, y_val = train_test_split(X_sparse, y, test_size=0.2, random_state=12)\n",
    "\n",
    "print(\"data to array\")\n",
    "# Convert the sparse matrices to dense arrays\n",
    "X = X_train_sparse.toarray()"
   ]
  },
  {
   "cell_type": "code",
   "execution_count": 8,
   "id": "0f84f354",
   "metadata": {},
   "outputs": [
    {
     "name": "stdout",
     "output_type": "stream",
     "text": [
      "train model\n"
     ]
    }
   ],
   "source": [
    "print(\"train model\")\n",
    "# Train the support vector machine on the training data\n",
    "models = train_model(X, y_train)"
   ]
  },
  {
   "cell_type": "code",
   "execution_count": 9,
   "id": "9b6f3dc3",
   "metadata": {},
   "outputs": [
    {
     "name": "stdout",
     "output_type": "stream",
     "text": [
      "Test accuracy: 0.6323809523809524\n"
     ]
    }
   ],
   "source": [
    "acc_avg = []\n",
    "X_val = X_val_sparse.toarray()\n",
    "for model in models: # Evaluate the model on the testing data\n",
    "    accuracy = model.score(X_val, y_val)\n",
    "    acc_avg.append(accuracy)\n",
    "    \n",
    "print('Test accuracy:', sum(acc_avg)/len(acc_avg))"
   ]
  },
  {
   "cell_type": "code",
   "execution_count": null,
   "id": "3171c763",
   "metadata": {},
   "outputs": [],
   "source": []
  }
 ],
 "metadata": {
  "kernelspec": {
   "display_name": "Python 3 (ipykernel)",
   "language": "python",
   "name": "python3"
  },
  "language_info": {
   "codemirror_mode": {
    "name": "ipython",
    "version": 3
   },
   "file_extension": ".py",
   "mimetype": "text/x-python",
   "name": "python",
   "nbconvert_exporter": "python",
   "pygments_lexer": "ipython3",
   "version": "3.11.5"
  }
 },
 "nbformat": 4,
 "nbformat_minor": 5
}
