{
 "cells": [
  {
   "cell_type": "code",
   "execution_count": 12,
   "metadata": {},
   "outputs": [],
   "source": [
    "import pandas as pd\n",
    "import matplotlib.pyplot as plt\n",
    "from sklearn.preprocessing import LabelEncoder\n",
    "from sklearn.feature_extraction.text import TfidfVectorizer\n",
    "import tensorflow as tf\n",
    "from tensorflow import keras\n",
    "from sklearn.model_selection import train_test_split\n",
    "import matplotlib.pyplot as plt\n",
    "from sklearn.model_selection import KFold"
   ]
  },
  {
   "cell_type": "code",
   "execution_count": 13,
   "metadata": {},
   "outputs": [],
   "source": [
    "tfidf_vectorizer = TfidfVectorizer(tokenizer=lambda x: [word_pos[0] for word_pos in eval(x)],\n",
    "                                   lowercase=False,\n",
    "                                   stop_words=None)\n",
    "\n",
    "def tfidf_vectorize(data, column):\n",
    "    tfidf_vectors = tfidf_vectorizer.fit_transform(data[column])\n",
    "\n",
    "    return tfidf_vectors"
   ]
  },
  {
   "cell_type": "code",
   "execution_count": 14,
   "metadata": {},
   "outputs": [],
   "source": [
    "def train_model(X, y, num_classes):\n",
    "    kfold = KFold(n_splits=5, shuffle=True, random_state=42)\n",
    "\n",
    "    histories = []\n",
    "    models = []\n",
    "\n",
    "    for fold, (train_indices, val_indices) in enumerate(kfold.split(X, y)):\n",
    "        X_train, y_train = X[train_indices], y[train_indices]\n",
    "        X_val, y_val = X[val_indices], y[val_indices]\n",
    "\n",
    "        model = keras.Sequential([\n",
    "            keras.layers.Dense(units=num_classes, activation='softmax', input_shape=(X.shape[1],))\n",
    "        ])\n",
    "\n",
    "        model.compile(loss='categorical_crossentropy', optimizer='adam', metrics=['accuracy'])\n",
    "\n",
    "        history = model.fit(X_train, y_train, validation_data=(X_val, y_val), epochs=10, batch_size=32)\n",
    "\n",
    "        models.append(model)\n",
    "        histories.append(history)\n",
    "        \n",
    "    return models, histories"
   ]
  },
  {
   "cell_type": "code",
   "execution_count": 15,
   "metadata": {},
   "outputs": [],
   "source": [
    "df = pd.read_csv(\"\\625.742-Theory-of-Machine-Learning\\\\News Category Dataset Cleaned 20230416.csv\")"
   ]
  },
  {
   "cell_type": "code",
   "execution_count": 16,
   "metadata": {},
   "outputs": [],
   "source": [
    "categories = ['WELLNESS & HEALTH','ENTERTAINMENT','TRAVEL', 'STYLE & BEAUTY', 'PARENTING', 'QUEER VOICES', 'FOOD & DRINK']\n",
    "data = df[df['category'].isin(categories)]\n",
    "\n",
    "sampled_data = data.groupby('category', group_keys=False).apply(lambda x: x.sample(n=3000))\n",
    "\n",
    "label_encoder = LabelEncoder()\n",
    "y = label_encoder.fit_transform(sampled_data['category'])\n",
    "\n",
    "X_sparse = tfidf_vectorize(sampled_data, 'wordnet_pos_desc')"
   ]
  },
  {
   "cell_type": "code",
   "execution_count": 17,
   "metadata": {},
   "outputs": [],
   "source": [
    "X_train_sparse, X_val_sparse, y_train, y_val = train_test_split(X_sparse, y, test_size=0.2, random_state=12)\n",
    "\n",
    "X = X_train_sparse.toarray()\n",
    "\n",
    "num_classes = len(label_encoder.classes_)\n",
    "y_onehot = keras.utils.to_categorical(y_train, num_classes)"
   ]
  },
  {
   "cell_type": "code",
   "execution_count": 18,
   "metadata": {},
   "outputs": [
    {
     "name": "stdout",
     "output_type": "stream",
     "text": [
      "Train on 13440 samples, validate on 3360 samples\n",
      "Epoch 1/10\n",
      "13440/13440 [==============================] - 4s 333us/sample - loss: 1.9034 - accuracy: 0.4725 - val_loss: 1.8620 - val_accuracy: 0.5631\n",
      "Epoch 2/10\n",
      "13440/13440 [==============================] - 4s 295us/sample - loss: 1.7834 - accuracy: 0.7493 - val_loss: 1.7859 - val_accuracy: 0.6080\n",
      "Epoch 3/10\n",
      "13440/13440 [==============================] - 4s 290us/sample - loss: 1.6717 - accuracy: 0.7988 - val_loss: 1.7173 - val_accuracy: 0.6190\n",
      "Epoch 4/10\n",
      "13440/13440 [==============================] - 4s 289us/sample - loss: 1.5689 - accuracy: 0.8202 - val_loss: 1.6556 - val_accuracy: 0.6214\n",
      "Epoch 5/10\n",
      "13440/13440 [==============================] - 4s 316us/sample - loss: 1.4746 - accuracy: 0.8312 - val_loss: 1.6002 - val_accuracy: 0.6223\n",
      "Epoch 6/10\n",
      "13440/13440 [==============================] - 4s 293us/sample - loss: 1.3882 - accuracy: 0.8367 - val_loss: 1.5499 - val_accuracy: 0.6256\n",
      "Epoch 7/10\n",
      "13440/13440 [==============================] - 4s 294us/sample - loss: 1.3091 - accuracy: 0.8432 - val_loss: 1.5044 - val_accuracy: 0.6289\n",
      "Epoch 8/10\n",
      "13440/13440 [==============================] - 4s 299us/sample - loss: 1.2366 - accuracy: 0.8478 - val_loss: 1.4634 - val_accuracy: 0.6321\n",
      "Epoch 9/10\n",
      "13440/13440 [==============================] - 4s 292us/sample - loss: 1.1702 - accuracy: 0.8532 - val_loss: 1.4262 - val_accuracy: 0.6336\n",
      "Epoch 10/10\n",
      "13440/13440 [==============================] - 5s 387us/sample - loss: 1.1094 - accuracy: 0.8573 - val_loss: 1.3926 - val_accuracy: 0.6333\n",
      "Train on 13440 samples, validate on 3360 samples\n",
      "Epoch 1/10\n",
      "13440/13440 [==============================] - 6s 411us/sample - loss: 1.9041 - accuracy: 0.4916 - val_loss: 1.8601 - val_accuracy: 0.5940\n",
      "Epoch 2/10\n",
      "13440/13440 [==============================] - 4s 295us/sample - loss: 1.7846 - accuracy: 0.7585 - val_loss: 1.7830 - val_accuracy: 0.6196\n",
      "Epoch 3/10\n",
      "13440/13440 [==============================] - 4s 318us/sample - loss: 1.6731 - accuracy: 0.8024 - val_loss: 1.7136 - val_accuracy: 0.6280\n",
      "Epoch 4/10\n",
      "13440/13440 [==============================] - 4s 310us/sample - loss: 1.5704 - accuracy: 0.8237 - val_loss: 1.6511 - val_accuracy: 0.6310\n",
      "Epoch 5/10\n",
      "13440/13440 [==============================] - 4s 302us/sample - loss: 1.4763 - accuracy: 0.8320 - val_loss: 1.5951 - val_accuracy: 0.6318\n",
      "Epoch 6/10\n",
      "13440/13440 [==============================] - 5s 340us/sample - loss: 1.3900 - accuracy: 0.8397 - val_loss: 1.5445 - val_accuracy: 0.6310\n",
      "Epoch 7/10\n",
      "13440/13440 [==============================] - 4s 297us/sample - loss: 1.3108 - accuracy: 0.8467 - val_loss: 1.4983 - val_accuracy: 0.6351\n",
      "Epoch 8/10\n",
      "13440/13440 [==============================] - 4s 326us/sample - loss: 1.2383 - accuracy: 0.8507 - val_loss: 1.4571 - val_accuracy: 0.6357\n",
      "Epoch 9/10\n",
      "13440/13440 [==============================] - 4s 329us/sample - loss: 1.1719 - accuracy: 0.8571 - val_loss: 1.4200 - val_accuracy: 0.6375\n",
      "Epoch 10/10\n",
      "13440/13440 [==============================] - 4s 309us/sample - loss: 1.1110 - accuracy: 0.8617 - val_loss: 1.3858 - val_accuracy: 0.6390\n",
      "Train on 13440 samples, validate on 3360 samples\n",
      "Epoch 1/10\n",
      "13440/13440 [==============================] - 5s 335us/sample - loss: 1.9036 - accuracy: 0.4754 - val_loss: 1.8631 - val_accuracy: 0.5634\n",
      "Epoch 2/10\n",
      "13440/13440 [==============================] - 4s 297us/sample - loss: 1.7833 - accuracy: 0.7368 - val_loss: 1.7874 - val_accuracy: 0.6110\n",
      "Epoch 3/10\n",
      "13440/13440 [==============================] - 4s 334us/sample - loss: 1.6713 - accuracy: 0.7997 - val_loss: 1.7188 - val_accuracy: 0.6208\n",
      "Epoch 4/10\n",
      "13440/13440 [==============================] - 4s 303us/sample - loss: 1.5683 - accuracy: 0.8193 - val_loss: 1.6571 - val_accuracy: 0.6229\n",
      "Epoch 5/10\n",
      "13440/13440 [==============================] - 4s 304us/sample - loss: 1.4739 - accuracy: 0.8318 - val_loss: 1.6014 - val_accuracy: 0.6247\n",
      "Epoch 6/10\n",
      "13440/13440 [==============================] - 4s 304us/sample - loss: 1.3875 - accuracy: 0.8395 - val_loss: 1.5509 - val_accuracy: 0.6268\n",
      "Epoch 7/10\n",
      "13440/13440 [==============================] - 4s 320us/sample - loss: 1.3083 - accuracy: 0.8452 - val_loss: 1.5053 - val_accuracy: 0.6277\n",
      "Epoch 8/10\n",
      "13440/13440 [==============================] - 4s 301us/sample - loss: 1.2357 - accuracy: 0.8489 - val_loss: 1.4641 - val_accuracy: 0.6277\n",
      "Epoch 9/10\n",
      "13440/13440 [==============================] - 4s 302us/sample - loss: 1.1693 - accuracy: 0.8545 - val_loss: 1.4269 - val_accuracy: 0.6265\n",
      "Epoch 10/10\n",
      "13440/13440 [==============================] - 4s 298us/sample - loss: 1.1083 - accuracy: 0.8593 - val_loss: 1.3933 - val_accuracy: 0.6274\n",
      "Train on 13440 samples, validate on 3360 samples\n",
      "Epoch 1/10\n",
      "13440/13440 [==============================] - 5s 356us/sample - loss: 1.9042 - accuracy: 0.4774 - val_loss: 1.8614 - val_accuracy: 0.5949\n",
      "Epoch 2/10\n",
      "13440/13440 [==============================] - 4s 295us/sample - loss: 1.7847 - accuracy: 0.7376 - val_loss: 1.7845 - val_accuracy: 0.6048\n",
      "Epoch 3/10\n",
      "13440/13440 [==============================] - 4s 293us/sample - loss: 1.6730 - accuracy: 0.7810 - val_loss: 1.7153 - val_accuracy: 0.5976\n",
      "Epoch 4/10\n",
      "13440/13440 [==============================] - 4s 302us/sample - loss: 1.5701 - accuracy: 0.8113 - val_loss: 1.6531 - val_accuracy: 0.6283\n",
      "Epoch 5/10\n",
      "13440/13440 [==============================] - 5s 335us/sample - loss: 1.4757 - accuracy: 0.8291 - val_loss: 1.5969 - val_accuracy: 0.6333\n",
      "Epoch 6/10\n",
      "13440/13440 [==============================] - 4s 292us/sample - loss: 1.3892 - accuracy: 0.8361 - val_loss: 1.5464 - val_accuracy: 0.6333\n",
      "Epoch 7/10\n",
      "13440/13440 [==============================] - 4s 304us/sample - loss: 1.3100 - accuracy: 0.8426 - val_loss: 1.5006 - val_accuracy: 0.6336\n",
      "Epoch 8/10\n",
      "13440/13440 [==============================] - 5s 335us/sample - loss: 1.2375 - accuracy: 0.8476 - val_loss: 1.4592 - val_accuracy: 0.6351\n",
      "Epoch 9/10\n",
      "13440/13440 [==============================] - 4s 332us/sample - loss: 1.1711 - accuracy: 0.8536 - val_loss: 1.4219 - val_accuracy: 0.6351\n",
      "Epoch 10/10\n",
      "13440/13440 [==============================] - 5s 396us/sample - loss: 1.1101 - accuracy: 0.8574 - val_loss: 1.3881 - val_accuracy: 0.6378\n",
      "Train on 13440 samples, validate on 3360 samples\n",
      "Epoch 1/10\n",
      "13440/13440 [==============================] - 5s 379us/sample - loss: 1.9042 - accuracy: 0.4685 - val_loss: 1.8604 - val_accuracy: 0.5711\n",
      "Epoch 2/10\n",
      "13440/13440 [==============================] - 3s 254us/sample - loss: 1.7845 - accuracy: 0.7405 - val_loss: 1.7822 - val_accuracy: 0.6012\n",
      "Epoch 3/10\n",
      "13440/13440 [==============================] - 3s 256us/sample - loss: 1.6724 - accuracy: 0.8031 - val_loss: 1.7129 - val_accuracy: 0.6071\n",
      "Epoch 4/10\n",
      "13440/13440 [==============================] - 3s 260us/sample - loss: 1.5691 - accuracy: 0.8235 - val_loss: 1.6509 - val_accuracy: 0.6110\n",
      "Epoch 5/10\n",
      "13440/13440 [==============================] - 4s 267us/sample - loss: 1.4743 - accuracy: 0.8348 - val_loss: 1.5953 - val_accuracy: 0.6146\n",
      "Epoch 6/10\n",
      "13440/13440 [==============================] - 3s 252us/sample - loss: 1.3874 - accuracy: 0.8419 - val_loss: 1.5456 - val_accuracy: 0.6170\n",
      "Epoch 7/10\n",
      "13440/13440 [==============================] - 3s 251us/sample - loss: 1.3079 - accuracy: 0.8465 - val_loss: 1.5006 - val_accuracy: 0.6155\n",
      "Epoch 8/10\n",
      "13440/13440 [==============================] - 3s 250us/sample - loss: 1.2350 - accuracy: 0.8529 - val_loss: 1.4600 - val_accuracy: 0.6182\n",
      "Epoch 9/10\n",
      "13440/13440 [==============================] - 4s 263us/sample - loss: 1.1682 - accuracy: 0.8552 - val_loss: 1.4234 - val_accuracy: 0.6199\n",
      "Epoch 10/10\n",
      "13440/13440 [==============================] - 4s 333us/sample - loss: 1.1070 - accuracy: 0.8592 - val_loss: 1.3906 - val_accuracy: 0.6214\n"
     ]
    }
   ],
   "source": [
    "models, histories = train_model(X, y_onehot, num_classes)"
   ]
  },
  {
   "cell_type": "code",
   "execution_count": 19,
   "metadata": {},
   "outputs": [
    {
     "data": {
      "image/png": "[encoded data removed]",
      "text/plain": [
       "<Figure size 640x480 with 1 Axes>"
      ]
     },
     "metadata": {},
     "output_type": "display_data"
    }
   ],
   "source": [
    "for fold, history in enumerate(histories):\n",
    "    plt.plot(history.history['loss'], label=f\"Fold {fold + 1}\")\n",
    "plt.title('Training Loss')\n",
    "plt.xlabel('Epoch')\n",
    "plt.ylabel('Loss')\n",
    "plt.legend()\n",
    "plt.show()"
   ]
  },
  {
   "cell_type": "code",
   "execution_count": 20,
   "metadata": {},
   "outputs": [
    {
     "name": "stdout",
     "output_type": "stream",
     "text": [
      "4200/4200 [==============================] - 2s 420us/sample - loss: 1.3963 - accuracy: 0.6336\n",
      "4200/4200 [==============================] - 1s 203us/sample - loss: 1.3969 - accuracy: 0.6307\n",
      "4200/4200 [==============================] - 1s 214us/sample - loss: 1.3971 - accuracy: 0.6345\n",
      "4200/4200 [==============================] - 1s 189us/sample - loss: 1.3984 - accuracy: 0.6338\n",
      "4200/4200 [==============================] - 1s 185us/sample - loss: 1.3964 - accuracy: 0.6305\n",
      "Test loss: 1.3970149636041551\n",
      "Test accuracy: 0.632619047164917\n"
     ]
    }
   ],
   "source": [
    "loss_avg = []\n",
    "acc_avg = []\n",
    "X_val = X_val_sparse.toarray()\n",
    "y_onehot_val = keras.utils.to_categorical(y_val, num_classes)\n",
    "for model in models:\n",
    "    loss, accuracy = model.evaluate(X_val, y_onehot_val)\n",
    "    loss_avg.append(loss)\n",
    "    acc_avg.append(accuracy)\n",
    "    \n",
    "print('Test loss:', sum(loss_avg)/len(loss_avg))\n",
    "print('Test accuracy:', sum(acc_avg)/len(acc_avg))"
   ]
  },
  {
   "cell_type": "code",
   "execution_count": null,
   "metadata": {},
   "outputs": [],
   "source": []
  }
 ],
 "metadata": {
  "kernelspec": {
   "display_name": "Python 3 (ipykernel)",
   "language": "python",
   "name": "python3"
  },
  "language_info": {
   "codemirror_mode": {
    "name": "ipython",
    "version": 3
   },
   "file_extension": ".py",
   "mimetype": "text/x-python",
   "name": "python",
   "nbconvert_exporter": "python",
   "pygments_lexer": "ipython3",
   "version": "3.11.5"
  }
 },
 "nbformat": 4,
 "nbformat_minor": 4
}
